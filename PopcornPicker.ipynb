{
 "cells": [
  {
   "cell_type": "code",
   "execution_count": 1,
   "metadata": {},
   "outputs": [],
   "source": [
    "# Importing libraries needed to scrape\n",
    "import requests\n",
    "from bs4 import BeautifulSoup\n",
    "import pandas as pd\n",
    "import re\n",
    "# This will be heavily commented as you can imagine it's easy to forget a python library lol"
   ]
  },
  {
   "cell_type": "code",
   "execution_count": 2,
   "metadata": {},
   "outputs": [
    {
     "data": {
      "text/plain": [
       "200"
      ]
     },
     "execution_count": 2,
     "metadata": {},
     "output_type": "execute_result"
    }
   ],
   "source": [
    "needed_headers = {'User-Agent': 'Mozilla/5.0 (Windows NT 10.0; Win64; x64) AppleWebKit/537.36 (KHTML, like Gecko) Chrome/91.0.4472.124 Safari/537.36'}\n",
    "\n",
    "res = requests.get(\"https://www.themoviedb.org/movie\", headers=needed_headers)\n",
    "res.status_code\n",
    "# An exit status of 200 means OK :)\n"
   ]
  },
  {
   "cell_type": "code",
   "execution_count": 3,
   "metadata": {},
   "outputs": [],
   "source": [
    "# Creating an instance of the BeautifulSoup class\n",
    "# also im going to be using lxml instead of the conventional html.parser lets see how that goes\n",
    "soup = BeautifulSoup(res.text, \"lxml\")\n",
    "\n",
    "# We won't call soup for our own sanity!"
   ]
  },
  {
   "cell_type": "code",
   "execution_count": 4,
   "metadata": {},
   "outputs": [
    {
     "name": "stdout",
     "output_type": "stream",
     "text": [
      "Popular Movies \n"
     ]
    }
   ],
   "source": [
    "web_content = soup.get_text().strip()\n",
    "# using .strip() right now gets rid of trailing whitespaces but not leading??? wtf? will figure out\n",
    "print(web_content[:15])"
   ]
  },
  {
   "cell_type": "markdown",
   "metadata": {},
   "source": [
    "### Extracting the title of the web page using various methods:"
   ]
  },
  {
   "cell_type": "code",
   "execution_count": 5,
   "metadata": {},
   "outputs": [
    {
     "data": {
      "text/plain": [
       "<title>Popular Movies — The Movie Database (TMDB)</title>"
      ]
     },
     "execution_count": 5,
     "metadata": {},
     "output_type": "execute_result"
    }
   ],
   "source": [
    "# Extracting title\n",
    "soup.title\n"
   ]
  },
  {
   "cell_type": "code",
   "execution_count": 6,
   "metadata": {},
   "outputs": [
    {
     "data": {
      "text/plain": [
       "'Popular Movies — The Movie Database (TMDB)'"
      ]
     },
     "execution_count": 6,
     "metadata": {},
     "output_type": "execute_result"
    }
   ],
   "source": [
    "# Another method of fetching the title\n",
    "soup.select(\"title\")[0].getText()"
   ]
  },
  {
   "cell_type": "markdown",
   "metadata": {},
   "source": [
    "### We will use functions to help ease our workflow:"
   ]
  },
  {
   "cell_type": "code",
   "execution_count": 7,
   "metadata": {},
   "outputs": [],
   "source": [
    "# Generalizing initial task with the help of functional stuff\n",
    "def vaccum(url: str) -> BeautifulSoup:\n",
    "    try:\n",
    "        # I am not a robot lmao\n",
    "        needed_headers = {'User-Agent': 'Mozilla/5.0 (Windows NT 10.0; Win64; x64) AppleWebKit/537.36 (KHTML, like Gecko) Chrome/91.0.4472.124 Safari/537.36'}\n",
    "        res_func = requests.get(url,headers=needed_headers)\n",
    "\n",
    "        # Raise exception if status code is 5xx or 4xx\n",
    "        res_func.raise_for_status()\n",
    "\n",
    "        return BeautifulSoup(res_func.text, \"lxml\")\n",
    "    \n",
    "    except requests.exceptions.RequestException as e:\n",
    "        # Catch all request-related errors \n",
    "        print(f\"An Error occured!: {e}\")\n",
    "        return None\n",
    "    \n",
    "    finally:\n",
    "        print(\"Excecution FIN\")"
   ]
  },
  {
   "cell_type": "code",
   "execution_count": 8,
   "metadata": {},
   "outputs": [
    {
     "name": "stdout",
     "output_type": "stream",
     "text": [
      "Excecution FIN\n"
     ]
    }
   ],
   "source": [
    "# test case 1: a working url\n",
    "vaccumed = vaccum(\"https://www.themoviedb.org/movie\")\n",
    "# This works, won't call it for obvious reasons haha"
   ]
  },
  {
   "cell_type": "code",
   "execution_count": 9,
   "metadata": {},
   "outputs": [
    {
     "name": "stdout",
     "output_type": "stream",
     "text": [
      "An Error occured!: HTTPSConnectionPool(host='www.themovipepepe.org', port=443): Max retries exceeded with url: /what (Caused by NameResolutionError(\"<urllib3.connection.HTTPSConnection object at 0x0000017DE9E24620>: Failed to resolve 'www.themovipepepe.org' ([Errno 11001] getaddrinfo failed)\"))\n",
      "Excecution FIN\n"
     ]
    }
   ],
   "source": [
    "# test case 2: malformed/incorrect URLs\n",
    "vaccum(\"https://www.themovipepepe.org/what\")"
   ]
  },
  {
   "cell_type": "code",
   "execution_count": 10,
   "metadata": {},
   "outputs": [
    {
     "data": {
      "text/plain": [
       "'Sonic the Hedgehog 3'"
      ]
     },
     "execution_count": 10,
     "metadata": {},
     "output_type": "execute_result"
    }
   ],
   "source": [
    "# Displaying the name of the first movie\n",
    "first_movie = soup.select(\".content h2\")[3].getText()\n",
    "first_movie"
   ]
  },
  {
   "cell_type": "code",
   "execution_count": 11,
   "metadata": {},
   "outputs": [
    {
     "name": "stdout",
     "output_type": "stream",
     "text": [
      "User score of the movie: Sonic the Hedgehog 3 is 79%\n"
     ]
    }
   ],
   "source": [
    "# Extracting User rating of the first movie\n",
    "span_class = soup.select_one(\".user_score_chart .icon\")['class'][1]\n",
    "span_class\n",
    "perc1 = span_class.split(\"icon-r\")[1]\n",
    "print(f\"User score of the movie: {first_movie} is {perc1}%\")\n",
    "\n",
    "\n"
   ]
  },
  {
   "cell_type": "code",
   "execution_count": 12,
   "metadata": {},
   "outputs": [
    {
     "data": {
      "text/plain": [
       "'movie/939243'"
      ]
     },
     "execution_count": 12,
     "metadata": {},
     "output_type": "execute_result"
    }
   ],
   "source": [
    "# we're gonna use regex for extracting the part of the url following the string “https://www.themoviedb.org/” \n",
    "text = str(soup.select(\".content h2\"))\n",
    "match = re.search(r'movie/\\d\\d\\d\\d\\d\\d',text)\n",
    "match.group()\n",
    "# This is going to help us later (i think)"
   ]
  },
  {
   "cell_type": "code",
   "execution_count": 13,
   "metadata": {},
   "outputs": [
    {
     "data": {
      "text/plain": [
       "['Sonic the Hedgehog 3',\n",
       " 'Moana 2',\n",
       " 'Kraven the Hunter',\n",
       " 'बैक इन ऐक्शन',\n",
       " 'Alarum',\n",
       " 'Nosferatu',\n",
       " 'Mufasa: The Lion King',\n",
       " 'The Gardener',\n",
       " 'Devara: Part 1',\n",
       " 'Gladiator II',\n",
       " 'Venom: The Last Dance',\n",
       " 'Werewolves',\n",
       " 'Kingdom IV: Return of the Great General',\n",
       " 'Sniper: The Last Stand',\n",
       " 'Number 24',\n",
       " 'The Substance',\n",
       " 'Red One',\n",
       " 'Le clitoris',\n",
       " 'Aftermath',\n",
       " 'Wicked']"
      ]
     },
     "execution_count": 13,
     "metadata": {},
     "output_type": "execute_result"
    }
   ],
   "source": [
    "# Grabbing the title of all the movies\n",
    "def title_grabber(soup: BeautifulSoup) -> list:\n",
    "    titles = []\n",
    "    movies = soup.select(\".content h2\")[3:]\n",
    "    for movie in movies:\n",
    "        a_tag = movie.find(\"a\", title = True)\n",
    "        if a_tag:\n",
    "            titles.append(a_tag[\"title\"])\n",
    "    return titles\n",
    "    \n",
    "        \n",
    "title_grabber(vaccumed)"
   ]
  },
  {
   "cell_type": "code",
   "execution_count": 25,
   "metadata": {},
   "outputs": [
    {
     "data": {
      "text/plain": [
       "['79',\n",
       " '72',\n",
       " '66',\n",
       " '67',\n",
       " '57',\n",
       " '66',\n",
       " '75',\n",
       " '61',\n",
       " '70',\n",
       " '68',\n",
       " '68',\n",
       " '62',\n",
       " '73',\n",
       " '70',\n",
       " '73',\n",
       " '71',\n",
       " '71',\n",
       " '64',\n",
       " '63',\n",
       " '69']"
      ]
     },
     "execution_count": 25,
     "metadata": {},
     "output_type": "execute_result"
    }
   ],
   "source": [
    "# Grabbing the user ratings of all the movies in a page\n",
    "def rating_grabber(soup: BeautifulSoup) -> list:\n",
    "    user_score = []\n",
    "    scores = soup.select(\".content .user_score_chart\")\n",
    "\n",
    "    for score in scores:\n",
    "        # edge case\n",
    "        if score is None:\n",
    "            user_score.append(\"No rating\")\n",
    "        else:\n",
    "            percent = score[\"data-percent\"]\n",
    "            user_score.append(percent)\n",
    "        \n",
    "        \n",
    "\n",
    "    return user_score\n",
    "rating_grabber(vaccumed)"
   ]
  },
  {
   "cell_type": "code",
   "execution_count": 15,
   "metadata": {},
   "outputs": [
    {
     "data": {
      "text/plain": [
       "[<h2>Sort</h2>,\n",
       " <h2>Where To Watch <span>71</span></h2>,\n",
       " <h2>Filters</h2>,\n",
       " <h2><a href=\"/movie/939243-sonic-the-hedgehog-3\" title=\"Sonic the Hedgehog 3\">Sonic the Hedgehog 3</a></h2>,\n",
       " <h2><a href=\"/movie/1241982-moana-2\" title=\"Moana 2\">Moana 2</a></h2>,\n",
       " <h2><a href=\"/movie/539972-kraven-the-hunter\" title=\"Kraven the Hunter\">Kraven the Hunter</a></h2>,\n",
       " <h2><a href=\"/movie/993710-back-in-action\" title=\"बैक इन ऐक्शन\">बैक इन ऐक्शन</a></h2>,\n",
       " <h2><a href=\"/movie/1249289-alarum\" title=\"Alarum\">Alarum</a></h2>,\n",
       " <h2><a href=\"/movie/426063-nosferatu\" title=\"Nosferatu\">Nosferatu</a></h2>,\n",
       " <h2><a href=\"/movie/762509-mufasa-the-lion-king\" title=\"Mufasa: The Lion King\">Mufasa: The Lion King</a></h2>,\n",
       " <h2><a href=\"/movie/1255788-le-jardinier\" title=\"The Gardener\">The Gardener</a></h2>,\n",
       " <h2><a href=\"/movie/811941-part-1\" title=\"Devara: Part 1\">Devara: Part 1</a></h2>,\n",
       " <h2><a href=\"/movie/558449-gladiator-ii\" title=\"Gladiator II\">Gladiator II</a></h2>,\n",
       " <h2><a href=\"/movie/912649-venom-the-last-dance\" title=\"Venom: The Last Dance\">Venom: The Last Dance</a></h2>,\n",
       " <h2><a href=\"/movie/970450-werewolves\" title=\"Werewolves\">Werewolves</a></h2>,\n",
       " <h2><a href=\"/movie/1241320\" title=\"Kingdom IV: Return of the Great General\">Kingdom IV: Return of the Great General</a></h2>,\n",
       " <h2><a href=\"/movie/1410082-sniper-the-last-stand\" title=\"Sniper: The Last Stand\">Sniper: The Last Stand</a></h2>,\n",
       " <h2><a href=\"/movie/1222248-nr-24\" title=\"Number 24\">Number 24</a></h2>,\n",
       " <h2><a href=\"/movie/933260-the-substance\" title=\"The Substance\">The Substance</a></h2>,\n",
       " <h2><a href=\"/movie/845781-red-one\" title=\"Red One\">Red One</a></h2>,\n",
       " <h2><a href=\"/movie/426889-le-clitoris\" title=\"Le clitoris\">Le clitoris</a></h2>,\n",
       " <h2><a href=\"/movie/1081012-aftermath\" title=\"Aftermath\">Aftermath</a></h2>,\n",
       " <h2><a href=\"/movie/402431-wicked\" title=\"Wicked\">Wicked</a></h2>]"
      ]
     },
     "execution_count": 15,
     "metadata": {},
     "output_type": "execute_result"
    }
   ],
   "source": [
    "soup.select(\".content h2\")"
   ]
  },
  {
   "cell_type": "code",
   "execution_count": 16,
   "metadata": {},
   "outputs": [
    {
     "data": {
      "text/plain": [
       "['movie/939243',\n",
       " 'movie/124198',\n",
       " 'movie/539972',\n",
       " 'movie/993710',\n",
       " 'movie/124928',\n",
       " 'movie/426063',\n",
       " 'movie/762509',\n",
       " 'movie/125578',\n",
       " 'movie/811941',\n",
       " 'movie/558449',\n",
       " 'movie/912649',\n",
       " 'movie/970450',\n",
       " 'movie/124132',\n",
       " 'movie/141008',\n",
       " 'movie/122224',\n",
       " 'movie/933260',\n",
       " 'movie/845781',\n",
       " 'movie/426889',\n",
       " 'movie/108101',\n",
       " 'movie/402431']"
      ]
     },
     "execution_count": 16,
     "metadata": {},
     "output_type": "execute_result"
    }
   ],
   "source": [
    "# Extracting the HTML golddd of all the individual pages of movies\n",
    "def html_content(soup: BeautifulSoup) -> list:\n",
    "    my_content = str(soup.select(\".content h2\"))\n",
    "    my_list_of_contents = []\n",
    "\n",
    "    stuff = re.findall(r\"movie/\\d\\d\\d\\d\\d\\d\", my_content)\n",
    "    my_list_of_contents.extend(stuff)\n",
    "\n",
    "    return my_list_of_contents\n",
    "   \n",
    "html_content(vaccumed)\n",
    "    "
   ]
  },
  {
   "cell_type": "code",
   "execution_count": 17,
   "metadata": {},
   "outputs": [
    {
     "data": {
      "text/plain": [
       "<ul class=\"multi_select text\" id=\"with_genres\" name=\"with_genres[]\">\n",
       "<li data-value=\"28\"><a class=\"no_click\" href=\"/discover/movie?with_genres=28\">Action</a></li>\n",
       "<li data-value=\"12\"><a class=\"no_click\" href=\"/discover/movie?with_genres=12\">Adventure</a></li>\n",
       "<li data-value=\"16\"><a class=\"no_click\" href=\"/discover/movie?with_genres=16\">Animation</a></li>\n",
       "<li data-value=\"35\"><a class=\"no_click\" href=\"/discover/movie?with_genres=35\">Comedy</a></li>\n",
       "<li data-value=\"80\"><a class=\"no_click\" href=\"/discover/movie?with_genres=80\">Crime</a></li>\n",
       "<li data-value=\"99\"><a class=\"no_click\" href=\"/discover/movie?with_genres=99\">Documentary</a></li>\n",
       "<li data-value=\"18\"><a class=\"no_click\" href=\"/discover/movie?with_genres=18\">Drama</a></li>\n",
       "<li data-value=\"10751\"><a class=\"no_click\" href=\"/discover/movie?with_genres=10751\">Family</a></li>\n",
       "<li data-value=\"14\"><a class=\"no_click\" href=\"/discover/movie?with_genres=14\">Fantasy</a></li>\n",
       "<li data-value=\"36\"><a class=\"no_click\" href=\"/discover/movie?with_genres=36\">History</a></li>\n",
       "<li data-value=\"27\"><a class=\"no_click\" href=\"/discover/movie?with_genres=27\">Horror</a></li>\n",
       "<li data-value=\"10402\"><a class=\"no_click\" href=\"/discover/movie?with_genres=10402\">Music</a></li>\n",
       "<li data-value=\"9648\"><a class=\"no_click\" href=\"/discover/movie?with_genres=9648\">Mystery</a></li>\n",
       "<li data-value=\"10749\"><a class=\"no_click\" href=\"/discover/movie?with_genres=10749\">Romance</a></li>\n",
       "<li data-value=\"878\"><a class=\"no_click\" href=\"/discover/movie?with_genres=878\">Science Fiction</a></li>\n",
       "<li data-value=\"10770\"><a class=\"no_click\" href=\"/discover/movie?with_genres=10770\">TV Movie</a></li>\n",
       "<li data-value=\"53\"><a class=\"no_click\" href=\"/discover/movie?with_genres=53\">Thriller</a></li>\n",
       "<li data-value=\"10752\"><a class=\"no_click\" href=\"/discover/movie?with_genres=10752\">War</a></li>\n",
       "<li data-value=\"37\"><a class=\"no_click\" href=\"/discover/movie?with_genres=37\">Western</a></li>\n",
       "</ul>"
      ]
     },
     "execution_count": 17,
     "metadata": {},
     "output_type": "execute_result"
    }
   ],
   "source": [
    "soup.select(\".multi_select\")[-2]"
   ]
  },
  {
   "cell_type": "code",
   "execution_count": 18,
   "metadata": {},
   "outputs": [
    {
     "data": {
      "text/plain": [
       "['Action',\n",
       " 'Adventure',\n",
       " 'Animation',\n",
       " 'Comedy',\n",
       " 'Crime',\n",
       " 'Documentary',\n",
       " 'Drama',\n",
       " 'Family',\n",
       " 'Fantasy',\n",
       " 'History',\n",
       " 'Horror',\n",
       " 'Music',\n",
       " 'Mystery',\n",
       " 'Romance',\n",
       " 'Science Fiction',\n",
       " 'TV Movie',\n",
       " 'Thriller',\n",
       " 'War',\n",
       " 'Western']"
      ]
     },
     "execution_count": 18,
     "metadata": {},
     "output_type": "execute_result"
    }
   ],
   "source": [
    "# Grabbing the genres of the movies\n",
    "def genre_grabber(soup: BeautifulSoup) -> list:\n",
    "    genres = soup.select(\".multi_select\")[-2]\n",
    "    my_genres = []\n",
    "    for gen in genres.find_all(\"li\"): # found them in list item (li) using inspect\n",
    "        a_tag = gen.find(\"a\")\n",
    "        if a_tag:\n",
    "            my_genres.append(a_tag.text.strip())\n",
    "    return my_genres\n",
    "genre_grabber(vaccumed)\n",
    "    "
   ]
  },
  {
   "cell_type": "code",
   "execution_count": 19,
   "metadata": {},
   "outputs": [
    {
     "data": {
      "text/plain": [
       "['https://www.themoviedb.org/movie/939243',\n",
       " 'https://www.themoviedb.org/movie/124198',\n",
       " 'https://www.themoviedb.org/movie/539972',\n",
       " 'https://www.themoviedb.org/movie/993710',\n",
       " 'https://www.themoviedb.org/movie/124928',\n",
       " 'https://www.themoviedb.org/movie/426063',\n",
       " 'https://www.themoviedb.org/movie/762509',\n",
       " 'https://www.themoviedb.org/movie/125578',\n",
       " 'https://www.themoviedb.org/movie/811941',\n",
       " 'https://www.themoviedb.org/movie/558449',\n",
       " 'https://www.themoviedb.org/movie/912649',\n",
       " 'https://www.themoviedb.org/movie/970450',\n",
       " 'https://www.themoviedb.org/movie/124132',\n",
       " 'https://www.themoviedb.org/movie/141008',\n",
       " 'https://www.themoviedb.org/movie/122224',\n",
       " 'https://www.themoviedb.org/movie/933260',\n",
       " 'https://www.themoviedb.org/movie/845781',\n",
       " 'https://www.themoviedb.org/movie/426889',\n",
       " 'https://www.themoviedb.org/movie/108101',\n",
       " 'https://www.themoviedb.org/movie/402431']"
      ]
     },
     "execution_count": 19,
     "metadata": {},
     "output_type": "execute_result"
    }
   ],
   "source": [
    "# ok so what I plan to do is that\n",
    "# I already have a list of all the movie content IDs\n",
    "# gonna iterate through them to create a new list object which will be my inputs for my cast func\n",
    "html_content(vaccumed)\n",
    "load = []\n",
    "for info in html_content(vaccumed):\n",
    "    load.append('https://www.themoviedb.org/' + info)\n",
    "load"
   ]
  },
  {
   "cell_type": "code",
   "execution_count": 23,
   "metadata": {},
   "outputs": [
    {
     "name": "stdout",
     "output_type": "stream",
     "text": [
      "जिम कैरी\n",
      "Ben Schwartz\n",
      "कियानू रीव्स\n",
      "इड्रिस एल्बा\n",
      "Colleen O'Shaughnessey\n",
      "जेम्स मार्सडेन\n",
      "Tika Sumpter\n",
      "Lee Majdoub\n",
      "Krysten Ritter\n",
      "Graciela Borges\n",
      "Rita Cortese\n",
      "Carolina Fal\n",
      "Evangelina Salazar\n",
      "Silvia Süller\n",
      "Aaron Taylor-Johnson\n",
      "Ariana DeBose\n",
      "Fred Hechinger\n",
      "Alessandro Nivola\n",
      "Christopher Abbott\n",
      "रसल क्रो\n",
      "Yuri Kolokolnikov\n",
      "Levi Miller\n",
      "Tom Reed\n",
      "कैमरुन डिएज़\n",
      "Jamie Foxx\n",
      "McKenna Roberts\n",
      "Rylan Jackson\n",
      "Glenn Close\n",
      "Kyle Chandler\n",
      "Andrew Scott\n",
      "Jamie Demetriou\n",
      "Fola Evans-Akingbola\n",
      "Lily-Rose Depp\n",
      "निकोलस हॉल्ट\n",
      "Bill Skarsgård\n",
      "Aaron Taylor-Johnson\n",
      "विलेम डाफ़ो\n",
      "एम्मा कोरिन\n",
      "Ralph Ineson\n",
      "Simon McBurney\n",
      "Adéla Hesová\n",
      "Aaron Pierre\n",
      "Kelvin Harrison Jr.\n",
      "Tiffany Boone\n",
      "Kagiso Lediga\n",
      "Preston Nyman\n",
      "Blue Ivy Carter\n",
      "John Kani\n",
      "Mads Mikkelsen\n",
      "Seth Rogen\n",
      "Pat O’Brien\n",
      "Dick Powell\n",
      "Ginger Rogers\n",
      "Allen Jenkins\n",
      "Grant Mitchell\n",
      "Joseph Cawthorn\n",
      "Joan Wheeler\n",
      "Henry O'Neill\n",
      "Charles Lane\n",
      "N.T. Rama Rao Jr.\n",
      "Saif Ali Khan\n",
      "Prakash Raj\n",
      "श्रीकांत\n",
      "Kalaiyarasan\n",
      "Shruti Marathe\n",
      "Janhvi Kapoor\n",
      "Shine Tom Chacko\n",
      "Ajay\n",
      "Paul Mescal\n",
      "Denzel Washington\n",
      "पेद्रो पास्कल\n",
      "Connie Nielsen\n",
      "Joseph Quinn\n",
      "Fred Hechinger\n",
      "Lior Raz\n",
      "Derek Jacobi\n",
      "Peter Mensah\n",
      "टॉम हार्डी\n",
      "Chiwetel Ejiofor\n",
      "Juno Temple\n",
      "Rhys Ifans\n",
      "Stephen Graham\n",
      "Peggy Lu\n",
      "Clark Backo\n",
      "Alanna Ubach\n",
      "Cristo Fernández\n",
      "Frank Grillo\n",
      "Katrina Law\n",
      "Ilfenesh Hadera\n",
      "Jimmy Cummings\n",
      "Lou Diamond Phillips\n",
      "Kamdynn Gary\n",
      "Lydia Styslinger\n",
      "Daniel Fernandez\n",
      "James Kyson\n",
      "Alex D. Linz\n",
      "Sheila Kelley\n",
      "Lance Guest\n",
      "Abigail Mavity\n",
      "Sheryl Lee Ralph\n",
      "Joel McKinnon Miller\n",
      "Fran Bennett\n",
      "Kenneth Kimmins\n",
      "Earl Boen\n",
      "Niels Olsen\n",
      "Kasper Ruwai Berg Kesje\n",
      "Jess Ingerslev\n",
      "Jakob Wilhjelm Poulsen\n",
      "Kathrine Bremerskov Kaysen\n",
      "Søren Bregendal\n",
      "जार्न हेनरिक्सन\n",
      "Lærke Tuemand\n",
      "Martin Brygmann\n",
      "Johann Hillmann\n",
      "Ludwig Blochberger\n",
      "Daniel Rohr\n",
      "Reinhard Scheunemann\n",
      "Demi Moore\n",
      "Margaret Qualley\n",
      "Dennis Quaid\n",
      "Edward Hamilton-Clark\n",
      "Gore Abrams\n",
      "Oscar Lesage\n",
      "Christian Erickson\n",
      "Robin Greer\n",
      "Tom Morton\n",
      "ड्वेन जॉनसन\n",
      "क्रिस इवांस\n",
      "Lucy Liu\n",
      "J.K. Simmons\n",
      "Bonnie Hunt\n",
      "Kristofer Hivju\n",
      "Kiernan Shipka\n",
      "Mary Elizabeth Ellis\n",
      "Wesley Kimmel\n",
      "Lori Malépart-Traversy\n",
      "Tinì Cansino\n",
      "Valentina Visconti\n",
      "Francesco Casale\n",
      "Carlo Mucari\n",
      "Renato D'Amore\n",
      "Giose Davi\n",
      "David D'Ingeo\n",
      "Rena Niehaus\n",
      "Ida Galli\n",
      "सिंथिया एरिवो\n",
      "एरियाना ग्रांडे\n",
      "Jeff Goldblum\n",
      "मिशेल योह\n",
      "जोनाथन बेली\n",
      "Ethan Slater\n",
      "Marissa Bode\n",
      "पीटर डिंक्लेज\n",
      "Andy Nyman\n"
     ]
    }
   ],
   "source": [
    "# grabbing the casts of alll the movies\n",
    "def cast_grabber(soup: BeautifulSoup) -> list: \n",
    "\n",
    "    cast_list = []\n",
    "\n",
    "    def castisize():\n",
    "        cards = soup.select(\"li.card\")\n",
    "\n",
    "        # this loop creates a beautifulsoup instance of every link request\n",
    "        for card in cards:\n",
    "              name = card.find(\"p\").get_text(strip=True)\n",
    "              print(name)\n",
    "              cast_list.append(name)\n",
    "        \n",
    "    castisize()\n",
    "    return cast_list  \n",
    "\n",
    "# all the leetcoding makes sense now, epic use of hashmap \n",
    "all_casts = {}\n",
    "for link in load:\n",
    "     res = requests.get(link,headers=needed_headers)\n",
    "     soup = BeautifulSoup(res.text,\"lxml\")\n",
    "     all_casts[link] = cast_grabber(soup)\n",
    "\n"
   ]
  },
  {
   "cell_type": "code",
   "execution_count": 24,
   "metadata": {},
   "outputs": [
    {
     "name": "stdout",
     "output_type": "stream",
     "text": [
      "Cast for https://www.themoviedb.org/movie/939243 -> ['जिम कैरी', 'Ben Schwartz', 'कियानू रीव्स', 'इड्रिस एल्बा', \"Colleen O'Shaughnessey\", 'जेम्स मार्सडेन', 'Tika Sumpter', 'Lee Majdoub', 'Krysten Ritter']\n",
      "Cast for https://www.themoviedb.org/movie/124198 -> ['Graciela Borges', 'Rita Cortese', 'Carolina Fal', 'Evangelina Salazar', 'Silvia Süller']\n",
      "Cast for https://www.themoviedb.org/movie/539972 -> ['Aaron Taylor-Johnson', 'Ariana DeBose', 'Fred Hechinger', 'Alessandro Nivola', 'Christopher Abbott', 'रसल क्रो', 'Yuri Kolokolnikov', 'Levi Miller', 'Tom Reed']\n",
      "Cast for https://www.themoviedb.org/movie/993710 -> ['कैमरुन डिएज़', 'Jamie Foxx', 'McKenna Roberts', 'Rylan Jackson', 'Glenn Close', 'Kyle Chandler', 'Andrew Scott', 'Jamie Demetriou', 'Fola Evans-Akingbola']\n",
      "Cast for https://www.themoviedb.org/movie/124928 -> []\n",
      "Cast for https://www.themoviedb.org/movie/426063 -> ['Lily-Rose Depp', 'निकोलस हॉल्ट', 'Bill Skarsgård', 'Aaron Taylor-Johnson', 'विलेम डाफ़ो', 'एम्मा कोरिन', 'Ralph Ineson', 'Simon McBurney', 'Adéla Hesová']\n",
      "Cast for https://www.themoviedb.org/movie/762509 -> ['Aaron Pierre', 'Kelvin Harrison Jr.', 'Tiffany Boone', 'Kagiso Lediga', 'Preston Nyman', 'Blue Ivy Carter', 'John Kani', 'Mads Mikkelsen', 'Seth Rogen']\n",
      "Cast for https://www.themoviedb.org/movie/125578 -> ['Pat O’Brien', 'Dick Powell', 'Ginger Rogers', 'Allen Jenkins', 'Grant Mitchell', 'Joseph Cawthorn', 'Joan Wheeler', \"Henry O'Neill\", 'Charles Lane']\n",
      "Cast for https://www.themoviedb.org/movie/811941 -> ['N.T. Rama Rao Jr.', 'Saif Ali Khan', 'Prakash Raj', 'श्रीकांत', 'Kalaiyarasan', 'Shruti Marathe', 'Janhvi Kapoor', 'Shine Tom Chacko', 'Ajay']\n",
      "Cast for https://www.themoviedb.org/movie/558449 -> ['Paul Mescal', 'Denzel Washington', 'पेद्रो पास्कल', 'Connie Nielsen', 'Joseph Quinn', 'Fred Hechinger', 'Lior Raz', 'Derek Jacobi', 'Peter Mensah']\n",
      "Cast for https://www.themoviedb.org/movie/912649 -> ['टॉम हार्डी', 'Chiwetel Ejiofor', 'Juno Temple', 'Rhys Ifans', 'Stephen Graham', 'Peggy Lu', 'Clark Backo', 'Alanna Ubach', 'Cristo Fernández']\n",
      "Cast for https://www.themoviedb.org/movie/970450 -> ['Frank Grillo', 'Katrina Law', 'Ilfenesh Hadera', 'Jimmy Cummings', 'Lou Diamond Phillips', 'Kamdynn Gary', 'Lydia Styslinger', 'Daniel Fernandez', 'James Kyson']\n",
      "Cast for https://www.themoviedb.org/movie/124132 -> ['Alex D. Linz', 'Sheila Kelley', 'Lance Guest', 'Abigail Mavity', 'Sheryl Lee Ralph', 'Joel McKinnon Miller', 'Fran Bennett', 'Kenneth Kimmins', 'Earl Boen']\n",
      "Cast for https://www.themoviedb.org/movie/141008 -> ['Niels Olsen', 'Kasper Ruwai Berg Kesje', 'Jess Ingerslev', 'Jakob Wilhjelm Poulsen', 'Kathrine Bremerskov Kaysen', 'Søren Bregendal', 'जार्न हेनरिक्सन', 'Lærke Tuemand', 'Martin Brygmann']\n",
      "Cast for https://www.themoviedb.org/movie/122224 -> ['Johann Hillmann', 'Ludwig Blochberger', 'Daniel Rohr', 'Reinhard Scheunemann']\n",
      "Cast for https://www.themoviedb.org/movie/933260 -> ['Demi Moore', 'Margaret Qualley', 'Dennis Quaid', 'Edward Hamilton-Clark', 'Gore Abrams', 'Oscar Lesage', 'Christian Erickson', 'Robin Greer', 'Tom Morton']\n",
      "Cast for https://www.themoviedb.org/movie/845781 -> ['ड्वेन जॉनसन', 'क्रिस इवांस', 'Lucy Liu', 'J.K. Simmons', 'Bonnie Hunt', 'Kristofer Hivju', 'Kiernan Shipka', 'Mary Elizabeth Ellis', 'Wesley Kimmel']\n",
      "Cast for https://www.themoviedb.org/movie/426889 -> ['Lori Malépart-Traversy']\n",
      "Cast for https://www.themoviedb.org/movie/108101 -> ['Tinì Cansino', 'Valentina Visconti', 'Francesco Casale', 'Carlo Mucari', \"Renato D'Amore\", 'Giose Davi', \"David D'Ingeo\", 'Rena Niehaus', 'Ida Galli']\n",
      "Cast for https://www.themoviedb.org/movie/402431 -> ['सिंथिया एरिवो', 'एरियाना ग्रांडे', 'Jeff Goldblum', 'मिशेल योह', 'जोनाथन बेली', 'Ethan Slater', 'Marissa Bode', 'पीटर डिंक्लेज', 'Andy Nyman']\n"
     ]
    }
   ],
   "source": [
    "# iteratin through the items of the dict to get clean result\n",
    "for url, cast in all_casts.items():\n",
    "     print(f\"Cast for {url} -> {cast}\")"
   ]
  }
 ],
 "metadata": {
  "kernelspec": {
   "display_name": "base",
   "language": "python",
   "name": "python3"
  },
  "language_info": {
   "codemirror_mode": {
    "name": "ipython",
    "version": 3
   },
   "file_extension": ".py",
   "mimetype": "text/x-python",
   "name": "python",
   "nbconvert_exporter": "python",
   "pygments_lexer": "ipython3",
   "version": "3.12.7"
  }
 },
 "nbformat": 4,
 "nbformat_minor": 2
}
