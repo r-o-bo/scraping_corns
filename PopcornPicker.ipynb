{
 "cells": [
  {
   "cell_type": "code",
   "execution_count": 1,
   "metadata": {},
   "outputs": [],
   "source": [
    "# Importing libraries needed to scrape\n",
    "import requests\n",
    "from bs4 import BeautifulSoup\n",
    "import pandas as pd\n",
    "import re\n",
    "# This will be heavily commented as you can imagine it's easy to forget a python library lol"
   ]
  },
  {
   "cell_type": "code",
   "execution_count": 2,
   "metadata": {},
   "outputs": [
    {
     "data": {
      "text/plain": [
       "200"
      ]
     },
     "execution_count": 2,
     "metadata": {},
     "output_type": "execute_result"
    }
   ],
   "source": [
    "needed_headers = {'User-Agent': 'Mozilla/5.0 (Windows NT 10.0; Win64; x64) AppleWebKit/537.36 (KHTML, like Gecko) Chrome/91.0.4472.124 Safari/537.36'}\n",
    "\n",
    "res = requests.get(\"https://www.themoviedb.org/movie\", headers=needed_headers)\n",
    "res.status_code\n",
    "# An exit status of 200 means OK :)\n"
   ]
  },
  {
   "cell_type": "code",
   "execution_count": 3,
   "metadata": {},
   "outputs": [],
   "source": [
    "# Creating an instance of the BeautifulSoup class\n",
    "# also im going to be using lxml instead of the conventional html.parser lets see how that goes\n",
    "soup = BeautifulSoup(res.text, \"lxml\")\n",
    "\n",
    "# We won't call soup for our own sanity!"
   ]
  },
  {
   "cell_type": "code",
   "execution_count": 4,
   "metadata": {},
   "outputs": [
    {
     "name": "stdout",
     "output_type": "stream",
     "text": [
      "Popular Movies \n"
     ]
    }
   ],
   "source": [
    "web_content = soup.get_text().strip()\n",
    "# using .strip() right now gets rid of trailing whitespaces but not leading??? wtf? will figure out\n",
    "print(web_content[:15])"
   ]
  },
  {
   "cell_type": "markdown",
   "metadata": {},
   "source": [
    "### Extracting the title of the web page using various methods:"
   ]
  },
  {
   "cell_type": "code",
   "execution_count": 5,
   "metadata": {},
   "outputs": [
    {
     "data": {
      "text/plain": [
       "<title>Popular Movies — The Movie Database (TMDB)</title>"
      ]
     },
     "execution_count": 5,
     "metadata": {},
     "output_type": "execute_result"
    }
   ],
   "source": [
    "# Extracting title\n",
    "soup.title\n"
   ]
  },
  {
   "cell_type": "code",
   "execution_count": 6,
   "metadata": {},
   "outputs": [
    {
     "data": {
      "text/plain": [
       "'Popular Movies — The Movie Database (TMDB)'"
      ]
     },
     "execution_count": 6,
     "metadata": {},
     "output_type": "execute_result"
    }
   ],
   "source": [
    "# Another method of fetching the title\n",
    "soup.select(\"title\")[0].getText()"
   ]
  },
  {
   "cell_type": "markdown",
   "metadata": {},
   "source": [
    "### We will use functions to help ease our workflow:"
   ]
  },
  {
   "cell_type": "code",
   "execution_count": 7,
   "metadata": {},
   "outputs": [],
   "source": [
    "# Generalizing initial task with the help of functional stuff\n",
    "def vaccum(url: str) -> BeautifulSoup:\n",
    "    try:\n",
    "        # I am not a robot lmao\n",
    "        needed_headers = {'User-Agent': 'Mozilla/5.0 (Windows NT 10.0; Win64; x64) AppleWebKit/537.36 (KHTML, like Gecko) Chrome/91.0.4472.124 Safari/537.36'}\n",
    "        res_func = requests.get(url,headers=needed_headers)\n",
    "\n",
    "        # Raise exception if status code is 5xx or 4xx\n",
    "        res_func.raise_for_status()\n",
    "\n",
    "        return BeautifulSoup(res_func.text, \"lxml\")\n",
    "    \n",
    "    except requests.exceptions.RequestException as e:\n",
    "        # Catch all request-related errors \n",
    "        print(f\"An Error occured!: {e}\")\n",
    "        return None\n",
    "    \n",
    "    finally:\n",
    "        print(\"Excecution FIN\")"
   ]
  },
  {
   "cell_type": "code",
   "execution_count": 8,
   "metadata": {},
   "outputs": [
    {
     "name": "stdout",
     "output_type": "stream",
     "text": [
      "Excecution FIN\n"
     ]
    }
   ],
   "source": [
    "# test case 1: a working url\n",
    "vaccumed = vaccum(\"https://www.themoviedb.org/movie\")\n",
    "# This works, won't call it for obvious reasons haha"
   ]
  },
  {
   "cell_type": "code",
   "execution_count": 9,
   "metadata": {},
   "outputs": [
    {
     "name": "stdout",
     "output_type": "stream",
     "text": [
      "An Error occured!: HTTPSConnectionPool(host='www.themovipepepe.org', port=443): Max retries exceeded with url: /what (Caused by NameResolutionError(\"<urllib3.connection.HTTPSConnection object at 0x000001969AE545C0>: Failed to resolve 'www.themovipepepe.org' ([Errno 11001] getaddrinfo failed)\"))\n",
      "Excecution FIN\n"
     ]
    }
   ],
   "source": [
    "# test case 2: malformed/incorrect URLs\n",
    "vaccum(\"https://www.themovipepepe.org/what\")"
   ]
  },
  {
   "cell_type": "code",
   "execution_count": 10,
   "metadata": {},
   "outputs": [
    {
     "data": {
      "text/plain": [
       "'Sonic the Hedgehog 3'"
      ]
     },
     "execution_count": 10,
     "metadata": {},
     "output_type": "execute_result"
    }
   ],
   "source": [
    "# Displaying the name of the first movie\n",
    "first_movie = soup.select(\".content h2\")[3].getText()\n",
    "first_movie"
   ]
  },
  {
   "cell_type": "code",
   "execution_count": 11,
   "metadata": {},
   "outputs": [
    {
     "name": "stdout",
     "output_type": "stream",
     "text": [
      "User score of the movie: Sonic the Hedgehog 3 is 78%\n"
     ]
    }
   ],
   "source": [
    "# Extracting User rating of the first movie\n",
    "span_class = soup.select_one(\".user_score_chart .icon\")['class'][1]\n",
    "span_class\n",
    "perc1 = span_class.split(\"icon-r\")[1]\n",
    "print(f\"User score of the movie: {first_movie} is {perc1}%\")\n",
    "\n",
    "\n"
   ]
  },
  {
   "cell_type": "code",
   "execution_count": 12,
   "metadata": {},
   "outputs": [
    {
     "data": {
      "text/plain": [
       "'movie/939243'"
      ]
     },
     "execution_count": 12,
     "metadata": {},
     "output_type": "execute_result"
    }
   ],
   "source": [
    "# we're gonna use regex for extracting the part of the url following the string “https://www.themoviedb.org/” \n",
    "text = str(soup.select(\".content h2\"))\n",
    "match = re.search(r'movie/\\d\\d\\d\\d\\d\\d',text)\n",
    "match.group()\n",
    "# This is going to help us later (i think)"
   ]
  },
  {
   "cell_type": "code",
   "execution_count": 13,
   "metadata": {},
   "outputs": [
    {
     "data": {
      "text/plain": [
       "['Sonic the Hedgehog 3',\n",
       " 'Back in Action',\n",
       " 'Kraven the Hunter',\n",
       " 'Nosferatu',\n",
       " 'Mufasa: The Lion King',\n",
       " 'Moana 2',\n",
       " 'Alarum',\n",
       " 'Devara: Part 1',\n",
       " 'Gladiator II',\n",
       " 'Venom: The Last Dance',\n",
       " 'The Gardener',\n",
       " 'River of Blood',\n",
       " 'Werewolves',\n",
       " 'Kingdom IV: Return of the Great General',\n",
       " 'Red One',\n",
       " 'Wicked',\n",
       " 'The Substance',\n",
       " 'Number 24',\n",
       " 'Aftermath',\n",
       " 'Your Fault']"
      ]
     },
     "execution_count": 13,
     "metadata": {},
     "output_type": "execute_result"
    }
   ],
   "source": [
    "# Grabbing the title of all the movies\n",
    "def title_grabber(soup: BeautifulSoup) -> list:\n",
    "    titles = []\n",
    "    movies = soup.select(\".content h2\")[3:]\n",
    "    for movie in movies:\n",
    "        a_tag = movie.find(\"a\", title = True)\n",
    "        if a_tag:\n",
    "            titles.append(a_tag[\"title\"])\n",
    "    return titles\n",
    "    \n",
    "        \n",
    "title_grabber(vaccumed)"
   ]
  },
  {
   "cell_type": "code",
   "execution_count": 14,
   "metadata": {},
   "outputs": [
    {
     "data": {
      "text/plain": [
       "['78',\n",
       " '67',\n",
       " '66',\n",
       " '66',\n",
       " '75',\n",
       " '70',\n",
       " '59',\n",
       " '71',\n",
       " '68',\n",
       " '68',\n",
       " '49',\n",
       " '60',\n",
       " '63',\n",
       " '71',\n",
       " '71',\n",
       " '69',\n",
       " '71',\n",
       " '73',\n",
       " '63',\n",
       " '72']"
      ]
     },
     "execution_count": 14,
     "metadata": {},
     "output_type": "execute_result"
    }
   ],
   "source": [
    "# Grabbing the user ratings of all the movies in a page\n",
    "def rating_grabber(soup: BeautifulSoup) -> list:\n",
    "    user_score = []\n",
    "    scores = soup.select(\".content .user_score_chart\")\n",
    "\n",
    "    for score in scores:\n",
    "        percent = score[\"data-percent\"]\n",
    "        user_score.append(percent)\n",
    "\n",
    "    return user_score\n",
    "rating_grabber(vaccumed)"
   ]
  },
  {
   "cell_type": "code",
   "execution_count": 15,
   "metadata": {},
   "outputs": [
    {
     "data": {
      "text/plain": [
       "[<h2>Sort</h2>,\n",
       " <h2>Where To Watch <span>190</span></h2>,\n",
       " <h2>Filters</h2>,\n",
       " <h2><a href=\"/movie/939243-sonic-the-hedgehog-3\" title=\"Sonic the Hedgehog 3\">Sonic the Hedgehog 3</a></h2>,\n",
       " <h2><a href=\"/movie/993710-back-in-action\" title=\"Back in Action\">Back in Action</a></h2>,\n",
       " <h2><a href=\"/movie/539972-kraven-the-hunter\" title=\"Kraven the Hunter\">Kraven the Hunter</a></h2>,\n",
       " <h2><a href=\"/movie/426063-nosferatu\" title=\"Nosferatu\">Nosferatu</a></h2>,\n",
       " <h2><a href=\"/movie/762509-mufasa-the-lion-king\" title=\"Mufasa: The Lion King\">Mufasa: The Lion King</a></h2>,\n",
       " <h2><a href=\"/movie/1241982-moana-2\" title=\"Moana 2\">Moana 2</a></h2>,\n",
       " <h2><a href=\"/movie/1249289-alarum\" title=\"Alarum\">Alarum</a></h2>,\n",
       " <h2><a href=\"/movie/811941-part-1\" title=\"Devara: Part 1\">Devara: Part 1</a></h2>,\n",
       " <h2><a href=\"/movie/558449-gladiator-ii\" title=\"Gladiator II\">Gladiator II</a></h2>,\n",
       " <h2><a href=\"/movie/912649-venom-the-last-dance\" title=\"Venom: The Last Dance\">Venom: The Last Dance</a></h2>,\n",
       " <h2><a href=\"/movie/1255788-le-jardinier\" title=\"The Gardener\">The Gardener</a></h2>,\n",
       " <h2><a href=\"/movie/1222064-river-of-blood\" title=\"River of Blood\">River of Blood</a></h2>,\n",
       " <h2><a href=\"/movie/970450-werewolves\" title=\"Werewolves\">Werewolves</a></h2>,\n",
       " <h2><a href=\"/movie/1241320\" title=\"Kingdom IV: Return of the Great General\">Kingdom IV: Return of the Great General</a></h2>,\n",
       " <h2><a href=\"/movie/845781-red-one\" title=\"Red One\">Red One</a></h2>,\n",
       " <h2><a href=\"/movie/402431-wicked\" title=\"Wicked\">Wicked</a></h2>,\n",
       " <h2><a href=\"/movie/933260-the-substance\" title=\"The Substance\">The Substance</a></h2>,\n",
       " <h2><a href=\"/movie/1222248-nr-24\" title=\"Number 24\">Number 24</a></h2>,\n",
       " <h2><a href=\"/movie/1081012-aftermath\" title=\"Aftermath\">Aftermath</a></h2>,\n",
       " <h2><a href=\"/movie/1156593-culpa-tuya\" title=\"Your Fault\">Your Fault</a></h2>]"
      ]
     },
     "execution_count": 15,
     "metadata": {},
     "output_type": "execute_result"
    }
   ],
   "source": [
    "soup.select(\".content h2\")"
   ]
  },
  {
   "cell_type": "code",
   "execution_count": 22,
   "metadata": {},
   "outputs": [
    {
     "data": {
      "text/plain": [
       "['movie/939243',\n",
       " 'movie/993710',\n",
       " 'movie/539972',\n",
       " 'movie/426063',\n",
       " 'movie/762509',\n",
       " 'movie/124198',\n",
       " 'movie/124928',\n",
       " 'movie/811941',\n",
       " 'movie/558449',\n",
       " 'movie/912649',\n",
       " 'movie/125578',\n",
       " 'movie/122206',\n",
       " 'movie/970450',\n",
       " 'movie/124132',\n",
       " 'movie/845781',\n",
       " 'movie/402431',\n",
       " 'movie/933260',\n",
       " 'movie/122224',\n",
       " 'movie/108101',\n",
       " 'movie/115659']"
      ]
     },
     "execution_count": 22,
     "metadata": {},
     "output_type": "execute_result"
    }
   ],
   "source": [
    "# Extracting the HTML golddd of all the individual pages of movies\n",
    "def html_content(soup: BeautifulSoup) -> list:\n",
    "    my_content = str(soup.select(\".content h2\"))\n",
    "    my_list_of_contents = []\n",
    "\n",
    "    stuff = re.findall(r\"movie/\\d\\d\\d\\d\\d\\d\", my_content)\n",
    "    my_list_of_contents.extend(stuff)\n",
    "\n",
    "    return my_list_of_contents\n",
    "   \n",
    "html_content(vaccumed)\n",
    "    "
   ]
  },
  {
   "cell_type": "code",
   "execution_count": 17,
   "metadata": {},
   "outputs": [
    {
     "data": {
      "text/plain": [
       "<ul class=\"multi_select text\" id=\"with_genres\" name=\"with_genres[]\">\n",
       "<li data-value=\"28\"><a class=\"no_click\" href=\"/discover/movie?with_genres=28\">Action</a></li>\n",
       "<li data-value=\"12\"><a class=\"no_click\" href=\"/discover/movie?with_genres=12\">Adventure</a></li>\n",
       "<li data-value=\"16\"><a class=\"no_click\" href=\"/discover/movie?with_genres=16\">Animation</a></li>\n",
       "<li data-value=\"35\"><a class=\"no_click\" href=\"/discover/movie?with_genres=35\">Comedy</a></li>\n",
       "<li data-value=\"80\"><a class=\"no_click\" href=\"/discover/movie?with_genres=80\">Crime</a></li>\n",
       "<li data-value=\"99\"><a class=\"no_click\" href=\"/discover/movie?with_genres=99\">Documentary</a></li>\n",
       "<li data-value=\"18\"><a class=\"no_click\" href=\"/discover/movie?with_genres=18\">Drama</a></li>\n",
       "<li data-value=\"10751\"><a class=\"no_click\" href=\"/discover/movie?with_genres=10751\">Family</a></li>\n",
       "<li data-value=\"14\"><a class=\"no_click\" href=\"/discover/movie?with_genres=14\">Fantasy</a></li>\n",
       "<li data-value=\"36\"><a class=\"no_click\" href=\"/discover/movie?with_genres=36\">History</a></li>\n",
       "<li data-value=\"27\"><a class=\"no_click\" href=\"/discover/movie?with_genres=27\">Horror</a></li>\n",
       "<li data-value=\"10402\"><a class=\"no_click\" href=\"/discover/movie?with_genres=10402\">Music</a></li>\n",
       "<li data-value=\"9648\"><a class=\"no_click\" href=\"/discover/movie?with_genres=9648\">Mystery</a></li>\n",
       "<li data-value=\"10749\"><a class=\"no_click\" href=\"/discover/movie?with_genres=10749\">Romance</a></li>\n",
       "<li data-value=\"878\"><a class=\"no_click\" href=\"/discover/movie?with_genres=878\">Science Fiction</a></li>\n",
       "<li data-value=\"10770\"><a class=\"no_click\" href=\"/discover/movie?with_genres=10770\">TV Movie</a></li>\n",
       "<li data-value=\"53\"><a class=\"no_click\" href=\"/discover/movie?with_genres=53\">Thriller</a></li>\n",
       "<li data-value=\"10752\"><a class=\"no_click\" href=\"/discover/movie?with_genres=10752\">War</a></li>\n",
       "<li data-value=\"37\"><a class=\"no_click\" href=\"/discover/movie?with_genres=37\">Western</a></li>\n",
       "</ul>"
      ]
     },
     "execution_count": 17,
     "metadata": {},
     "output_type": "execute_result"
    }
   ],
   "source": [
    "soup.select(\".multi_select\")[-2]"
   ]
  },
  {
   "cell_type": "code",
   "execution_count": null,
   "metadata": {},
   "outputs": [
    {
     "data": {
      "text/plain": [
       "['Action',\n",
       " 'Adventure',\n",
       " 'Animation',\n",
       " 'Comedy',\n",
       " 'Crime',\n",
       " 'Documentary',\n",
       " 'Drama',\n",
       " 'Family',\n",
       " 'Fantasy',\n",
       " 'History',\n",
       " 'Horror',\n",
       " 'Music',\n",
       " 'Mystery',\n",
       " 'Romance',\n",
       " 'Science Fiction',\n",
       " 'TV Movie',\n",
       " 'Thriller',\n",
       " 'War',\n",
       " 'Western']"
      ]
     },
     "execution_count": 18,
     "metadata": {},
     "output_type": "execute_result"
    }
   ],
   "source": [
    "# Grabbing the genres of the movies\n",
    "def genre_grabber(soup: BeautifulSoup) -> list:\n",
    "    genres = soup.select(\".multi_select\")[-2]\n",
    "    my_genres = []\n",
    "    for gen in genres.find_all(\"li\"): # found them in list item (li) using inspect\n",
    "        a_tag = gen.find(\"a\")\n",
    "        if a_tag:\n",
    "            my_genres.append(a_tag.text.strip())\n",
    "    return my_genres\n",
    "genre_grabber(vaccumed)\n",
    "    "
   ]
  },
  {
   "cell_type": "code",
   "execution_count": 19,
   "metadata": {},
   "outputs": [
    {
     "name": "stdout",
     "output_type": "stream",
     "text": [
      "[<li class=\"card\">\n",
      "<a href=\"/person/206-jim-carrey\">\n",
      "<div class=\"glyphicons_v2 picture grey profile no_image_holder two\">\n",
      "<img alt=\"Jim Carrey\" class=\"profile w-full\" loading=\"lazy\" src=\"https://media.themoviedb.org/t/p/w138_and_h175_face/u0AqTz6Y7GHPCHINS01P7gPvDSb.jpg\" srcset=\"https://media.themoviedb.org/t/p/w138_and_h175_face/u0AqTz6Y7GHPCHINS01P7gPvDSb.jpg 1x, https://media.themoviedb.org/t/p/w276_and_h350_face/u0AqTz6Y7GHPCHINS01P7gPvDSb.jpg 2x\"/>\n",
      "</div>\n",
      "</a>\n",
      "<p><a href=\"/person/206-jim-carrey\">Jim Carrey</a></p>\n",
      "<p class=\"character\">Ivo Robotnik / Gerald Robotnik</p>\n",
      "</li>, <li class=\"card\">\n",
      "<a href=\"/person/222121-ben-schwartz\">\n",
      "<div class=\"glyphicons_v2 picture grey profile no_image_holder two\">\n",
      "<img alt=\"Ben Schwartz\" class=\"profile w-full\" loading=\"lazy\" src=\"https://media.themoviedb.org/t/p/w138_and_h175_face/lJVYjPj0P6uvVxNrTy4xO2645D0.jpg\" srcset=\"https://media.themoviedb.org/t/p/w138_and_h175_face/lJVYjPj0P6uvVxNrTy4xO2645D0.jpg 1x, https://media.themoviedb.org/t/p/w276_and_h350_face/lJVYjPj0P6uvVxNrTy4xO2645D0.jpg 2x\"/>\n",
      "</div>\n",
      "</a>\n",
      "<p><a href=\"/person/222121-ben-schwartz\">Ben Schwartz</a></p>\n",
      "<p class=\"character\">Sonic (voice)</p>\n",
      "</li>, <li class=\"card\">\n",
      "<a href=\"/person/6384-keanu-reeves\">\n",
      "<div class=\"glyphicons_v2 picture grey profile no_image_holder two\">\n",
      "<img alt=\"Keanu Reeves\" class=\"profile w-full\" loading=\"lazy\" src=\"https://media.themoviedb.org/t/p/w138_and_h175_face/8RZLOyYGsoRe9p44q3xin9QkMHv.jpg\" srcset=\"https://media.themoviedb.org/t/p/w138_and_h175_face/8RZLOyYGsoRe9p44q3xin9QkMHv.jpg 1x, https://media.themoviedb.org/t/p/w276_and_h350_face/8RZLOyYGsoRe9p44q3xin9QkMHv.jpg 2x\"/>\n",
      "</div>\n",
      "</a>\n",
      "<p><a href=\"/person/6384-keanu-reeves\">Keanu Reeves</a></p>\n",
      "<p class=\"character\">Shadow (voice)</p>\n",
      "</li>, <li class=\"card\">\n",
      "<a href=\"/person/17605-idris-elba\">\n",
      "<div class=\"glyphicons_v2 picture grey profile no_image_holder two\">\n",
      "<img alt=\"Idris Elba\" class=\"profile w-full\" loading=\"lazy\" src=\"https://media.themoviedb.org/t/p/w138_and_h175_face/be1bVF7qGX91a6c5WeRPs5pKXln.jpg\" srcset=\"https://media.themoviedb.org/t/p/w138_and_h175_face/be1bVF7qGX91a6c5WeRPs5pKXln.jpg 1x, https://media.themoviedb.org/t/p/w276_and_h350_face/be1bVF7qGX91a6c5WeRPs5pKXln.jpg 2x\"/>\n",
      "</div>\n",
      "</a>\n",
      "<p><a href=\"/person/17605-idris-elba\">Idris Elba</a></p>\n",
      "<p class=\"character\">Knuckles (voice)</p>\n",
      "</li>, <li class=\"card\">\n",
      "<a href=\"/person/1212864-colleen-o-shaughnessey\">\n",
      "<div class=\"glyphicons_v2 picture grey profile no_image_holder one\">\n",
      "<img alt=\"Colleen O'Shaughnessey\" class=\"profile w-full\" loading=\"lazy\" src=\"https://media.themoviedb.org/t/p/w138_and_h175_face/y3Kl5tCX1XD6uyL9wefTRbEXTwj.jpg\" srcset=\"https://media.themoviedb.org/t/p/w138_and_h175_face/y3Kl5tCX1XD6uyL9wefTRbEXTwj.jpg 1x, https://media.themoviedb.org/t/p/w276_and_h350_face/y3Kl5tCX1XD6uyL9wefTRbEXTwj.jpg 2x\"/>\n",
      "</div>\n",
      "</a>\n",
      "<p><a href=\"/person/1212864-colleen-o-shaughnessey\">Colleen O'Shaughnessey</a></p>\n",
      "<p class=\"character\">Tails (voice)</p>\n",
      "</li>, <li class=\"card\">\n",
      "<a href=\"/person/11006-james-marsden\">\n",
      "<div class=\"glyphicons_v2 picture grey profile no_image_holder two\">\n",
      "<img alt=\"James Marsden\" class=\"profile w-full\" loading=\"lazy\" src=\"https://media.themoviedb.org/t/p/w138_and_h175_face/mk142GG0saiSXALY6V4wWcmPROW.jpg\" srcset=\"https://media.themoviedb.org/t/p/w138_and_h175_face/mk142GG0saiSXALY6V4wWcmPROW.jpg 1x, https://media.themoviedb.org/t/p/w276_and_h350_face/mk142GG0saiSXALY6V4wWcmPROW.jpg 2x\"/>\n",
      "</div>\n",
      "</a>\n",
      "<p><a href=\"/person/11006-james-marsden\">James Marsden</a></p>\n",
      "<p class=\"character\">Tom</p>\n",
      "</li>, <li class=\"card\">\n",
      "<a href=\"/person/110742-tika-sumpter\">\n",
      "<div class=\"glyphicons_v2 picture grey profile no_image_holder one\">\n",
      "<img alt=\"Tika Sumpter\" class=\"profile w-full\" loading=\"lazy\" src=\"https://media.themoviedb.org/t/p/w138_and_h175_face/1zTXufyuQFPXVthryH7KVoZAfb7.jpg\" srcset=\"https://media.themoviedb.org/t/p/w138_and_h175_face/1zTXufyuQFPXVthryH7KVoZAfb7.jpg 1x, https://media.themoviedb.org/t/p/w276_and_h350_face/1zTXufyuQFPXVthryH7KVoZAfb7.jpg 2x\"/>\n",
      "</div>\n",
      "</a>\n",
      "<p><a href=\"/person/110742-tika-sumpter\">Tika Sumpter</a></p>\n",
      "<p class=\"character\">Maddie</p>\n",
      "</li>, <li class=\"card\">\n",
      "<a href=\"/person/208677-lee-majdoub\">\n",
      "<div class=\"glyphicons_v2 picture grey profile no_image_holder two\">\n",
      "<img alt=\"Lee Majdoub\" class=\"profile w-full\" loading=\"lazy\" src=\"https://media.themoviedb.org/t/p/w138_and_h175_face/vpF3R2YRCGHseGevmDAhftmOPkO.jpg\" srcset=\"https://media.themoviedb.org/t/p/w138_and_h175_face/vpF3R2YRCGHseGevmDAhftmOPkO.jpg 1x, https://media.themoviedb.org/t/p/w276_and_h350_face/vpF3R2YRCGHseGevmDAhftmOPkO.jpg 2x\"/>\n",
      "</div>\n",
      "</a>\n",
      "<p><a href=\"/person/208677-lee-majdoub\">Lee Majdoub</a></p>\n",
      "<p class=\"character\">Agent Stone</p>\n",
      "</li>, <li class=\"card\">\n",
      "<a href=\"/person/78080-krysten-ritter\">\n",
      "<div class=\"glyphicons_v2 picture grey profile no_image_holder one\">\n",
      "<img alt=\"Krysten Ritter\" class=\"profile w-full\" loading=\"lazy\" src=\"https://media.themoviedb.org/t/p/w138_and_h175_face/vDr20j128E6Uo1XZLChPoW7FbMG.jpg\" srcset=\"https://media.themoviedb.org/t/p/w138_and_h175_face/vDr20j128E6Uo1XZLChPoW7FbMG.jpg 1x, https://media.themoviedb.org/t/p/w276_and_h350_face/vDr20j128E6Uo1XZLChPoW7FbMG.jpg 2x\"/>\n",
      "</div>\n",
      "</a>\n",
      "<p><a href=\"/person/78080-krysten-ritter\">Krysten Ritter</a></p>\n",
      "<p class=\"character\">Director Rockwell</p>\n",
      "</li>]\n"
     ]
    }
   ],
   "source": [
    "needed_headers = {'User-Agent': 'Mozilla/5.0 (Windows NT 10.0; Win64; x64) AppleWebKit/537.36 (KHTML, like Gecko) Chrome/91.0.4472.124 Safari/537.36'}\n",
    "res = requests.get(\"https://www.themoviedb.org/movie/939243\", headers=needed_headers)\n",
    "\n",
    "soup = BeautifulSoup(res.text, \"lxml\")\n",
    "cards = soup.select(\"li.card\")\n",
    "print(cards)\n"
   ]
  },
  {
   "cell_type": "code",
   "execution_count": 20,
   "metadata": {},
   "outputs": [
    {
     "name": "stdout",
     "output_type": "stream",
     "text": [
      "Jim Carrey\n",
      "Ben Schwartz\n",
      "Keanu Reeves\n",
      "Idris Elba\n",
      "Colleen O'Shaughnessey\n",
      "James Marsden\n",
      "Tika Sumpter\n",
      "Lee Majdoub\n",
      "Krysten Ritter\n"
     ]
    }
   ],
   "source": [
    "# Grabbing the casts of all the movies\n",
    "def cast_grabber(): \n",
    "    cast_list = []\n",
    "    def castisize():\n",
    "        for card in cards:\n",
    "              name = card.find(\"p\").get_text(strip=True)\n",
    "              print(name)\n",
    "              cast_list.append(name)\n",
    "        return cast_list\n",
    "    castisize()  \n",
    "cast_grabber()\n",
    "    "
   ]
  }
 ],
 "metadata": {
  "kernelspec": {
   "display_name": "base",
   "language": "python",
   "name": "python3"
  },
  "language_info": {
   "codemirror_mode": {
    "name": "ipython",
    "version": 3
   },
   "file_extension": ".py",
   "mimetype": "text/x-python",
   "name": "python",
   "nbconvert_exporter": "python",
   "pygments_lexer": "ipython3",
   "version": "3.12.7"
  }
 },
 "nbformat": 4,
 "nbformat_minor": 2
}
