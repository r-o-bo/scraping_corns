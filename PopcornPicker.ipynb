{
 "cells": [
  {
   "cell_type": "code",
   "execution_count": 1,
   "metadata": {},
   "outputs": [],
   "source": [
    "import requests\n",
    "from bs4 import BeautifulSoup\n",
    "import numpy as np\n",
    "import pandas as pd\n",
    "import re"
   ]
  },
  {
   "cell_type": "code",
   "execution_count": 3,
   "metadata": {},
   "outputs": [
    {
     "data": {
      "text/plain": [
       "200"
      ]
     },
     "execution_count": 3,
     "metadata": {},
     "output_type": "execute_result"
    }
   ],
   "source": [
    "needed_headers = {'User-Agent': 'Mozilla/5.0 (Windows NT 10.0; Win64; x64) AppleWebKit/537.36 (KHTML, like Gecko) Chrome/91.0.4472.124 Safari/537.36'}\n",
    "\n",
    "res = requests.get(\"https://www.themoviedb.org/movie\", headers=needed_headers)\n",
    "res.status_code\n",
    "# An exit status of 200 means OK "
   ]
  },
  {
   "cell_type": "code",
   "execution_count": 4,
   "metadata": {},
   "outputs": [],
   "source": [
    "# Creating an instance of the BeautifulSoup class\n",
    "# also im going to be using lxml instead of the conventional html.parser lets see how that goes\n",
    "soup = BeautifulSoup(res.text, \"lxml\")\n",
    "\n",
    "# won't call soup for my own sanity"
   ]
  },
  {
   "cell_type": "code",
   "execution_count": 5,
   "metadata": {},
   "outputs": [
    {
     "name": "stdout",
     "output_type": "stream",
     "text": [
      "Popular Movies \n"
     ]
    }
   ],
   "source": [
    "web_content = soup.get_text().strip()\n",
    "# using .strip() right now gets rid of trailing whitespaces but not leading??? wtf? will figure out\n",
    "print(web_content[:15])"
   ]
  },
  {
   "cell_type": "markdown",
   "metadata": {},
   "source": [
    "### Extracting the title of the web page using various methods:"
   ]
  },
  {
   "cell_type": "code",
   "execution_count": 6,
   "metadata": {},
   "outputs": [
    {
     "data": {
      "text/plain": [
       "<title>Popular Movies — The Movie Database (TMDB)</title>"
      ]
     },
     "execution_count": 6,
     "metadata": {},
     "output_type": "execute_result"
    }
   ],
   "source": [
    "# Extracting title\n",
    "soup.title"
   ]
  },
  {
   "cell_type": "code",
   "execution_count": 7,
   "metadata": {},
   "outputs": [
    {
     "data": {
      "text/plain": [
       "'Popular Movies — The Movie Database (TMDB)'"
      ]
     },
     "execution_count": 7,
     "metadata": {},
     "output_type": "execute_result"
    }
   ],
   "source": [
    "# Another method of fetching the title\n",
    "soup.select(\"title\")[0].getText()"
   ]
  },
  {
   "cell_type": "markdown",
   "metadata": {},
   "source": [
    "### Using functions to help ease our workflow:"
   ]
  },
  {
   "cell_type": "code",
   "execution_count": 8,
   "metadata": {},
   "outputs": [],
   "source": [
    "def vaccum(url: str) -> BeautifulSoup:\n",
    "    try:\n",
    "        # I am not a robot lmao\n",
    "        needed_headers = {'User-Agent': 'Mozilla/5.0 (Windows NT 10.0; Win64; x64) AppleWebKit/537.36 (KHTML, like Gecko) Chrome/91.0.4472.124 Safari/537.36'}\n",
    "        res_func = requests.get(url,headers=needed_headers)\n",
    "\n",
    "        # Raise exc if status code is 5xx or 4xx\n",
    "        res_func.raise_for_status()\n",
    "\n",
    "        return BeautifulSoup(res_func.text, \"lxml\")\n",
    "    \n",
    "    except requests.exceptions.RequestException as e:\n",
    "        # Catch all request-related errors \n",
    "        print(f\"An Error occured!: {e}\")\n",
    "        return None\n",
    "    \n",
    "    finally:\n",
    "        print(\"Excecution FIN\")"
   ]
  },
  {
   "cell_type": "code",
   "execution_count": 9,
   "metadata": {},
   "outputs": [
    {
     "name": "stdout",
     "output_type": "stream",
     "text": [
      "Excecution FIN\n"
     ]
    }
   ],
   "source": [
    "# test case 1: a working url\n",
    "vaccumed = vaccum(\"https://www.themoviedb.org/movie\")\n",
    "# This works, won't call it for obvious reasons "
   ]
  },
  {
   "cell_type": "code",
   "execution_count": 10,
   "metadata": {},
   "outputs": [
    {
     "name": "stdout",
     "output_type": "stream",
     "text": [
      "An Error occured!: HTTPSConnectionPool(host='www.themovipepepe.org', port=443): Max retries exceeded with url: /what (Caused by NameResolutionError(\"<urllib3.connection.HTTPSConnection object at 0x000001B9EE5AEF00>: Failed to resolve 'www.themovipepepe.org' ([Errno 11001] getaddrinfo failed)\"))\n",
      "Excecution FIN\n"
     ]
    }
   ],
   "source": [
    "# test case 2: malformed/incorrect URLs\n",
    "vaccum(\"https://www.themovipepepe.org/what\")"
   ]
  },
  {
   "cell_type": "code",
   "execution_count": 11,
   "metadata": {},
   "outputs": [
    {
     "data": {
      "text/plain": [
       "'Predator: Killer of Killers'"
      ]
     },
     "execution_count": 11,
     "metadata": {},
     "output_type": "execute_result"
    }
   ],
   "source": [
    "# Displaying the name of the first movie\n",
    "first_movie = soup.select(\".content h2\")[3].getText()\n",
    "first_movie"
   ]
  },
  {
   "cell_type": "code",
   "execution_count": 12,
   "metadata": {},
   "outputs": [
    {
     "name": "stdout",
     "output_type": "stream",
     "text": [
      "User score of the movie: Predator: Killer of Killers is 80%\n"
     ]
    }
   ],
   "source": [
    "# Extracting User rating of the first movie\n",
    "span_class = soup.select_one(\".user_score_chart .icon\")['class'][1]\n",
    "span_class\n",
    "perc1 = span_class.split(\"icon-r\")[1]\n",
    "print(f\"User score of the movie: {first_movie} is {perc1}%\")"
   ]
  },
  {
   "cell_type": "code",
   "execution_count": 13,
   "metadata": {},
   "outputs": [
    {
     "data": {
      "text/plain": [
       "'movie/137643'"
      ]
     },
     "execution_count": 13,
     "metadata": {},
     "output_type": "execute_result"
    }
   ],
   "source": [
    "# gonna use regex for extracting the part of the url following the string “https://www.themoviedb.org/” \n",
    "text = str(soup.select(\".content h2\"))\n",
    "match = re.search(r'movie/\\d\\d\\d\\d\\d\\d',text)\n",
    "match.group()\n",
    "# This is going to help us later (i think)"
   ]
  },
  {
   "cell_type": "markdown",
   "metadata": {},
   "source": [
    "### Grabbing the title of all the movies"
   ]
  },
  {
   "cell_type": "code",
   "execution_count": 14,
   "metadata": {},
   "outputs": [
    {
     "data": {
      "text/plain": [
       "['Predator: Killer of Killers',\n",
       " 'The Accountant²',\n",
       " 'Lilo & Stitch',\n",
       " 'Mikaela',\n",
       " 'Sinners',\n",
       " 'K.O.',\n",
       " 'STRAW',\n",
       " 'Shadow Force',\n",
       " 'A Minecraft Movie',\n",
       " 'Final Destination Bloodlines',\n",
       " 'A Working Man',\n",
       " 'Ballerina',\n",
       " 'Warrior Queen',\n",
       " 'The Ugly Stepsister',\n",
       " 'Mission: Impossible - The Final Reckoning',\n",
       " 'The Last Stand of Ellen Cole',\n",
       " 'How to Train Your Dragon',\n",
       " 'Woodwalkers',\n",
       " 'The Accountant',\n",
       " 'Thor: Ragnarok']"
      ]
     },
     "execution_count": 14,
     "metadata": {},
     "output_type": "execute_result"
    }
   ],
   "source": [
    "def title_grabber(soup: BeautifulSoup) -> list:\n",
    "    titles = []\n",
    "    # edge case\n",
    "    if soup is None:\n",
    "        return titles\n",
    "    movies = soup.select(\".content h2\")[3:]\n",
    "    for movie in movies:\n",
    "        a_tag = movie.find(\"a\", title = True)\n",
    "        if a_tag:\n",
    "            titles.append(a_tag[\"title\"])\n",
    "    return titles\n",
    "    \n",
    "        \n",
    "title_grabber(vaccumed)"
   ]
  },
  {
   "cell_type": "markdown",
   "metadata": {},
   "source": [
    "### Grabbing the user ratings of all the movies in a page"
   ]
  },
  {
   "cell_type": "code",
   "execution_count": 15,
   "metadata": {},
   "outputs": [
    {
     "data": {
      "text/plain": [
       "['80',\n",
       " '72',\n",
       " '71',\n",
       " '63',\n",
       " '75',\n",
       " '69',\n",
       " '83',\n",
       " '63',\n",
       " '65',\n",
       " '70',\n",
       " '67',\n",
       " '71',\n",
       " '34',\n",
       " '71',\n",
       " '72',\n",
       " '82',\n",
       " '76',\n",
       " '61',\n",
       " '71',\n",
       " '76']"
      ]
     },
     "execution_count": 15,
     "metadata": {},
     "output_type": "execute_result"
    }
   ],
   "source": [
    "def rating_grabber(soup: BeautifulSoup) -> list:\n",
    "    user_score = []\n",
    "    scores = soup.select(\".content .user_score_chart\")\n",
    "\n",
    "    for score in scores:\n",
    "        # edge case\n",
    "        if score is None:\n",
    "            user_score.append(\"No rating\")\n",
    "        else:\n",
    "            percent = score[\"data-percent\"]\n",
    "            user_score.append(percent)\n",
    "        \n",
    "        \n",
    "\n",
    "    return user_score\n",
    "rating_grabber(vaccumed)"
   ]
  },
  {
   "cell_type": "code",
   "execution_count": 16,
   "metadata": {},
   "outputs": [
    {
     "data": {
      "text/plain": [
       "[<h2>Sort</h2>,\n",
       " <h2>Where To Watch <span>280</span></h2>,\n",
       " <h2>Filters</h2>,\n",
       " <h2><a href=\"/movie/1376434-predator-killer-of-killers\" title=\"Predator: Killer of Killers\">Predator: Killer of Killers</a></h2>,\n",
       " <h2><a href=\"/movie/870028-the-accountant\" title=\"The Accountant²\">The Accountant²</a></h2>,\n",
       " <h2><a href=\"/movie/552524-lilo-stitch\" title=\"Lilo &amp; Stitch\">Lilo &amp; Stitch</a></h2>,\n",
       " <h2><a href=\"/movie/1315988-mikaela\" title=\"Mikaela\">Mikaela</a></h2>,\n",
       " <h2><a href=\"/movie/1233413-sinners\" title=\"Sinners\">Sinners</a></h2>,\n",
       " <h2><a href=\"/movie/1450599-k-o\" title=\"K.O.\">K.O.</a></h2>,\n",
       " <h2><a href=\"/movie/1426776-straw\" title=\"STRAW\">STRAW</a></h2>,\n",
       " <h2><a href=\"/movie/757725-shadow-force\" title=\"Shadow Force\">Shadow Force</a></h2>,\n",
       " <h2><a href=\"/movie/950387-a-minecraft-movie\" title=\"A Minecraft Movie\">A Minecraft Movie</a></h2>,\n",
       " <h2><a href=\"/movie/574475-final-destination-bloodlines\" title=\"Final Destination Bloodlines\">Final Destination Bloodlines</a></h2>,\n",
       " <h2><a href=\"/movie/1197306-a-working-man\" title=\"A Working Man\">A Working Man</a></h2>,\n",
       " <h2><a href=\"/movie/541671-ballerina\" title=\"Ballerina\">Ballerina</a></h2>,\n",
       " <h2><a href=\"/movie/30484-warrior-queen\" title=\"Warrior Queen\">Warrior Queen</a></h2>,\n",
       " <h2><a href=\"/movie/1284120-den-stygge-stesosteren\" title=\"The Ugly Stepsister\">The Ugly Stepsister</a></h2>,\n",
       " <h2><a href=\"/movie/575265-mission-impossible-the-final-reckoning\" title=\"Mission: Impossible - The Final Reckoning\">Mission: Impossible - The Final Reckoning</a></h2>,\n",
       " <h2><a href=\"/movie/1411773-the-last-stand-of-ellen-cole\" title=\"The Last Stand of Ellen Cole\">The Last Stand of Ellen Cole</a></h2>,\n",
       " <h2><a href=\"/movie/1087192-how-to-train-your-dragon\" title=\"How to Train Your Dragon\">How to Train Your Dragon</a></h2>,\n",
       " <h2><a href=\"/movie/1241894-woodwalkers\" title=\"Woodwalkers\">Woodwalkers</a></h2>,\n",
       " <h2><a href=\"/movie/302946-the-accountant\" title=\"The Accountant\">The Accountant</a></h2>,\n",
       " <h2><a href=\"/movie/284053-thor-ragnarok\" title=\"Thor: Ragnarok\">Thor: Ragnarok</a></h2>]"
      ]
     },
     "execution_count": 16,
     "metadata": {},
     "output_type": "execute_result"
    }
   ],
   "source": [
    "soup.select(\".content h2\")"
   ]
  },
  {
   "cell_type": "markdown",
   "metadata": {},
   "source": [
    "### Extracting the HTML content of all the individual pages of movies\n"
   ]
  },
  {
   "cell_type": "code",
   "execution_count": 17,
   "metadata": {},
   "outputs": [
    {
     "data": {
      "text/plain": [
       "['movie/137643',\n",
       " 'movie/870028',\n",
       " 'movie/552524',\n",
       " 'movie/131598',\n",
       " 'movie/123341',\n",
       " 'movie/145059',\n",
       " 'movie/142677',\n",
       " 'movie/757725',\n",
       " 'movie/950387',\n",
       " 'movie/574475',\n",
       " 'movie/119730',\n",
       " 'movie/541671',\n",
       " 'movie/128412',\n",
       " 'movie/575265',\n",
       " 'movie/141177',\n",
       " 'movie/108719',\n",
       " 'movie/124189',\n",
       " 'movie/302946',\n",
       " 'movie/284053']"
      ]
     },
     "execution_count": 17,
     "metadata": {},
     "output_type": "execute_result"
    }
   ],
   "source": [
    "def html_content(soup: BeautifulSoup) -> list:\n",
    "    my_content = str(soup.select(\".content h2\"))\n",
    "    my_list_of_contents = []\n",
    "\n",
    "    stuff = re.findall(r\"movie/\\d\\d\\d\\d\\d\\d\", my_content)\n",
    "    my_list_of_contents.extend(stuff)\n",
    "\n",
    "    return my_list_of_contents\n",
    "   \n",
    "html_content(vaccumed)\n",
    "    "
   ]
  },
  {
   "cell_type": "code",
   "execution_count": 18,
   "metadata": {},
   "outputs": [
    {
     "data": {
      "text/plain": [
       "<ul class=\"multi_select text\" id=\"with_genres\" name=\"with_genres[]\">\n",
       "<li data-value=\"28\"><a class=\"no_click\" href=\"/discover/movie?with_genres=28\">Action</a></li>\n",
       "<li data-value=\"12\"><a class=\"no_click\" href=\"/discover/movie?with_genres=12\">Adventure</a></li>\n",
       "<li data-value=\"16\"><a class=\"no_click\" href=\"/discover/movie?with_genres=16\">Animation</a></li>\n",
       "<li data-value=\"35\"><a class=\"no_click\" href=\"/discover/movie?with_genres=35\">Comedy</a></li>\n",
       "<li data-value=\"80\"><a class=\"no_click\" href=\"/discover/movie?with_genres=80\">Crime</a></li>\n",
       "<li data-value=\"99\"><a class=\"no_click\" href=\"/discover/movie?with_genres=99\">Documentary</a></li>\n",
       "<li data-value=\"18\"><a class=\"no_click\" href=\"/discover/movie?with_genres=18\">Drama</a></li>\n",
       "<li data-value=\"10751\"><a class=\"no_click\" href=\"/discover/movie?with_genres=10751\">Family</a></li>\n",
       "<li data-value=\"14\"><a class=\"no_click\" href=\"/discover/movie?with_genres=14\">Fantasy</a></li>\n",
       "<li data-value=\"36\"><a class=\"no_click\" href=\"/discover/movie?with_genres=36\">History</a></li>\n",
       "<li data-value=\"27\"><a class=\"no_click\" href=\"/discover/movie?with_genres=27\">Horror</a></li>\n",
       "<li data-value=\"10402\"><a class=\"no_click\" href=\"/discover/movie?with_genres=10402\">Music</a></li>\n",
       "<li data-value=\"9648\"><a class=\"no_click\" href=\"/discover/movie?with_genres=9648\">Mystery</a></li>\n",
       "<li data-value=\"10749\"><a class=\"no_click\" href=\"/discover/movie?with_genres=10749\">Romance</a></li>\n",
       "<li data-value=\"878\"><a class=\"no_click\" href=\"/discover/movie?with_genres=878\">Science Fiction</a></li>\n",
       "<li data-value=\"10770\"><a class=\"no_click\" href=\"/discover/movie?with_genres=10770\">TV Movie</a></li>\n",
       "<li data-value=\"53\"><a class=\"no_click\" href=\"/discover/movie?with_genres=53\">Thriller</a></li>\n",
       "<li data-value=\"10752\"><a class=\"no_click\" href=\"/discover/movie?with_genres=10752\">War</a></li>\n",
       "<li data-value=\"37\"><a class=\"no_click\" href=\"/discover/movie?with_genres=37\">Western</a></li>\n",
       "</ul>"
      ]
     },
     "execution_count": 18,
     "metadata": {},
     "output_type": "execute_result"
    }
   ],
   "source": [
    "soup.select(\".multi_select\")[-2]"
   ]
  },
  {
   "cell_type": "markdown",
   "metadata": {},
   "source": [
    "### Grabbing the genres of the movies"
   ]
  },
  {
   "cell_type": "code",
   "execution_count": 19,
   "metadata": {},
   "outputs": [
    {
     "data": {
      "text/plain": [
       "['Action',\n",
       " 'Adventure',\n",
       " 'Animation',\n",
       " 'Comedy',\n",
       " 'Crime',\n",
       " 'Documentary',\n",
       " 'Drama',\n",
       " 'Family',\n",
       " 'Fantasy',\n",
       " 'History',\n",
       " 'Horror',\n",
       " 'Music',\n",
       " 'Mystery',\n",
       " 'Romance',\n",
       " 'Science Fiction',\n",
       " 'TV Movie',\n",
       " 'Thriller',\n",
       " 'War',\n",
       " 'Western',\n",
       " nan]"
      ]
     },
     "execution_count": 19,
     "metadata": {},
     "output_type": "execute_result"
    }
   ],
   "source": [
    "def genre_grabber(soup: BeautifulSoup) -> list:\n",
    "    genres = soup.select(\".multi_select\")[-2]\n",
    "    my_genres = []\n",
    "    for gen in genres.find_all(\"li\"): # found them in list item (li) using inspect\n",
    "        a_tag = gen.find(\"a\") # because its in a hyerplink?\n",
    "        if a_tag:\n",
    "            my_genres.append(a_tag.text.strip())\n",
    "    my_genres.append(np.nan)\n",
    "    return my_genres\n",
    "genre_grabber(vaccumed)\n",
    "    "
   ]
  },
  {
   "cell_type": "code",
   "execution_count": 20,
   "metadata": {},
   "outputs": [
    {
     "data": {
      "text/plain": [
       "['https://www.themoviedb.org/movie/137643',\n",
       " 'https://www.themoviedb.org/movie/870028',\n",
       " 'https://www.themoviedb.org/movie/552524',\n",
       " 'https://www.themoviedb.org/movie/131598',\n",
       " 'https://www.themoviedb.org/movie/123341',\n",
       " 'https://www.themoviedb.org/movie/145059',\n",
       " 'https://www.themoviedb.org/movie/142677',\n",
       " 'https://www.themoviedb.org/movie/757725',\n",
       " 'https://www.themoviedb.org/movie/950387',\n",
       " 'https://www.themoviedb.org/movie/574475',\n",
       " 'https://www.themoviedb.org/movie/119730',\n",
       " 'https://www.themoviedb.org/movie/541671',\n",
       " 'https://www.themoviedb.org/movie/128412',\n",
       " 'https://www.themoviedb.org/movie/575265',\n",
       " 'https://www.themoviedb.org/movie/141177',\n",
       " 'https://www.themoviedb.org/movie/108719',\n",
       " 'https://www.themoviedb.org/movie/124189',\n",
       " 'https://www.themoviedb.org/movie/302946',\n",
       " 'https://www.themoviedb.org/movie/284053']"
      ]
     },
     "execution_count": 20,
     "metadata": {},
     "output_type": "execute_result"
    }
   ],
   "source": [
    "# ok so what I plan to do is that\n",
    "# I already have a list of all the movie content IDs\n",
    "# gonna iterate through them to create a new list object which will be my inputs for my cast func\n",
    "html_content(vaccumed)\n",
    "load = []\n",
    "for info in html_content(vaccumed):\n",
    "    load.append('https://www.themoviedb.org/' + info)\n",
    "load"
   ]
  },
  {
   "cell_type": "markdown",
   "metadata": {},
   "source": [
    "### Grabbing the casts of alll the movies"
   ]
  },
  {
   "cell_type": "code",
   "execution_count": 21,
   "metadata": {},
   "outputs": [
    {
     "name": "stdout",
     "output_type": "stream",
     "text": [
      "Suzuki Mint\n",
      "Eiji Nakamura\n",
      "Shou Nishino\n",
      "Ryôichi Inaba\n",
      "Hirokazu Iijima\n",
      "Takahiro Tsutsumi\n",
      "Masahiko Itoh\n",
      "Yuuki Kawanishi\n",
      "Kazuya Nomura\n",
      "Ben Affleck\n",
      "Jon Bernthal\n",
      "Cynthia Addai-Robinson\n",
      "J.K. Simmons\n",
      "Allison Robertson\n",
      "Alison Wright\n",
      "Daniella Pineda\n",
      "Robert Morgan\n",
      "Grant Harvey\n",
      "Maia Kealoha\n",
      "Sydney Agudong\n",
      "Chris Sanders\n",
      "Zach Galifianakis\n",
      "Billy Magnussen\n",
      "Courtney B. Vance\n",
      "Amy Hill\n",
      "Tia Carrere\n",
      "Kaipo Dudoit\n",
      "Rie Nakagawa\n",
      "Yuri Yamashina\n",
      "Kiyoshi Abe\n",
      "Chizuyu Azami\n",
      "Moeko Ezawa\n",
      "Toshihiko Oda\n",
      "Hiroshi Chō\n",
      "Akira Takahashi\n",
      "Ikunosuke Koizumi\n",
      "Amélie Daure\n",
      "Gianpaolo Lupori\n",
      "Stefan Morawietz\n",
      "Kerry Washington\n",
      "Omar Sy\n",
      "Jahleel Kamara\n",
      "Mark Strong\n",
      "Da'Vine Joy Randolph\n",
      "Method Man\n",
      "Ed Quinn\n",
      "Natalia Reyes\n",
      "Marvin Jones III\n",
      "Jason Momoa\n",
      "Jack Black\n",
      "Sebastian Eugene Hansen\n",
      "Emma Myers\n",
      "Danielle Brooks\n",
      "Jennifer Coolidge\n",
      "Rachel House\n",
      "Allan Henry\n",
      "Bram Scott-Breheny\n",
      "Kaitlyn Santa Juana\n",
      "Teo Briones\n",
      "Rya Kihlstedt\n",
      "Richard Harmon\n",
      "Owen Patrick Joyner\n",
      "Anna Lore\n",
      "Brec Bassinger\n",
      "Tony Todd\n",
      "Andrew Tinpo Lee\n",
      "Ana de Armas\n",
      "Anjelica Huston\n",
      "Keanu Reeves\n",
      "Norman Reedus\n",
      "Lance Reddick\n",
      "Catalina Sandino Moreno\n",
      "Ian McShane\n",
      "Gabriel Byrne\n",
      "Sharon Duncan-Brewster\n",
      "Ramaz Giorgobiani\n",
      "Gogi Kharabadze\n",
      "Marina Kartsivadze\n",
      "Aleqsandre Omiadze\n",
      "Baadur Tsuladze\n",
      "Tengiz Daushvili\n",
      "Otar Zautashvili\n",
      "Akaki Kvantaliani\n",
      "Ioseb Gogichaishvili\n",
      "Tom Cruise\n",
      "Hayley Atwell\n",
      "Ving Rhames\n",
      "Simon Pegg\n",
      "Esai Morales\n",
      "Pom Klementieff\n",
      "Henry Czerny\n",
      "Holt McCallany\n",
      "Janet McTeer\n",
      "Darío Grandinetti\n",
      "Diego Torres\n",
      "Juan Echanove\n",
      "Juan Diego\n",
      "Rebecca Cobos\n",
      "Vladimir Cruz\n",
      "Enrique Quinones\n",
      "Alejandro Trejo\n",
      "Gabriel Rovito\n",
      "Ben Affleck\n",
      "Cynthia Addai-Robinson\n",
      "Anna Kendrick\n",
      "J.K. Simmons\n",
      "Jon Bernthal\n",
      "John Lithgow\n",
      "Jeffrey Tambor\n",
      "Jean Smart\n",
      "Andy Umberger\n",
      "Chris Hemsworth\n",
      "Mark Ruffalo\n",
      "Tom Hiddleston\n",
      "Cate Blanchett\n",
      "Idris Elba\n",
      "Jeff Goldblum\n",
      "Tessa Thompson\n",
      "Karl Urban\n",
      "Anthony Hopkins\n"
     ]
    }
   ],
   "source": [
    "def cast_grabber(soup: BeautifulSoup) -> list: \n",
    "\n",
    "    cast_list = []\n",
    "\n",
    "    def castisize():\n",
    "        cards = soup.select(\"li.card\")\n",
    "\n",
    "        # this loop creates a beautifulsoup instance of every link request\n",
    "        for card in cards:\n",
    "              name = card.find(\"p\").get_text(strip=True)\n",
    "              print(name)\n",
    "              cast_list.append(name)\n",
    "        \n",
    "    castisize()\n",
    "    return cast_list  \n",
    "\n",
    "# my epic use of hashmap \n",
    "all_casts = {}\n",
    "for link in load:\n",
    "     res = requests.get(link,headers=needed_headers)\n",
    "     soup = BeautifulSoup(res.text,\"lxml\")\n",
    "     all_casts[link] = cast_grabber(soup)"
   ]
  },
  {
   "cell_type": "code",
   "execution_count": 22,
   "metadata": {},
   "outputs": [
    {
     "data": {
      "text/plain": [
       "dict_values([['Suzuki Mint', 'Eiji Nakamura', 'Shou Nishino', 'Ryôichi Inaba', 'Hirokazu Iijima', 'Takahiro Tsutsumi', 'Masahiko Itoh', 'Yuuki Kawanishi', 'Kazuya Nomura'], ['Ben Affleck', 'Jon Bernthal', 'Cynthia Addai-Robinson', 'J.K. Simmons', 'Allison Robertson', 'Alison Wright', 'Daniella Pineda', 'Robert Morgan', 'Grant Harvey'], ['Maia Kealoha', 'Sydney Agudong', 'Chris Sanders', 'Zach Galifianakis', 'Billy Magnussen', 'Courtney B. Vance', 'Amy Hill', 'Tia Carrere', 'Kaipo Dudoit'], [], ['Rie Nakagawa', 'Yuri Yamashina', 'Kiyoshi Abe', 'Chizuyu Azami', 'Moeko Ezawa', 'Toshihiko Oda', 'Hiroshi Chō', 'Akira Takahashi', 'Ikunosuke Koizumi'], ['Amélie Daure', 'Gianpaolo Lupori', 'Stefan Morawietz'], [], ['Kerry Washington', 'Omar Sy', 'Jahleel Kamara', 'Mark Strong', \"Da'Vine Joy Randolph\", 'Method Man', 'Ed Quinn', 'Natalia Reyes', 'Marvin Jones III'], ['Jason Momoa', 'Jack Black', 'Sebastian Eugene Hansen', 'Emma Myers', 'Danielle Brooks', 'Jennifer Coolidge', 'Rachel House', 'Allan Henry', 'Bram Scott-Breheny'], ['Kaitlyn Santa Juana', 'Teo Briones', 'Rya Kihlstedt', 'Richard Harmon', 'Owen Patrick Joyner', 'Anna Lore', 'Brec Bassinger', 'Tony Todd', 'Andrew Tinpo Lee'], [], ['Ana de Armas', 'Anjelica Huston', 'Keanu Reeves', 'Norman Reedus', 'Lance Reddick', 'Catalina Sandino Moreno', 'Ian McShane', 'Gabriel Byrne', 'Sharon Duncan-Brewster'], ['Ramaz Giorgobiani', 'Gogi Kharabadze', 'Marina Kartsivadze', 'Aleqsandre Omiadze', 'Baadur Tsuladze', 'Tengiz Daushvili', 'Otar Zautashvili', 'Akaki Kvantaliani', 'Ioseb Gogichaishvili'], ['Tom Cruise', 'Hayley Atwell', 'Ving Rhames', 'Simon Pegg', 'Esai Morales', 'Pom Klementieff', 'Henry Czerny', 'Holt McCallany', 'Janet McTeer'], [], [], ['Darío Grandinetti', 'Diego Torres', 'Juan Echanove', 'Juan Diego', 'Rebecca Cobos', 'Vladimir Cruz', 'Enrique Quinones', 'Alejandro Trejo', 'Gabriel Rovito'], ['Ben Affleck', 'Cynthia Addai-Robinson', 'Anna Kendrick', 'J.K. Simmons', 'Jon Bernthal', 'John Lithgow', 'Jeffrey Tambor', 'Jean Smart', 'Andy Umberger'], ['Chris Hemsworth', 'Mark Ruffalo', 'Tom Hiddleston', 'Cate Blanchett', 'Idris Elba', 'Jeff Goldblum', 'Tessa Thompson', 'Karl Urban', 'Anthony Hopkins']])"
      ]
     },
     "execution_count": 22,
     "metadata": {},
     "output_type": "execute_result"
    }
   ],
   "source": [
    "all_casts.values()"
   ]
  },
  {
   "cell_type": "code",
   "execution_count": 23,
   "metadata": {},
   "outputs": [
    {
     "name": "stdout",
     "output_type": "stream",
     "text": [
      "Cast for https://www.themoviedb.org/movie/137643 -> ['Suzuki Mint', 'Eiji Nakamura', 'Shou Nishino', 'Ryôichi Inaba', 'Hirokazu Iijima', 'Takahiro Tsutsumi', 'Masahiko Itoh', 'Yuuki Kawanishi', 'Kazuya Nomura']\n",
      "Cast for https://www.themoviedb.org/movie/870028 -> ['Ben Affleck', 'Jon Bernthal', 'Cynthia Addai-Robinson', 'J.K. Simmons', 'Allison Robertson', 'Alison Wright', 'Daniella Pineda', 'Robert Morgan', 'Grant Harvey']\n",
      "Cast for https://www.themoviedb.org/movie/552524 -> ['Maia Kealoha', 'Sydney Agudong', 'Chris Sanders', 'Zach Galifianakis', 'Billy Magnussen', 'Courtney B. Vance', 'Amy Hill', 'Tia Carrere', 'Kaipo Dudoit']\n",
      "Cast for https://www.themoviedb.org/movie/131598 -> []\n",
      "Cast for https://www.themoviedb.org/movie/123341 -> ['Rie Nakagawa', 'Yuri Yamashina', 'Kiyoshi Abe', 'Chizuyu Azami', 'Moeko Ezawa', 'Toshihiko Oda', 'Hiroshi Chō', 'Akira Takahashi', 'Ikunosuke Koizumi']\n",
      "Cast for https://www.themoviedb.org/movie/145059 -> ['Amélie Daure', 'Gianpaolo Lupori', 'Stefan Morawietz']\n",
      "Cast for https://www.themoviedb.org/movie/142677 -> []\n",
      "Cast for https://www.themoviedb.org/movie/757725 -> ['Kerry Washington', 'Omar Sy', 'Jahleel Kamara', 'Mark Strong', \"Da'Vine Joy Randolph\", 'Method Man', 'Ed Quinn', 'Natalia Reyes', 'Marvin Jones III']\n",
      "Cast for https://www.themoviedb.org/movie/950387 -> ['Jason Momoa', 'Jack Black', 'Sebastian Eugene Hansen', 'Emma Myers', 'Danielle Brooks', 'Jennifer Coolidge', 'Rachel House', 'Allan Henry', 'Bram Scott-Breheny']\n",
      "Cast for https://www.themoviedb.org/movie/574475 -> ['Kaitlyn Santa Juana', 'Teo Briones', 'Rya Kihlstedt', 'Richard Harmon', 'Owen Patrick Joyner', 'Anna Lore', 'Brec Bassinger', 'Tony Todd', 'Andrew Tinpo Lee']\n",
      "Cast for https://www.themoviedb.org/movie/119730 -> []\n",
      "Cast for https://www.themoviedb.org/movie/541671 -> ['Ana de Armas', 'Anjelica Huston', 'Keanu Reeves', 'Norman Reedus', 'Lance Reddick', 'Catalina Sandino Moreno', 'Ian McShane', 'Gabriel Byrne', 'Sharon Duncan-Brewster']\n",
      "Cast for https://www.themoviedb.org/movie/128412 -> ['Ramaz Giorgobiani', 'Gogi Kharabadze', 'Marina Kartsivadze', 'Aleqsandre Omiadze', 'Baadur Tsuladze', 'Tengiz Daushvili', 'Otar Zautashvili', 'Akaki Kvantaliani', 'Ioseb Gogichaishvili']\n",
      "Cast for https://www.themoviedb.org/movie/575265 -> ['Tom Cruise', 'Hayley Atwell', 'Ving Rhames', 'Simon Pegg', 'Esai Morales', 'Pom Klementieff', 'Henry Czerny', 'Holt McCallany', 'Janet McTeer']\n",
      "Cast for https://www.themoviedb.org/movie/141177 -> []\n",
      "Cast for https://www.themoviedb.org/movie/108719 -> []\n",
      "Cast for https://www.themoviedb.org/movie/124189 -> ['Darío Grandinetti', 'Diego Torres', 'Juan Echanove', 'Juan Diego', 'Rebecca Cobos', 'Vladimir Cruz', 'Enrique Quinones', 'Alejandro Trejo', 'Gabriel Rovito']\n",
      "Cast for https://www.themoviedb.org/movie/302946 -> ['Ben Affleck', 'Cynthia Addai-Robinson', 'Anna Kendrick', 'J.K. Simmons', 'Jon Bernthal', 'John Lithgow', 'Jeffrey Tambor', 'Jean Smart', 'Andy Umberger']\n",
      "Cast for https://www.themoviedb.org/movie/284053 -> ['Chris Hemsworth', 'Mark Ruffalo', 'Tom Hiddleston', 'Cate Blanchett', 'Idris Elba', 'Jeff Goldblum', 'Tessa Thompson', 'Karl Urban', 'Anthony Hopkins']\n"
     ]
    }
   ],
   "source": [
    "# iteratin through the items of the dict to get clean result\n",
    "for url, cast in all_casts.items():\n",
    "     print(f\"Cast for {url} -> {cast}\")"
   ]
  },
  {
   "cell_type": "code",
   "execution_count": 24,
   "metadata": {},
   "outputs": [
    {
     "data": {
      "text/plain": [
       "['Suzuki Mint',\n",
       " 'Eiji Nakamura',\n",
       " 'Shou Nishino',\n",
       " 'Ryôichi Inaba',\n",
       " 'Hirokazu Iijima',\n",
       " 'Takahiro Tsutsumi',\n",
       " 'Masahiko Itoh',\n",
       " 'Yuuki Kawanishi',\n",
       " 'Kazuya Nomura',\n",
       " 'Ben Affleck',\n",
       " 'Jon Bernthal',\n",
       " 'Cynthia Addai-Robinson',\n",
       " 'J.K. Simmons',\n",
       " 'Allison Robertson',\n",
       " 'Alison Wright',\n",
       " 'Daniella Pineda',\n",
       " 'Robert Morgan',\n",
       " 'Grant Harvey',\n",
       " 'Maia Kealoha',\n",
       " 'Sydney Agudong',\n",
       " 'Chris Sanders',\n",
       " 'Zach Galifianakis',\n",
       " 'Billy Magnussen',\n",
       " 'Courtney B. Vance',\n",
       " 'Amy Hill',\n",
       " 'Tia Carrere',\n",
       " 'Kaipo Dudoit',\n",
       " 'Rie Nakagawa',\n",
       " 'Yuri Yamashina',\n",
       " 'Kiyoshi Abe',\n",
       " 'Chizuyu Azami',\n",
       " 'Moeko Ezawa',\n",
       " 'Toshihiko Oda',\n",
       " 'Hiroshi Chō',\n",
       " 'Akira Takahashi',\n",
       " 'Ikunosuke Koizumi',\n",
       " 'Amélie Daure',\n",
       " 'Gianpaolo Lupori',\n",
       " 'Stefan Morawietz',\n",
       " 'Kerry Washington',\n",
       " 'Omar Sy',\n",
       " 'Jahleel Kamara',\n",
       " 'Mark Strong',\n",
       " \"Da'Vine Joy Randolph\",\n",
       " 'Method Man',\n",
       " 'Ed Quinn',\n",
       " 'Natalia Reyes',\n",
       " 'Marvin Jones III',\n",
       " 'Jason Momoa',\n",
       " 'Jack Black',\n",
       " 'Sebastian Eugene Hansen',\n",
       " 'Emma Myers',\n",
       " 'Danielle Brooks',\n",
       " 'Jennifer Coolidge',\n",
       " 'Rachel House',\n",
       " 'Allan Henry',\n",
       " 'Bram Scott-Breheny',\n",
       " 'Kaitlyn Santa Juana',\n",
       " 'Teo Briones',\n",
       " 'Rya Kihlstedt',\n",
       " 'Richard Harmon',\n",
       " 'Owen Patrick Joyner',\n",
       " 'Anna Lore',\n",
       " 'Brec Bassinger',\n",
       " 'Tony Todd',\n",
       " 'Andrew Tinpo Lee',\n",
       " 'Ana de Armas',\n",
       " 'Anjelica Huston',\n",
       " 'Keanu Reeves',\n",
       " 'Norman Reedus',\n",
       " 'Lance Reddick',\n",
       " 'Catalina Sandino Moreno',\n",
       " 'Ian McShane',\n",
       " 'Gabriel Byrne',\n",
       " 'Sharon Duncan-Brewster',\n",
       " 'Ramaz Giorgobiani',\n",
       " 'Gogi Kharabadze',\n",
       " 'Marina Kartsivadze',\n",
       " 'Aleqsandre Omiadze',\n",
       " 'Baadur Tsuladze',\n",
       " 'Tengiz Daushvili',\n",
       " 'Otar Zautashvili',\n",
       " 'Akaki Kvantaliani',\n",
       " 'Ioseb Gogichaishvili',\n",
       " 'Tom Cruise',\n",
       " 'Hayley Atwell',\n",
       " 'Ving Rhames',\n",
       " 'Simon Pegg',\n",
       " 'Esai Morales',\n",
       " 'Pom Klementieff',\n",
       " 'Henry Czerny',\n",
       " 'Holt McCallany',\n",
       " 'Janet McTeer',\n",
       " 'Darío Grandinetti',\n",
       " 'Diego Torres',\n",
       " 'Juan Echanove',\n",
       " 'Juan Diego',\n",
       " 'Rebecca Cobos',\n",
       " 'Vladimir Cruz',\n",
       " 'Enrique Quinones',\n",
       " 'Alejandro Trejo',\n",
       " 'Gabriel Rovito',\n",
       " 'Ben Affleck',\n",
       " 'Cynthia Addai-Robinson',\n",
       " 'Anna Kendrick',\n",
       " 'J.K. Simmons',\n",
       " 'Jon Bernthal',\n",
       " 'John Lithgow',\n",
       " 'Jeffrey Tambor',\n",
       " 'Jean Smart',\n",
       " 'Andy Umberger',\n",
       " 'Chris Hemsworth',\n",
       " 'Mark Ruffalo',\n",
       " 'Tom Hiddleston',\n",
       " 'Cate Blanchett',\n",
       " 'Idris Elba',\n",
       " 'Jeff Goldblum',\n",
       " 'Tessa Thompson',\n",
       " 'Karl Urban',\n",
       " 'Anthony Hopkins']"
      ]
     },
     "execution_count": 24,
     "metadata": {},
     "output_type": "execute_result"
    }
   ],
   "source": [
    "values = [item for value in all_casts.values() for item in value] # nested comprehension\n",
    "values\n",
    "    "
   ]
  },
  {
   "cell_type": "code",
   "execution_count": 25,
   "metadata": {},
   "outputs": [
    {
     "data": {
      "text/plain": [
       "20"
      ]
     },
     "execution_count": 25,
     "metadata": {},
     "output_type": "execute_result"
    }
   ],
   "source": [
    "len(title_grabber(vaccumed))"
   ]
  },
  {
   "cell_type": "code",
   "execution_count": 26,
   "metadata": {},
   "outputs": [
    {
     "data": {
      "text/html": [
       "<div>\n",
       "<style scoped>\n",
       "    .dataframe tbody tr th:only-of-type {\n",
       "        vertical-align: middle;\n",
       "    }\n",
       "\n",
       "    .dataframe tbody tr th {\n",
       "        vertical-align: top;\n",
       "    }\n",
       "\n",
       "    .dataframe thead th {\n",
       "        text-align: right;\n",
       "    }\n",
       "</style>\n",
       "<table border=\"1\" class=\"dataframe\">\n",
       "  <thead>\n",
       "    <tr style=\"text-align: right;\">\n",
       "      <th></th>\n",
       "      <th>Cast</th>\n",
       "      <th>Genre</th>\n",
       "      <th>User ratings</th>\n",
       "      <th>Title</th>\n",
       "    </tr>\n",
       "  </thead>\n",
       "  <tbody>\n",
       "    <tr>\n",
       "      <th>0</th>\n",
       "      <td>Suzuki Mint</td>\n",
       "      <td>Action</td>\n",
       "      <td>80</td>\n",
       "      <td>Predator: Killer of Killers</td>\n",
       "    </tr>\n",
       "    <tr>\n",
       "      <th>1</th>\n",
       "      <td>Eiji Nakamura</td>\n",
       "      <td>Adventure</td>\n",
       "      <td>72</td>\n",
       "      <td>The Accountant²</td>\n",
       "    </tr>\n",
       "    <tr>\n",
       "      <th>2</th>\n",
       "      <td>Shou Nishino</td>\n",
       "      <td>Animation</td>\n",
       "      <td>71</td>\n",
       "      <td>Lilo &amp; Stitch</td>\n",
       "    </tr>\n",
       "    <tr>\n",
       "      <th>3</th>\n",
       "      <td>Ryôichi Inaba</td>\n",
       "      <td>Comedy</td>\n",
       "      <td>63</td>\n",
       "      <td>Mikaela</td>\n",
       "    </tr>\n",
       "    <tr>\n",
       "      <th>4</th>\n",
       "      <td>Hirokazu Iijima</td>\n",
       "      <td>Crime</td>\n",
       "      <td>75</td>\n",
       "      <td>Sinners</td>\n",
       "    </tr>\n",
       "    <tr>\n",
       "      <th>5</th>\n",
       "      <td>Takahiro Tsutsumi</td>\n",
       "      <td>Documentary</td>\n",
       "      <td>69</td>\n",
       "      <td>K.O.</td>\n",
       "    </tr>\n",
       "    <tr>\n",
       "      <th>6</th>\n",
       "      <td>Masahiko Itoh</td>\n",
       "      <td>Drama</td>\n",
       "      <td>83</td>\n",
       "      <td>STRAW</td>\n",
       "    </tr>\n",
       "    <tr>\n",
       "      <th>7</th>\n",
       "      <td>Yuuki Kawanishi</td>\n",
       "      <td>Family</td>\n",
       "      <td>63</td>\n",
       "      <td>Shadow Force</td>\n",
       "    </tr>\n",
       "    <tr>\n",
       "      <th>8</th>\n",
       "      <td>Kazuya Nomura</td>\n",
       "      <td>Fantasy</td>\n",
       "      <td>65</td>\n",
       "      <td>A Minecraft Movie</td>\n",
       "    </tr>\n",
       "    <tr>\n",
       "      <th>9</th>\n",
       "      <td>Ben Affleck</td>\n",
       "      <td>History</td>\n",
       "      <td>70</td>\n",
       "      <td>Final Destination Bloodlines</td>\n",
       "    </tr>\n",
       "  </tbody>\n",
       "</table>\n",
       "</div>"
      ],
      "text/plain": [
       "                Cast        Genre User ratings                         Title\n",
       "0        Suzuki Mint       Action           80   Predator: Killer of Killers\n",
       "1      Eiji Nakamura    Adventure           72               The Accountant²\n",
       "2       Shou Nishino    Animation           71                 Lilo & Stitch\n",
       "3      Ryôichi Inaba       Comedy           63                       Mikaela\n",
       "4    Hirokazu Iijima        Crime           75                       Sinners\n",
       "5  Takahiro Tsutsumi  Documentary           69                          K.O.\n",
       "6      Masahiko Itoh        Drama           83                         STRAW\n",
       "7    Yuuki Kawanishi       Family           63                  Shadow Force\n",
       "8      Kazuya Nomura      Fantasy           65             A Minecraft Movie\n",
       "9        Ben Affleck      History           70  Final Destination Bloodlines"
      ]
     },
     "execution_count": 26,
     "metadata": {},
     "output_type": "execute_result"
    }
   ],
   "source": [
    "# next need a user defined function that returns a pandas data frame with the above data\n",
    "def bamboo():\n",
    "    mydata = {\"Cast\" : values[0:20], \"Genre\" : genre_grabber(vaccumed),\"User ratings\" : rating_grabber(vaccumed), \"Title\" : title_grabber(vaccumed)}\n",
    "    df = pd.DataFrame(data=mydata)\n",
    "    return df.head(10)\n",
    "\n",
    "bamboo()"
   ]
  },
  {
   "cell_type": "code",
   "execution_count": 28,
   "metadata": {},
   "outputs": [
    {
     "name": "stdout",
     "output_type": "stream",
     "text": [
      "Excecution FIN\n",
      "Excecution FIN\n",
      "Excecution FIN\n",
      "Excecution FIN\n",
      "Excecution FIN\n",
      "Excecution FIN\n",
      "Excecution FIN\n",
      "Excecution FIN\n",
      "Excecution FIN\n",
      "Excecution FIN\n",
      "Excecution FIN\n",
      "Excecution FIN\n",
      "Excecution FIN\n",
      "Excecution FIN\n",
      "Excecution FIN\n"
     ]
    },
    {
     "data": {
      "text/html": [
       "<div>\n",
       "<style scoped>\n",
       "    .dataframe tbody tr th:only-of-type {\n",
       "        vertical-align: middle;\n",
       "    }\n",
       "\n",
       "    .dataframe tbody tr th {\n",
       "        vertical-align: top;\n",
       "    }\n",
       "\n",
       "    .dataframe thead th {\n",
       "        text-align: right;\n",
       "    }\n",
       "</style>\n",
       "<table border=\"1\" class=\"dataframe\">\n",
       "  <thead>\n",
       "    <tr style=\"text-align: right;\">\n",
       "      <th></th>\n",
       "      <th>Genre</th>\n",
       "      <th>User ratings</th>\n",
       "      <th>Title</th>\n",
       "    </tr>\n",
       "  </thead>\n",
       "  <tbody>\n",
       "    <tr>\n",
       "      <th>0</th>\n",
       "      <td>Action</td>\n",
       "      <td>80</td>\n",
       "      <td>Predator: Killer of Killers</td>\n",
       "    </tr>\n",
       "    <tr>\n",
       "      <th>1</th>\n",
       "      <td>Adventure</td>\n",
       "      <td>72</td>\n",
       "      <td>The Accountant²</td>\n",
       "    </tr>\n",
       "    <tr>\n",
       "      <th>2</th>\n",
       "      <td>Animation</td>\n",
       "      <td>71</td>\n",
       "      <td>Lilo &amp; Stitch</td>\n",
       "    </tr>\n",
       "    <tr>\n",
       "      <th>3</th>\n",
       "      <td>Comedy</td>\n",
       "      <td>63</td>\n",
       "      <td>Mikaela</td>\n",
       "    </tr>\n",
       "    <tr>\n",
       "      <th>4</th>\n",
       "      <td>Crime</td>\n",
       "      <td>75</td>\n",
       "      <td>Sinners</td>\n",
       "    </tr>\n",
       "    <tr>\n",
       "      <th>...</th>\n",
       "      <td>...</td>\n",
       "      <td>...</td>\n",
       "      <td>...</td>\n",
       "    </tr>\n",
       "    <tr>\n",
       "      <th>95</th>\n",
       "      <td>TV Movie</td>\n",
       "      <td>64</td>\n",
       "      <td>Fountain of Youth</td>\n",
       "    </tr>\n",
       "    <tr>\n",
       "      <th>96</th>\n",
       "      <td>Thriller</td>\n",
       "      <td>53</td>\n",
       "      <td>Rosario</td>\n",
       "    </tr>\n",
       "    <tr>\n",
       "      <th>97</th>\n",
       "      <td>War</td>\n",
       "      <td>54</td>\n",
       "      <td>Fear Street: Prom Queen</td>\n",
       "    </tr>\n",
       "    <tr>\n",
       "      <th>98</th>\n",
       "      <td>Western</td>\n",
       "      <td>78</td>\n",
       "      <td>How to Train Your Dragon</td>\n",
       "    </tr>\n",
       "    <tr>\n",
       "      <th>99</th>\n",
       "      <td>NaN</td>\n",
       "      <td>74</td>\n",
       "      <td>No Time to Die</td>\n",
       "    </tr>\n",
       "  </tbody>\n",
       "</table>\n",
       "<p>100 rows × 3 columns</p>\n",
       "</div>"
      ],
      "text/plain": [
       "        Genre User ratings                        Title\n",
       "0      Action           80  Predator: Killer of Killers\n",
       "1   Adventure           72              The Accountant²\n",
       "2   Animation           71                Lilo & Stitch\n",
       "3      Comedy           63                      Mikaela\n",
       "4       Crime           75                      Sinners\n",
       "..        ...          ...                          ...\n",
       "95   TV Movie           64            Fountain of Youth\n",
       "96   Thriller           53                      Rosario\n",
       "97        War           54      Fear Street: Prom Queen\n",
       "98    Western           78     How to Train Your Dragon\n",
       "99        NaN           74               No Time to Die\n",
       "\n",
       "[100 rows x 3 columns]"
      ]
     },
     "execution_count": 28,
     "metadata": {},
     "output_type": "execute_result"
    }
   ],
   "source": [
    "# exporting to csv\n",
    "def absolute_cinema():\n",
    "    all_titles = []\n",
    "    all_genres = []\n",
    "    all_ratings = []\n",
    "\n",
    "    for page in range(1, 6):\n",
    "        myurl = f\"https://www.themoviedb.org/movie?page={page}\"\n",
    "        titles = title_grabber(vaccum(myurl))\n",
    "        genres = genre_grabber(vaccum(myurl))\n",
    "        ratings = rating_grabber(vaccum(myurl))\n",
    "        all_titles.extend(titles)\n",
    "        all_genres.extend(genres)\n",
    "        all_ratings.extend(ratings)\n",
    "    book = { \"Genre\" : all_genres ,\"User ratings\" : all_ratings, \"Title\" : all_titles}\n",
    "    df = pd.DataFrame(data=book)\n",
    "    return df\n",
    "    \n",
    "\n",
    "    \n",
    "absolute_cinema()"
   ]
  },
  {
   "cell_type": "code",
   "execution_count": 1,
   "metadata": {},
   "outputs": [
    {
     "data": {
      "text/plain": [
       "'c:\\\\Users\\\\ther0\\\\Documents\\\\repos\\\\scraping_corns'"
      ]
     },
     "execution_count": 1,
     "metadata": {},
     "output_type": "execute_result"
    }
   ],
   "source": [
    "pwd"
   ]
  }
 ],
 "metadata": {
  "kernelspec": {
   "display_name": "base",
   "language": "python",
   "name": "python3"
  },
  "language_info": {
   "codemirror_mode": {
    "name": "ipython",
    "version": 3
   },
   "file_extension": ".py",
   "mimetype": "text/x-python",
   "name": "python",
   "nbconvert_exporter": "python",
   "pygments_lexer": "ipython3",
   "version": "3.12.7"
  }
 },
 "nbformat": 4,
 "nbformat_minor": 2
}
