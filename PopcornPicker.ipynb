{
 "cells": [
  {
   "cell_type": "code",
   "execution_count": 1,
   "metadata": {},
   "outputs": [],
   "source": [
    "import requests\n",
    "from bs4 import BeautifulSoup\n",
    "import numpy as np\n",
    "import pandas as pd\n",
    "import re"
   ]
  },
  {
   "cell_type": "code",
   "execution_count": 2,
   "metadata": {},
   "outputs": [
    {
     "data": {
      "text/plain": [
       "200"
      ]
     },
     "execution_count": 2,
     "metadata": {},
     "output_type": "execute_result"
    }
   ],
   "source": [
    "needed_headers = {'User-Agent': 'Mozilla/5.0 (Windows NT 10.0; Win64; x64) AppleWebKit/537.36 (KHTML, like Gecko) Chrome/91.0.4472.124 Safari/537.36'}\n",
    "\n",
    "res = requests.get(\"https://www.themoviedb.org/movie\", headers=needed_headers)\n",
    "res.status_code\n",
    "# An exit status of 200 means OK "
   ]
  },
  {
   "cell_type": "code",
   "execution_count": 3,
   "metadata": {},
   "outputs": [],
   "source": [
    "# Creating an instance of the BeautifulSoup class\n",
    "# also im going to be using lxml instead of the conventional html.parser lets see how that goes\n",
    "soup = BeautifulSoup(res.text, \"lxml\")\n",
    "\n",
    "# won't call soup for my own sanity"
   ]
  },
  {
   "cell_type": "code",
   "execution_count": 4,
   "metadata": {},
   "outputs": [
    {
     "name": "stdout",
     "output_type": "stream",
     "text": [
      "Popular Movies \n"
     ]
    }
   ],
   "source": [
    "web_content = soup.get_text().strip()\n",
    "# using .strip() right now gets rid of trailing whitespaces but not leading??? wtf? will figure out\n",
    "print(web_content[:15])"
   ]
  },
  {
   "cell_type": "markdown",
   "metadata": {},
   "source": [
    "### Extracting the title of the web page using various methods:"
   ]
  },
  {
   "cell_type": "code",
   "execution_count": 5,
   "metadata": {},
   "outputs": [
    {
     "data": {
      "text/plain": [
       "<title>Popular Movies — The Movie Database (TMDB)</title>"
      ]
     },
     "execution_count": 5,
     "metadata": {},
     "output_type": "execute_result"
    }
   ],
   "source": [
    "# Extracting title\n",
    "soup.title"
   ]
  },
  {
   "cell_type": "code",
   "execution_count": 6,
   "metadata": {},
   "outputs": [
    {
     "data": {
      "text/plain": [
       "'Popular Movies — The Movie Database (TMDB)'"
      ]
     },
     "execution_count": 6,
     "metadata": {},
     "output_type": "execute_result"
    }
   ],
   "source": [
    "# Another method of fetching the title\n",
    "soup.select(\"title\")[0].getText()"
   ]
  },
  {
   "cell_type": "markdown",
   "metadata": {},
   "source": [
    "### Using functions to help ease our workflow:"
   ]
  },
  {
   "cell_type": "code",
   "execution_count": 7,
   "metadata": {},
   "outputs": [],
   "source": [
    "def vaccum(url: str) -> BeautifulSoup:\n",
    "    try:\n",
    "        # I am not a robot lmao\n",
    "        needed_headers = {'User-Agent': 'Mozilla/5.0 (Windows NT 10.0; Win64; x64) AppleWebKit/537.36 (KHTML, like Gecko) Chrome/91.0.4472.124 Safari/537.36'}\n",
    "        res_func = requests.get(url,headers=needed_headers)\n",
    "\n",
    "        # Raise exc if status code is 5xx or 4xx\n",
    "        res_func.raise_for_status()\n",
    "\n",
    "        return BeautifulSoup(res_func.text, \"lxml\")\n",
    "    \n",
    "    except requests.exceptions.RequestException as e:\n",
    "        # Catch all request-related errors \n",
    "        print(f\"An Error occured!: {e}\")\n",
    "        return None\n",
    "    \n",
    "    finally:\n",
    "        print(\"Excecution FIN\")"
   ]
  },
  {
   "cell_type": "code",
   "execution_count": 8,
   "metadata": {},
   "outputs": [
    {
     "name": "stdout",
     "output_type": "stream",
     "text": [
      "Excecution FIN\n"
     ]
    }
   ],
   "source": [
    "# test case 1: a working url\n",
    "vaccumed = vaccum(\"https://www.themoviedb.org/movie\")\n",
    "# This works, won't call it for obvious reasons "
   ]
  },
  {
   "cell_type": "code",
   "execution_count": 9,
   "metadata": {},
   "outputs": [
    {
     "name": "stdout",
     "output_type": "stream",
     "text": [
      "An Error occured!: HTTPSConnectionPool(host='www.themovipepepe.org', port=443): Max retries exceeded with url: /what (Caused by NameResolutionError(\"<urllib3.connection.HTTPSConnection object at 0x000001CB7D5E12E0>: Failed to resolve 'www.themovipepepe.org' ([Errno 11001] getaddrinfo failed)\"))\n",
      "Excecution FIN\n"
     ]
    }
   ],
   "source": [
    "# test case 2: malformed/incorrect URLs\n",
    "vaccum(\"https://www.themovipepepe.org/what\")"
   ]
  },
  {
   "cell_type": "code",
   "execution_count": 61,
   "metadata": {},
   "outputs": [
    {
     "ename": "IndexError",
     "evalue": "list index out of range",
     "output_type": "error",
     "traceback": [
      "\u001b[1;31m---------------------------------------------------------------------------\u001b[0m",
      "\u001b[1;31mIndexError\u001b[0m                                Traceback (most recent call last)",
      "Cell \u001b[1;32mIn[61], line 2\u001b[0m\n\u001b[0;32m      1\u001b[0m \u001b[38;5;66;03m# Displaying the name of the first movie\u001b[39;00m\n\u001b[1;32m----> 2\u001b[0m first_movie \u001b[38;5;241m=\u001b[39m soup\u001b[38;5;241m.\u001b[39mselect(\u001b[38;5;124m\"\u001b[39m\u001b[38;5;124m.content h2\u001b[39m\u001b[38;5;124m\"\u001b[39m)[\u001b[38;5;241m3\u001b[39m]\u001b[38;5;241m.\u001b[39mgetText()\n\u001b[0;32m      3\u001b[0m first_movie\n",
      "\u001b[1;31mIndexError\u001b[0m: list index out of range"
     ]
    }
   ],
   "source": [
    "# Displaying the name of the first movie\n",
    "first_movie = soup.select(\".content h2\")[3].getText()\n",
    "first_movie"
   ]
  },
  {
   "cell_type": "code",
   "execution_count": 55,
   "metadata": {},
   "outputs": [
    {
     "name": "stdout",
     "output_type": "stream",
     "text": [
      "User score of the movie: द कोन्जूरिंग: लास्ट राइट्स is 52%\n"
     ]
    }
   ],
   "source": [
    "# Extracting User rating of the first movie\n",
    "span_class = soup.select_one(\".user_score_chart .icon\")['class'][1]\n",
    "span_class\n",
    "perc1 = span_class.split(\"icon-r\")[1]\n",
    "print(f\"User score of the movie: {first_movie} is {perc1}%\")"
   ]
  },
  {
   "cell_type": "code",
   "execution_count": 12,
   "metadata": {},
   "outputs": [
    {
     "data": {
      "text/plain": [
       "'movie/941109'"
      ]
     },
     "execution_count": 12,
     "metadata": {},
     "output_type": "execute_result"
    }
   ],
   "source": [
    "# gonna use regex for extracting the part of the url following the string “https://www.themoviedb.org/” \n",
    "text = str(soup.select(\".content h2\"))\n",
    "match = re.search(r'movie/\\d\\d\\d\\d\\d\\d',text)\n",
    "match.group()\n",
    "# This is going to help us later (i think)"
   ]
  },
  {
   "cell_type": "markdown",
   "metadata": {},
   "source": [
    "### Grabbing the title of all the movies"
   ]
  },
  {
   "cell_type": "code",
   "execution_count": 13,
   "metadata": {},
   "outputs": [
    {
     "data": {
      "text/plain": [
       "['प्ले डर्टी',\n",
       " 'द कोन्जूरिंग: लास्ट राइट्स',\n",
       " 'Marco',\n",
       " 'Primitive War',\n",
       " 'The Toxic Avenger Unrated',\n",
       " 'Demon Slayer: Kimetsu no Yaiba Infinity Castle',\n",
       " 'द फ़ैंटॅस्टिक 4: फ़र्स्ट स्टेप्स',\n",
       " 'The Lost Princess',\n",
       " 'Holy Night: Demon Hunters',\n",
       " 'वॉर ऑफ़ द वर्ल्ड्स',\n",
       " 'Mantis',\n",
       " 'Django Undisputed',\n",
       " 'Assassin',\n",
       " 'Prisoner of War',\n",
       " 'Fight Another Day',\n",
       " 'One Battle After Another',\n",
       " 'द लॉस्ट बस',\n",
       " 'Valiant One',\n",
       " 'सुपरमैन',\n",
       " 'The Man in My Basement']"
      ]
     },
     "execution_count": 13,
     "metadata": {},
     "output_type": "execute_result"
    }
   ],
   "source": [
    "def title_grabber(soup: BeautifulSoup) -> list:\n",
    "    titles = []\n",
    "    # edge case\n",
    "    if soup is None:\n",
    "        return titles\n",
    "    movies = soup.select(\".content h2\")[3:]\n",
    "    for movie in movies:\n",
    "        a_tag = movie.find(\"a\", title = True)\n",
    "        if a_tag:\n",
    "            titles.append(a_tag[\"title\"])\n",
    "    return titles\n",
    "    \n",
    "        \n",
    "title_grabber(vaccumed)"
   ]
  },
  {
   "cell_type": "markdown",
   "metadata": {},
   "source": [
    "### Grabbing the user ratings of all the movies in a page"
   ]
  },
  {
   "cell_type": "code",
   "execution_count": 14,
   "metadata": {},
   "outputs": [
    {
     "data": {
      "text/plain": [
       "['65',\n",
       " '67',\n",
       " '64',\n",
       " '70',\n",
       " '63',\n",
       " '78',\n",
       " '72',\n",
       " '0',\n",
       " '66',\n",
       " '44',\n",
       " '63',\n",
       " '61',\n",
       " '42',\n",
       " '71',\n",
       " '51',\n",
       " '78',\n",
       " '70',\n",
       " '63',\n",
       " '75',\n",
       " '52']"
      ]
     },
     "execution_count": 14,
     "metadata": {},
     "output_type": "execute_result"
    }
   ],
   "source": [
    "def rating_grabber(soup: BeautifulSoup) -> list:\n",
    "    user_score = []\n",
    "    scores = soup.select(\".content .user_score_chart\")\n",
    "\n",
    "    for score in scores:\n",
    "        # edge case\n",
    "        if score is None:\n",
    "            user_score.append(\"No rating\")\n",
    "        else:\n",
    "            percent = score[\"data-percent\"]\n",
    "            user_score.append(percent)\n",
    "        \n",
    "        \n",
    "\n",
    "    return user_score\n",
    "rating_grabber(vaccumed)"
   ]
  },
  {
   "cell_type": "code",
   "execution_count": 15,
   "metadata": {},
   "outputs": [
    {
     "data": {
      "text/plain": [
       "[<h2>Sort</h2>,\n",
       " <h2>Where To Watch <span>78</span></h2>,\n",
       " <h2>Filters</h2>,\n",
       " <h2><a href=\"/movie/941109-play-dirty\" title=\"प्ले डर्टी\">प्ले डर्टी</a></h2>,\n",
       " <h2><a href=\"/movie/1038392-the-conjuring-last-rites\" title=\"द कोन्जूरिंग: लास्ट राइट्स\">द कोन्जूरिंग: लास्ट राइट्स</a></h2>,\n",
       " <h2><a href=\"/movie/1186350\" title=\"Marco\">Marco</a></h2>,\n",
       " <h2><a href=\"/movie/1257009-primitive-war\" title=\"Primitive War\">Primitive War</a></h2>,\n",
       " <h2><a href=\"/movie/338969-the-toxic-avenger-unrated\" title=\"The Toxic Avenger Unrated\">The Toxic Avenger Unrated</a></h2>,\n",
       " <h2><a href=\"/movie/1311031\" title=\"Demon Slayer: Kimetsu no Yaiba Infinity Castle\">Demon Slayer: Kimetsu no Yaiba Infinity Castle</a></h2>,\n",
       " <h2><a href=\"/movie/617126-the-fantastic-4-first-steps\" title=\"द फ़ैंटॅस्टिक 4: फ़र्स्ट स्टेप्स\">द फ़ैंटॅस्टिक 4: फ़र्स्ट स्टेप्स</a></h2>,\n",
       " <h2><a href=\"/movie/1086910-the-lost-princess\" title=\"The Lost Princess\">The Lost Princess</a></h2>,\n",
       " <h2><a href=\"/movie/793387\" title=\"Holy Night: Demon Hunters\">Holy Night: Demon Hunters</a></h2>,\n",
       " <h2><a href=\"/movie/755898-war-of-the-worlds\" title=\"वॉर ऑफ़ द वर्ल्ड्स\">वॉर ऑफ़ द वर्ल्ड्स</a></h2>,\n",
       " <h2><a href=\"/movie/1267319\" title=\"Mantis\">Mantis</a></h2>,\n",
       " <h2><a href=\"/movie/1357886-django-undisputed\" title=\"Django Undisputed\">Django Undisputed</a></h2>,\n",
       " <h2><a href=\"/movie/1552819-assassin\" title=\"Assassin\">Assassin</a></h2>,\n",
       " <h2><a href=\"/movie/1328803-prisoner-of-war\" title=\"Prisoner of War\">Prisoner of War</a></h2>,\n",
       " <h2><a href=\"/movie/1053008-fight-another-day\" title=\"Fight Another Day\">Fight Another Day</a></h2>,\n",
       " <h2><a href=\"/movie/1054867-one-battle-after-another\" title=\"One Battle After Another\">One Battle After Another</a></h2>,\n",
       " <h2><a href=\"/movie/1236470-the-lost-bus\" title=\"द लॉस्ट बस\">द लॉस्ट बस</a></h2>,\n",
       " <h2><a href=\"/movie/1009640-valiant-one\" title=\"Valiant One\">Valiant One</a></h2>,\n",
       " <h2><a href=\"/movie/1061474-superman\" title=\"सुपरमैन\">सुपरमैन</a></h2>,\n",
       " <h2><a href=\"/movie/957121-the-man-in-my-basement\" title=\"The Man in My Basement\">The Man in My Basement</a></h2>]"
      ]
     },
     "execution_count": 15,
     "metadata": {},
     "output_type": "execute_result"
    }
   ],
   "source": [
    "soup.select(\".content h2\")"
   ]
  },
  {
   "cell_type": "markdown",
   "metadata": {},
   "source": [
    "### Extracting the HTML content of all the individual pages of movies\n"
   ]
  },
  {
   "cell_type": "code",
   "execution_count": 16,
   "metadata": {},
   "outputs": [
    {
     "data": {
      "text/plain": [
       "['movie/941109',\n",
       " 'movie/103839',\n",
       " 'movie/118635',\n",
       " 'movie/125700',\n",
       " 'movie/338969',\n",
       " 'movie/131103',\n",
       " 'movie/617126',\n",
       " 'movie/108691',\n",
       " 'movie/793387',\n",
       " 'movie/755898',\n",
       " 'movie/126731',\n",
       " 'movie/135788',\n",
       " 'movie/155281',\n",
       " 'movie/132880',\n",
       " 'movie/105300',\n",
       " 'movie/105486',\n",
       " 'movie/123647',\n",
       " 'movie/100964',\n",
       " 'movie/106147',\n",
       " 'movie/957121']"
      ]
     },
     "execution_count": 16,
     "metadata": {},
     "output_type": "execute_result"
    }
   ],
   "source": [
    "def html_content(soup: BeautifulSoup) -> list:\n",
    "    my_content = str(soup.select(\".content h2\"))\n",
    "    my_list_of_contents = []\n",
    "\n",
    "    stuff = re.findall(r\"movie/\\d\\d\\d\\d\\d\\d\", my_content)\n",
    "    my_list_of_contents.extend(stuff)\n",
    "\n",
    "    return my_list_of_contents\n",
    "   \n",
    "html_content(vaccumed)\n",
    "    "
   ]
  },
  {
   "cell_type": "code",
   "execution_count": 17,
   "metadata": {},
   "outputs": [
    {
     "data": {
      "text/plain": [
       "<ul class=\"multi_select text\" id=\"with_genres\" name=\"with_genres[]\">\n",
       "<li data-value=\"28\"><a class=\"no_click\" href=\"/discover/movie?with_genres=28\">Action</a></li>\n",
       "<li data-value=\"12\"><a class=\"no_click\" href=\"/discover/movie?with_genres=12\">Adventure</a></li>\n",
       "<li data-value=\"16\"><a class=\"no_click\" href=\"/discover/movie?with_genres=16\">Animation</a></li>\n",
       "<li data-value=\"35\"><a class=\"no_click\" href=\"/discover/movie?with_genres=35\">Comedy</a></li>\n",
       "<li data-value=\"80\"><a class=\"no_click\" href=\"/discover/movie?with_genres=80\">Crime</a></li>\n",
       "<li data-value=\"99\"><a class=\"no_click\" href=\"/discover/movie?with_genres=99\">Documentary</a></li>\n",
       "<li data-value=\"18\"><a class=\"no_click\" href=\"/discover/movie?with_genres=18\">Drama</a></li>\n",
       "<li data-value=\"10751\"><a class=\"no_click\" href=\"/discover/movie?with_genres=10751\">Family</a></li>\n",
       "<li data-value=\"14\"><a class=\"no_click\" href=\"/discover/movie?with_genres=14\">Fantasy</a></li>\n",
       "<li data-value=\"36\"><a class=\"no_click\" href=\"/discover/movie?with_genres=36\">History</a></li>\n",
       "<li data-value=\"27\"><a class=\"no_click\" href=\"/discover/movie?with_genres=27\">Horror</a></li>\n",
       "<li data-value=\"10402\"><a class=\"no_click\" href=\"/discover/movie?with_genres=10402\">Music</a></li>\n",
       "<li data-value=\"9648\"><a class=\"no_click\" href=\"/discover/movie?with_genres=9648\">Mystery</a></li>\n",
       "<li data-value=\"10749\"><a class=\"no_click\" href=\"/discover/movie?with_genres=10749\">Romance</a></li>\n",
       "<li data-value=\"878\"><a class=\"no_click\" href=\"/discover/movie?with_genres=878\">Science Fiction</a></li>\n",
       "<li data-value=\"10770\"><a class=\"no_click\" href=\"/discover/movie?with_genres=10770\">TV Movie</a></li>\n",
       "<li data-value=\"53\"><a class=\"no_click\" href=\"/discover/movie?with_genres=53\">Thriller</a></li>\n",
       "<li data-value=\"10752\"><a class=\"no_click\" href=\"/discover/movie?with_genres=10752\">War</a></li>\n",
       "<li data-value=\"37\"><a class=\"no_click\" href=\"/discover/movie?with_genres=37\">Western</a></li>\n",
       "</ul>"
      ]
     },
     "execution_count": 17,
     "metadata": {},
     "output_type": "execute_result"
    }
   ],
   "source": [
    "soup.select(\".multi_select\")[-2]"
   ]
  },
  {
   "cell_type": "markdown",
   "metadata": {},
   "source": [
    "### Grabbing the genres of the movies"
   ]
  },
  {
   "cell_type": "code",
   "execution_count": 18,
   "metadata": {},
   "outputs": [
    {
     "data": {
      "text/plain": [
       "['Action',\n",
       " 'Adventure',\n",
       " 'Animation',\n",
       " 'Comedy',\n",
       " 'Crime',\n",
       " 'Documentary',\n",
       " 'Drama',\n",
       " 'Family',\n",
       " 'Fantasy',\n",
       " 'History',\n",
       " 'Horror',\n",
       " 'Music',\n",
       " 'Mystery',\n",
       " 'Romance',\n",
       " 'Science Fiction',\n",
       " 'TV Movie',\n",
       " 'Thriller',\n",
       " 'War',\n",
       " 'Western',\n",
       " nan]"
      ]
     },
     "execution_count": 18,
     "metadata": {},
     "output_type": "execute_result"
    }
   ],
   "source": [
    "def genre_grabber(soup: BeautifulSoup) -> list:\n",
    "    genres = soup.select(\".multi_select\")[-2]\n",
    "    my_genres = []\n",
    "    for gen in genres.find_all(\"li\"): # found them in list item (li) using inspect\n",
    "        a_tag = gen.find(\"a\") # because its in a hyerplink?\n",
    "        if a_tag:\n",
    "            my_genres.append(a_tag.text.strip())\n",
    "    my_genres.append(np.nan)\n",
    "    return my_genres\n",
    "genre_grabber(vaccumed)\n",
    "    "
   ]
  },
  {
   "cell_type": "code",
   "execution_count": 19,
   "metadata": {},
   "outputs": [
    {
     "data": {
      "text/plain": [
       "['https://www.themoviedb.org/movie/941109',\n",
       " 'https://www.themoviedb.org/movie/103839',\n",
       " 'https://www.themoviedb.org/movie/118635',\n",
       " 'https://www.themoviedb.org/movie/125700',\n",
       " 'https://www.themoviedb.org/movie/338969',\n",
       " 'https://www.themoviedb.org/movie/131103',\n",
       " 'https://www.themoviedb.org/movie/617126',\n",
       " 'https://www.themoviedb.org/movie/108691',\n",
       " 'https://www.themoviedb.org/movie/793387',\n",
       " 'https://www.themoviedb.org/movie/755898',\n",
       " 'https://www.themoviedb.org/movie/126731',\n",
       " 'https://www.themoviedb.org/movie/135788',\n",
       " 'https://www.themoviedb.org/movie/155281',\n",
       " 'https://www.themoviedb.org/movie/132880',\n",
       " 'https://www.themoviedb.org/movie/105300',\n",
       " 'https://www.themoviedb.org/movie/105486',\n",
       " 'https://www.themoviedb.org/movie/123647',\n",
       " 'https://www.themoviedb.org/movie/100964',\n",
       " 'https://www.themoviedb.org/movie/106147',\n",
       " 'https://www.themoviedb.org/movie/957121']"
      ]
     },
     "execution_count": 19,
     "metadata": {},
     "output_type": "execute_result"
    }
   ],
   "source": [
    "# ok so what I plan to do is that\n",
    "# I already have a list of all the movie content IDs\n",
    "# gonna iterate through them to create a new list object which will be my inputs for my cast func\n",
    "html_content(vaccumed)\n",
    "load = []\n",
    "for info in html_content(vaccumed):\n",
    "    load.append('https://www.themoviedb.org/' + info)\n",
    "load"
   ]
  },
  {
   "cell_type": "markdown",
   "metadata": {},
   "source": [
    "### Grabbing the casts of alll the movies"
   ]
  },
  {
   "cell_type": "code",
   "execution_count": 20,
   "metadata": {},
   "outputs": [
    {
     "name": "stdout",
     "output_type": "stream",
     "text": [
      "मार्क वाह्ल्बर्ग\n",
      "LaKeith Stanfield\n",
      "Rosa Salazar\n",
      "कीगन-माइकल की\n",
      "Claire Lovering\n",
      "Chai Hansen\n",
      "Chukwudi Iwuji\n",
      "Tony Shalhoub\n",
      "Nat Wolff\n",
      "Jens Jørn Spottag\n",
      "Bodil Jørgensen\n",
      "Marie Bach Hansen\n",
      "Thomas Ernst\n",
      "Laura Winther Møller\n",
      "Mia Ejlerskov\n",
      "Jesper Riefensthal\n",
      "जार्न हेनरिक्सन\n",
      "Mads Wille\n",
      "Aleksandr Sokurov\n",
      "Venus Seye\n",
      "Mame Ndoumbé Diop\n",
      "Ndiagne Dia\n",
      "Mariama Balde\n",
      "Awa Sène Sarr\n",
      "Tabata Ndiaye\n",
      "पीटर डिंक्लेज\n",
      "Jacob Tremblay\n",
      "Taylour Paige\n",
      "Julia Davis\n",
      "Jonny Coyne\n",
      "Elijah Wood\n",
      "Kevin Bacon\n",
      "David Yow\n",
      "Sarah Niles\n",
      "पेद्रो पास्कल\n",
      "वैनेसा कर्बी\n",
      "Ebon Moss-Bachrach\n",
      "Joseph Quinn\n",
      "Ralph Ineson\n",
      "जूलिया गार्नर\n",
      "Paul Walter Hauser\n",
      "Natasha Lyonne\n",
      "Sarah Niles\n",
      "Don Lee\n",
      "Seohyun\n",
      "David Lee\n",
      "Gyeong Su-jin\n",
      "Jung Ji-so\n",
      "Choi Gwang-il\n",
      "Ryu Seung-su\n",
      "Jeon Ik-ryoung\n",
      "Song Yo-sep\n",
      "आइस क्यूब\n",
      "Eva Longoria\n",
      "क्लार्क ग्रेग\n",
      "Iman Benson\n",
      "Henry Hunter Hall\n",
      "Devon Bostick\n",
      "Andrea Savage\n",
      "Nicole Pulliam\n",
      "Michael O'Neill\n",
      "Judy Canova\n",
      "Stephen Dunne\n",
      "George Cleveland\n",
      "June Vincent\n",
      "Irene Ryan\n",
      "Roy Barcroft\n",
      "Allen Jenkins\n",
      "George Chandler\n",
      "Elizabeth Slifer\n",
      "Corey Hawkins\n",
      "विलेम डाफ़ो\n",
      "Anna Diop\n",
      "Jonathan Ajayi\n",
      "Gershwyn Eustache Jnr\n",
      "Pamela Nomvete\n",
      "Tamara Lawrance\n",
      "Brian Bovell\n",
      "Lizzie Lomas\n"
     ]
    }
   ],
   "source": [
    "def cast_grabber(soup: BeautifulSoup) -> list: \n",
    "\n",
    "    cast_list = []\n",
    "\n",
    "    def castisize():\n",
    "        cards = soup.select(\"li.card\")\n",
    "\n",
    "        # this loop creates a beautifulsoup instance of every link request\n",
    "        for card in cards:\n",
    "              name = card.find(\"p\").get_text(strip=True)\n",
    "              print(name)\n",
    "              cast_list.append(name)\n",
    "        \n",
    "    castisize()\n",
    "    return cast_list  \n",
    "\n",
    "# my epic use of hashmap \n",
    "all_casts = {}\n",
    "for link in load:\n",
    "     res = requests.get(link,headers=needed_headers)\n",
    "     soup = BeautifulSoup(res.text,\"lxml\")\n",
    "     all_casts[link] = cast_grabber(soup)"
   ]
  },
  {
   "cell_type": "code",
   "execution_count": 21,
   "metadata": {},
   "outputs": [
    {
     "data": {
      "text/plain": [
       "dict_values([['मार्क वाह्ल्बर्ग', 'LaKeith Stanfield', 'Rosa Salazar', 'कीगन-माइकल की', 'Claire Lovering', 'Chai Hansen', 'Chukwudi Iwuji', 'Tony Shalhoub', 'Nat Wolff'], ['Jens Jørn Spottag', 'Bodil Jørgensen', 'Marie Bach Hansen', 'Thomas Ernst', 'Laura Winther Møller', 'Mia Ejlerskov', 'Jesper Riefensthal', 'जार्न हेनरिक्सन', 'Mads Wille'], ['Aleksandr Sokurov'], ['Venus Seye', 'Mame Ndoumbé Diop', 'Ndiagne Dia', 'Mariama Balde', 'Awa Sène Sarr', 'Tabata Ndiaye'], ['पीटर डिंक्लेज', 'Jacob Tremblay', 'Taylour Paige', 'Julia Davis', 'Jonny Coyne', 'Elijah Wood', 'Kevin Bacon', 'David Yow', 'Sarah Niles'], [], ['पेद्रो पास्कल', 'वैनेसा कर्बी', 'Ebon Moss-Bachrach', 'Joseph Quinn', 'Ralph Ineson', 'जूलिया गार्नर', 'Paul Walter Hauser', 'Natasha Lyonne', 'Sarah Niles'], [], ['Don Lee', 'Seohyun', 'David Lee', 'Gyeong Su-jin', 'Jung Ji-so', 'Choi Gwang-il', 'Ryu Seung-su', 'Jeon Ik-ryoung', 'Song Yo-sep'], ['आइस क्यूब', 'Eva Longoria', 'क्लार्क ग्रेग', 'Iman Benson', 'Henry Hunter Hall', 'Devon Bostick', 'Andrea Savage', 'Nicole Pulliam', \"Michael O'Neill\"], [], [], ['Judy Canova', 'Stephen Dunne', 'George Cleveland', 'June Vincent', 'Irene Ryan', 'Roy Barcroft', 'Allen Jenkins', 'George Chandler', 'Elizabeth Slifer'], [], [], [], [], [], [], ['Corey Hawkins', 'विलेम डाफ़ो', 'Anna Diop', 'Jonathan Ajayi', 'Gershwyn Eustache Jnr', 'Pamela Nomvete', 'Tamara Lawrance', 'Brian Bovell', 'Lizzie Lomas']])"
      ]
     },
     "execution_count": 21,
     "metadata": {},
     "output_type": "execute_result"
    }
   ],
   "source": [
    "all_casts.values()"
   ]
  },
  {
   "cell_type": "code",
   "execution_count": 22,
   "metadata": {},
   "outputs": [
    {
     "name": "stdout",
     "output_type": "stream",
     "text": [
      "Cast for https://www.themoviedb.org/movie/941109 -> ['मार्क वाह्ल्बर्ग', 'LaKeith Stanfield', 'Rosa Salazar', 'कीगन-माइकल की', 'Claire Lovering', 'Chai Hansen', 'Chukwudi Iwuji', 'Tony Shalhoub', 'Nat Wolff']\n",
      "Cast for https://www.themoviedb.org/movie/103839 -> ['Jens Jørn Spottag', 'Bodil Jørgensen', 'Marie Bach Hansen', 'Thomas Ernst', 'Laura Winther Møller', 'Mia Ejlerskov', 'Jesper Riefensthal', 'जार्न हेनरिक्सन', 'Mads Wille']\n",
      "Cast for https://www.themoviedb.org/movie/118635 -> ['Aleksandr Sokurov']\n",
      "Cast for https://www.themoviedb.org/movie/125700 -> ['Venus Seye', 'Mame Ndoumbé Diop', 'Ndiagne Dia', 'Mariama Balde', 'Awa Sène Sarr', 'Tabata Ndiaye']\n",
      "Cast for https://www.themoviedb.org/movie/338969 -> ['पीटर डिंक्लेज', 'Jacob Tremblay', 'Taylour Paige', 'Julia Davis', 'Jonny Coyne', 'Elijah Wood', 'Kevin Bacon', 'David Yow', 'Sarah Niles']\n",
      "Cast for https://www.themoviedb.org/movie/131103 -> []\n",
      "Cast for https://www.themoviedb.org/movie/617126 -> ['पेद्रो पास्कल', 'वैनेसा कर्बी', 'Ebon Moss-Bachrach', 'Joseph Quinn', 'Ralph Ineson', 'जूलिया गार्नर', 'Paul Walter Hauser', 'Natasha Lyonne', 'Sarah Niles']\n",
      "Cast for https://www.themoviedb.org/movie/108691 -> []\n",
      "Cast for https://www.themoviedb.org/movie/793387 -> ['Don Lee', 'Seohyun', 'David Lee', 'Gyeong Su-jin', 'Jung Ji-so', 'Choi Gwang-il', 'Ryu Seung-su', 'Jeon Ik-ryoung', 'Song Yo-sep']\n",
      "Cast for https://www.themoviedb.org/movie/755898 -> ['आइस क्यूब', 'Eva Longoria', 'क्लार्क ग्रेग', 'Iman Benson', 'Henry Hunter Hall', 'Devon Bostick', 'Andrea Savage', 'Nicole Pulliam', \"Michael O'Neill\"]\n",
      "Cast for https://www.themoviedb.org/movie/126731 -> []\n",
      "Cast for https://www.themoviedb.org/movie/135788 -> []\n",
      "Cast for https://www.themoviedb.org/movie/155281 -> ['Judy Canova', 'Stephen Dunne', 'George Cleveland', 'June Vincent', 'Irene Ryan', 'Roy Barcroft', 'Allen Jenkins', 'George Chandler', 'Elizabeth Slifer']\n",
      "Cast for https://www.themoviedb.org/movie/132880 -> []\n",
      "Cast for https://www.themoviedb.org/movie/105300 -> []\n",
      "Cast for https://www.themoviedb.org/movie/105486 -> []\n",
      "Cast for https://www.themoviedb.org/movie/123647 -> []\n",
      "Cast for https://www.themoviedb.org/movie/100964 -> []\n",
      "Cast for https://www.themoviedb.org/movie/106147 -> []\n",
      "Cast for https://www.themoviedb.org/movie/957121 -> ['Corey Hawkins', 'विलेम डाफ़ो', 'Anna Diop', 'Jonathan Ajayi', 'Gershwyn Eustache Jnr', 'Pamela Nomvete', 'Tamara Lawrance', 'Brian Bovell', 'Lizzie Lomas']\n"
     ]
    }
   ],
   "source": [
    "# iteratin through the items of the dict to get clean result\n",
    "for url, cast in all_casts.items():\n",
    "     print(f\"Cast for {url} -> {cast}\")"
   ]
  },
  {
   "cell_type": "code",
   "execution_count": null,
   "metadata": {},
   "outputs": [
    {
     "data": {
      "text/plain": [
       "['मार्क वाह्ल्बर्ग',\n",
       " 'LaKeith Stanfield',\n",
       " 'Rosa Salazar',\n",
       " 'कीगन-माइकल की',\n",
       " 'Claire Lovering',\n",
       " 'Chai Hansen',\n",
       " 'Chukwudi Iwuji',\n",
       " 'Tony Shalhoub',\n",
       " 'Nat Wolff',\n",
       " 'Jens Jørn Spottag',\n",
       " 'Bodil Jørgensen',\n",
       " 'Marie Bach Hansen',\n",
       " 'Thomas Ernst',\n",
       " 'Laura Winther Møller',\n",
       " 'Mia Ejlerskov',\n",
       " 'Jesper Riefensthal',\n",
       " 'जार्न हेनरिक्सन',\n",
       " 'Mads Wille',\n",
       " 'Aleksandr Sokurov',\n",
       " 'Venus Seye',\n",
       " 'Mame Ndoumbé Diop',\n",
       " 'Ndiagne Dia',\n",
       " 'Mariama Balde',\n",
       " 'Awa Sène Sarr',\n",
       " 'Tabata Ndiaye',\n",
       " 'पीटर डिंक्लेज',\n",
       " 'Jacob Tremblay',\n",
       " 'Taylour Paige',\n",
       " 'Julia Davis',\n",
       " 'Jonny Coyne',\n",
       " 'Elijah Wood',\n",
       " 'Kevin Bacon',\n",
       " 'David Yow',\n",
       " 'Sarah Niles',\n",
       " 'पेद्रो पास्कल',\n",
       " 'वैनेसा कर्बी',\n",
       " 'Ebon Moss-Bachrach',\n",
       " 'Joseph Quinn',\n",
       " 'Ralph Ineson',\n",
       " 'जूलिया गार्नर',\n",
       " 'Paul Walter Hauser',\n",
       " 'Natasha Lyonne',\n",
       " 'Sarah Niles',\n",
       " 'Don Lee',\n",
       " 'Seohyun',\n",
       " 'David Lee',\n",
       " 'Gyeong Su-jin',\n",
       " 'Jung Ji-so',\n",
       " 'Choi Gwang-il',\n",
       " 'Ryu Seung-su',\n",
       " 'Jeon Ik-ryoung',\n",
       " 'Song Yo-sep',\n",
       " 'आइस क्यूब',\n",
       " 'Eva Longoria',\n",
       " 'क्लार्क ग्रेग',\n",
       " 'Iman Benson',\n",
       " 'Henry Hunter Hall',\n",
       " 'Devon Bostick',\n",
       " 'Andrea Savage',\n",
       " 'Nicole Pulliam',\n",
       " \"Michael O'Neill\",\n",
       " 'Judy Canova',\n",
       " 'Stephen Dunne',\n",
       " 'George Cleveland',\n",
       " 'June Vincent',\n",
       " 'Irene Ryan',\n",
       " 'Roy Barcroft',\n",
       " 'Allen Jenkins',\n",
       " 'George Chandler',\n",
       " 'Elizabeth Slifer',\n",
       " 'Corey Hawkins',\n",
       " 'विलेम डाफ़ो',\n",
       " 'Anna Diop',\n",
       " 'Jonathan Ajayi',\n",
       " 'Gershwyn Eustache Jnr',\n",
       " 'Pamela Nomvete',\n",
       " 'Tamara Lawrance',\n",
       " 'Brian Bovell',\n",
       " 'Lizzie Lomas']"
      ]
     },
     "execution_count": 42,
     "metadata": {},
     "output_type": "execute_result"
    }
   ],
   "source": [
    "values_in_a_list = [item for value in all_casts.values() for item in value] # nested comprehension\n",
    "values_in_a_list\n",
    "# this is kinda obsolete but nice to see all listed\n",
    "    "
   ]
  },
  {
   "cell_type": "code",
   "execution_count": null,
   "metadata": {},
   "outputs": [
    {
     "data": {
      "text/plain": [
       "[['मार्क वाह्ल्बर्ग',\n",
       "  'LaKeith Stanfield',\n",
       "  'Rosa Salazar',\n",
       "  'कीगन-माइकल की',\n",
       "  'Claire Lovering',\n",
       "  'Chai Hansen',\n",
       "  'Chukwudi Iwuji',\n",
       "  'Tony Shalhoub',\n",
       "  'Nat Wolff'],\n",
       " ['Jens Jørn Spottag',\n",
       "  'Bodil Jørgensen',\n",
       "  'Marie Bach Hansen',\n",
       "  'Thomas Ernst',\n",
       "  'Laura Winther Møller',\n",
       "  'Mia Ejlerskov',\n",
       "  'Jesper Riefensthal',\n",
       "  'जार्न हेनरिक्सन',\n",
       "  'Mads Wille'],\n",
       " ['Aleksandr Sokurov'],\n",
       " ['Venus Seye',\n",
       "  'Mame Ndoumbé Diop',\n",
       "  'Ndiagne Dia',\n",
       "  'Mariama Balde',\n",
       "  'Awa Sène Sarr',\n",
       "  'Tabata Ndiaye'],\n",
       " ['पीटर डिंक्लेज',\n",
       "  'Jacob Tremblay',\n",
       "  'Taylour Paige',\n",
       "  'Julia Davis',\n",
       "  'Jonny Coyne',\n",
       "  'Elijah Wood',\n",
       "  'Kevin Bacon',\n",
       "  'David Yow',\n",
       "  'Sarah Niles'],\n",
       " [],\n",
       " ['पेद्रो पास्कल',\n",
       "  'वैनेसा कर्बी',\n",
       "  'Ebon Moss-Bachrach',\n",
       "  'Joseph Quinn',\n",
       "  'Ralph Ineson',\n",
       "  'जूलिया गार्नर',\n",
       "  'Paul Walter Hauser',\n",
       "  'Natasha Lyonne',\n",
       "  'Sarah Niles'],\n",
       " [],\n",
       " ['Don Lee',\n",
       "  'Seohyun',\n",
       "  'David Lee',\n",
       "  'Gyeong Su-jin',\n",
       "  'Jung Ji-so',\n",
       "  'Choi Gwang-il',\n",
       "  'Ryu Seung-su',\n",
       "  'Jeon Ik-ryoung',\n",
       "  'Song Yo-sep'],\n",
       " ['आइस क्यूब',\n",
       "  'Eva Longoria',\n",
       "  'क्लार्क ग्रेग',\n",
       "  'Iman Benson',\n",
       "  'Henry Hunter Hall',\n",
       "  'Devon Bostick',\n",
       "  'Andrea Savage',\n",
       "  'Nicole Pulliam',\n",
       "  \"Michael O'Neill\"],\n",
       " [],\n",
       " [],\n",
       " ['Judy Canova',\n",
       "  'Stephen Dunne',\n",
       "  'George Cleveland',\n",
       "  'June Vincent',\n",
       "  'Irene Ryan',\n",
       "  'Roy Barcroft',\n",
       "  'Allen Jenkins',\n",
       "  'George Chandler',\n",
       "  'Elizabeth Slifer'],\n",
       " [],\n",
       " [],\n",
       " [],\n",
       " [],\n",
       " [],\n",
       " [],\n",
       " ['Corey Hawkins',\n",
       "  'विलेम डाफ़ो',\n",
       "  'Anna Diop',\n",
       "  'Jonathan Ajayi',\n",
       "  'Gershwyn Eustache Jnr',\n",
       "  'Pamela Nomvete',\n",
       "  'Tamara Lawrance',\n",
       "  'Brian Bovell',\n",
       "  'Lizzie Lomas']]"
      ]
     },
     "execution_count": 38,
     "metadata": {},
     "output_type": "execute_result"
    }
   ],
   "source": [
    "# but what we need is cast members grouped together with movies\n",
    "values = list(all_casts.values())\n",
    "values"
   ]
  },
  {
   "cell_type": "code",
   "execution_count": 43,
   "metadata": {},
   "outputs": [
    {
     "data": {
      "text/plain": [
       "20"
      ]
     },
     "execution_count": 43,
     "metadata": {},
     "output_type": "execute_result"
    }
   ],
   "source": [
    "len(title_grabber(vaccumed))"
   ]
  },
  {
   "cell_type": "code",
   "execution_count": null,
   "metadata": {},
   "outputs": [
    {
     "data": {
      "text/html": [
       "<div>\n",
       "<style scoped>\n",
       "    .dataframe tbody tr th:only-of-type {\n",
       "        vertical-align: middle;\n",
       "    }\n",
       "\n",
       "    .dataframe tbody tr th {\n",
       "        vertical-align: top;\n",
       "    }\n",
       "\n",
       "    .dataframe thead th {\n",
       "        text-align: right;\n",
       "    }\n",
       "</style>\n",
       "<table border=\"1\" class=\"dataframe\">\n",
       "  <thead>\n",
       "    <tr style=\"text-align: right;\">\n",
       "      <th></th>\n",
       "      <th>Title</th>\n",
       "      <th>Cast</th>\n",
       "      <th>Genre</th>\n",
       "      <th>User ratings</th>\n",
       "    </tr>\n",
       "  </thead>\n",
       "  <tbody>\n",
       "    <tr>\n",
       "      <th>0</th>\n",
       "      <td>Assassin</td>\n",
       "      <td>Judy Canova, Stephen Dunne, George Cleveland, ...</td>\n",
       "      <td>Mystery</td>\n",
       "      <td>42</td>\n",
       "    </tr>\n",
       "    <tr>\n",
       "      <th>1</th>\n",
       "      <td>Holy Night: Demon Hunters</td>\n",
       "      <td>Don Lee, Seohyun, David Lee, Gyeong Su-jin, Ju...</td>\n",
       "      <td>Fantasy</td>\n",
       "      <td>66</td>\n",
       "    </tr>\n",
       "    <tr>\n",
       "      <th>2</th>\n",
       "      <td>Marco</td>\n",
       "      <td>Aleksandr Sokurov</td>\n",
       "      <td>Animation</td>\n",
       "      <td>64</td>\n",
       "    </tr>\n",
       "    <tr>\n",
       "      <th>3</th>\n",
       "      <td>Primitive War</td>\n",
       "      <td>Venus Seye, Mame Ndoumbé Diop, Ndiagne Dia, Ma...</td>\n",
       "      <td>Comedy</td>\n",
       "      <td>70</td>\n",
       "    </tr>\n",
       "    <tr>\n",
       "      <th>4</th>\n",
       "      <td>The Man in My Basement</td>\n",
       "      <td>Corey Hawkins, विलेम डाफ़ो, Anna Diop, Jonatha...</td>\n",
       "      <td>None</td>\n",
       "      <td>52</td>\n",
       "    </tr>\n",
       "    <tr>\n",
       "      <th>5</th>\n",
       "      <td>The Toxic Avenger Unrated</td>\n",
       "      <td>पीटर डिंक्लेज, Jacob Tremblay, Taylour Paige, ...</td>\n",
       "      <td>Crime</td>\n",
       "      <td>63</td>\n",
       "    </tr>\n",
       "    <tr>\n",
       "      <th>6</th>\n",
       "      <td>द कोन्जूरिंग: लास्ट राइट्स</td>\n",
       "      <td>Jens Jørn Spottag, Bodil Jørgensen, Marie Bach...</td>\n",
       "      <td>Adventure</td>\n",
       "      <td>67</td>\n",
       "    </tr>\n",
       "    <tr>\n",
       "      <th>7</th>\n",
       "      <td>द फ़ैंटॅस्टिक 4: फ़र्स्ट स्टेप्स</td>\n",
       "      <td>पेद्रो पास्कल, वैनेसा कर्बी, Ebon Moss-Bachrac...</td>\n",
       "      <td>Drama</td>\n",
       "      <td>72</td>\n",
       "    </tr>\n",
       "    <tr>\n",
       "      <th>8</th>\n",
       "      <td>प्ले डर्टी</td>\n",
       "      <td>मार्क वाह्ल्बर्ग, LaKeith Stanfield, Rosa Sala...</td>\n",
       "      <td>Action</td>\n",
       "      <td>65</td>\n",
       "    </tr>\n",
       "    <tr>\n",
       "      <th>9</th>\n",
       "      <td>वॉर ऑफ़ द वर्ल्ड्स</td>\n",
       "      <td>आइस क्यूब, Eva Longoria, क्लार्क ग्रेग, Iman B...</td>\n",
       "      <td>History</td>\n",
       "      <td>44</td>\n",
       "    </tr>\n",
       "  </tbody>\n",
       "</table>\n",
       "</div>"
      ],
      "text/plain": [
       "                              Title  \\\n",
       "0                          Assassin   \n",
       "1         Holy Night: Demon Hunters   \n",
       "2                             Marco   \n",
       "3                     Primitive War   \n",
       "4            The Man in My Basement   \n",
       "5         The Toxic Avenger Unrated   \n",
       "6        द कोन्जूरिंग: लास्ट राइट्स   \n",
       "7  द फ़ैंटॅस्टिक 4: फ़र्स्ट स्टेप्स   \n",
       "8                        प्ले डर्टी   \n",
       "9                वॉर ऑफ़ द वर्ल्ड्स   \n",
       "\n",
       "                                                Cast      Genre User ratings  \n",
       "0  Judy Canova, Stephen Dunne, George Cleveland, ...    Mystery           42  \n",
       "1  Don Lee, Seohyun, David Lee, Gyeong Su-jin, Ju...    Fantasy           66  \n",
       "2                                  Aleksandr Sokurov  Animation           64  \n",
       "3  Venus Seye, Mame Ndoumbé Diop, Ndiagne Dia, Ma...     Comedy           70  \n",
       "4  Corey Hawkins, विलेम डाफ़ो, Anna Diop, Jonatha...       None           52  \n",
       "5  पीटर डिंक्लेज, Jacob Tremblay, Taylour Paige, ...      Crime           63  \n",
       "6  Jens Jørn Spottag, Bodil Jørgensen, Marie Bach...  Adventure           67  \n",
       "7  पेद्रो पास्कल, वैनेसा कर्बी, Ebon Moss-Bachrac...      Drama           72  \n",
       "8  मार्क वाह्ल्बर्ग, LaKeith Stanfield, Rosa Sala...     Action           65  \n",
       "9  आइस क्यूब, Eva Longoria, क्लार्क ग्रेग, Iman B...    History           44  "
      ]
     },
     "execution_count": 41,
     "metadata": {},
     "output_type": "execute_result"
    }
   ],
   "source": [
    "# next need a user defined function that returns a pandas data frame with the above data\n",
    "def bamboo():\n",
    "    mydata = {\n",
    "        \"Cast\": values[0:20],  \n",
    "        \"Genre\": genre_grabber(vaccumed)[0:20], \n",
    "        \"User ratings\": rating_grabber(vaccumed)[0:20], \n",
    "        \"Title\": title_grabber(vaccumed)[0:20]\n",
    "    }\n",
    "    df = pd.DataFrame(data=mydata)\n",
    "    \n",
    "    df = df.explode('Cast')\n",
    "\n",
    "    # take care of NaN and str bullshitery\n",
    "    df = df[df['Cast'].notna()]\n",
    "    df = df[df['Cast'].apply(lambda x: isinstance(x, str))]\n",
    "\n",
    "    df = df.groupby('Title').agg({\n",
    "        'Cast': lambda x: ', '.join(x),\n",
    "        'Genre': 'first',\n",
    "        'User ratings': 'first'\n",
    "    }).reset_index()\n",
    "    \n",
    "    return df.head(10)\n",
    "\n",
    "bamboo()"
   ]
  },
  {
   "cell_type": "code",
   "execution_count": null,
   "metadata": {},
   "outputs": [
    {
     "name": "stdout",
     "output_type": "stream",
     "text": [
      "Excecution FIN\n",
      "Excecution FIN\n",
      "Excecution FIN\n",
      "Excecution FIN\n",
      "Excecution FIN\n",
      "Excecution FIN\n",
      "Excecution FIN\n",
      "Excecution FIN\n",
      "Excecution FIN\n",
      "Excecution FIN\n",
      "Excecution FIN\n",
      "Excecution FIN\n",
      "Excecution FIN\n",
      "Excecution FIN\n",
      "Excecution FIN\n"
     ]
    },
    {
     "data": {
      "text/html": [
       "<div>\n",
       "<style scoped>\n",
       "    .dataframe tbody tr th:only-of-type {\n",
       "        vertical-align: middle;\n",
       "    }\n",
       "\n",
       "    .dataframe tbody tr th {\n",
       "        vertical-align: top;\n",
       "    }\n",
       "\n",
       "    .dataframe thead th {\n",
       "        text-align: right;\n",
       "    }\n",
       "</style>\n",
       "<table border=\"1\" class=\"dataframe\">\n",
       "  <thead>\n",
       "    <tr style=\"text-align: right;\">\n",
       "      <th></th>\n",
       "      <th>Genre</th>\n",
       "      <th>User ratings</th>\n",
       "      <th>Title</th>\n",
       "    </tr>\n",
       "  </thead>\n",
       "  <tbody>\n",
       "    <tr>\n",
       "      <th>0</th>\n",
       "      <td>Action</td>\n",
       "      <td>65</td>\n",
       "      <td>प्ले डर्टी</td>\n",
       "    </tr>\n",
       "    <tr>\n",
       "      <th>1</th>\n",
       "      <td>Adventure</td>\n",
       "      <td>67</td>\n",
       "      <td>द कोन्जूरिंग: लास्ट राइट्स</td>\n",
       "    </tr>\n",
       "    <tr>\n",
       "      <th>2</th>\n",
       "      <td>Animation</td>\n",
       "      <td>64</td>\n",
       "      <td>Marco</td>\n",
       "    </tr>\n",
       "    <tr>\n",
       "      <th>3</th>\n",
       "      <td>Comedy</td>\n",
       "      <td>78</td>\n",
       "      <td>Demon Slayer: Kimetsu no Yaiba Infinity Castle</td>\n",
       "    </tr>\n",
       "    <tr>\n",
       "      <th>4</th>\n",
       "      <td>Crime</td>\n",
       "      <td>63</td>\n",
       "      <td>The Toxic Avenger Unrated</td>\n",
       "    </tr>\n",
       "    <tr>\n",
       "      <th>...</th>\n",
       "      <td>...</td>\n",
       "      <td>...</td>\n",
       "      <td>...</td>\n",
       "    </tr>\n",
       "    <tr>\n",
       "      <th>95</th>\n",
       "      <td>TV Movie</td>\n",
       "      <td>60</td>\n",
       "      <td>Smurfs</td>\n",
       "    </tr>\n",
       "    <tr>\n",
       "      <th>96</th>\n",
       "      <td>Thriller</td>\n",
       "      <td>59</td>\n",
       "      <td>Get Fast</td>\n",
       "    </tr>\n",
       "    <tr>\n",
       "      <th>97</th>\n",
       "      <td>War</td>\n",
       "      <td>66</td>\n",
       "      <td>The Balloonist</td>\n",
       "    </tr>\n",
       "    <tr>\n",
       "      <th>98</th>\n",
       "      <td>Western</td>\n",
       "      <td>64</td>\n",
       "      <td>Eenie Meanie</td>\n",
       "    </tr>\n",
       "    <tr>\n",
       "      <th>99</th>\n",
       "      <td>NaN</td>\n",
       "      <td>79</td>\n",
       "      <td>Kaiju No. 8: Mission Recon</td>\n",
       "    </tr>\n",
       "  </tbody>\n",
       "</table>\n",
       "<p>100 rows × 3 columns</p>\n",
       "</div>"
      ],
      "text/plain": [
       "        Genre User ratings                                           Title\n",
       "0      Action           65                                      प्ले डर्टी\n",
       "1   Adventure           67                      द कोन्जूरिंग: लास्ट राइट्स\n",
       "2   Animation           64                                           Marco\n",
       "3      Comedy           78  Demon Slayer: Kimetsu no Yaiba Infinity Castle\n",
       "4       Crime           63                       The Toxic Avenger Unrated\n",
       "..        ...          ...                                             ...\n",
       "95   TV Movie           60                                          Smurfs\n",
       "96   Thriller           59                                        Get Fast\n",
       "97        War           66                                  The Balloonist\n",
       "98    Western           64                                    Eenie Meanie\n",
       "99        NaN           79                      Kaiju No. 8: Mission Recon\n",
       "\n",
       "[100 rows x 3 columns]"
      ]
     },
     "execution_count": 48,
     "metadata": {},
     "output_type": "execute_result"
    }
   ],
   "source": [
    "# exporting to csv\n",
    "def absolute_cinema():\n",
    "    all_titles = []\n",
    "    all_genres = []\n",
    "    all_ratings = []\n",
    "\n",
    "    for page in range(1, 6):\n",
    "        myurl = f\"https://www.themoviedb.org/movie?page={page}\"\n",
    "        titles = title_grabber(vaccum(myurl))\n",
    "        genres = genre_grabber(vaccum(myurl))\n",
    "        ratings = rating_grabber(vaccum(myurl))\n",
    "        all_titles.extend(titles)\n",
    "        all_genres.extend(genres)\n",
    "        all_ratings.extend(ratings)\n",
    "    book = { \"Genre\" : all_genres ,\"User ratings\" : all_ratings, \"Title\" : all_titles}\n",
    "    df = pd.DataFrame(data=book)\n",
    "    df.to_csv(\"newfile.csv\",index=True)\n",
    "    return df\n",
    "    \n",
    "absolute_cinema()"
   ]
  }
 ],
 "metadata": {
  "kernelspec": {
   "display_name": "Python (base)",
   "language": "python",
   "name": "base"
  },
  "language_info": {
   "codemirror_mode": {
    "name": "ipython",
    "version": 3
   },
   "file_extension": ".py",
   "mimetype": "text/x-python",
   "name": "python",
   "nbconvert_exporter": "python",
   "pygments_lexer": "ipython3",
   "version": "3.12.7"
  }
 },
 "nbformat": 4,
 "nbformat_minor": 2
}
