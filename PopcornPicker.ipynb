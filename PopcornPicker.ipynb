{
 "cells": [
  {
   "cell_type": "code",
   "execution_count": 1,
   "metadata": {},
   "outputs": [],
   "source": [
    "import requests\n",
    "from bs4 import BeautifulSoup\n",
    "import numpy as np\n",
    "import pandas as pd\n",
    "import re"
   ]
  },
  {
   "cell_type": "code",
   "execution_count": 2,
   "metadata": {},
   "outputs": [
    {
     "data": {
      "text/plain": [
       "200"
      ]
     },
     "execution_count": 2,
     "metadata": {},
     "output_type": "execute_result"
    }
   ],
   "source": [
    "needed_headers = {'User-Agent': 'Mozilla/5.0 (Windows NT 10.0; Win64; x64) AppleWebKit/537.36 (KHTML, like Gecko) Chrome/91.0.4472.124 Safari/537.36'}\n",
    "\n",
    "res = requests.get(\"https://www.themoviedb.org/movie\", headers=needed_headers)\n",
    "res.status_code\n",
    "# An exit status of 200 means OK \n"
   ]
  },
  {
   "cell_type": "code",
   "execution_count": 5,
   "metadata": {},
   "outputs": [],
   "source": [
    "# Creating an instance of the BeautifulSoup class\n",
    "# also im going to be using lxml instead of the conventional html.parser lets see how that goes\n",
    "soup = BeautifulSoup(res.text, \"lxml\")\n",
    "\n",
    "# won't call soup for my own sanity"
   ]
  },
  {
   "cell_type": "code",
   "execution_count": 7,
   "metadata": {},
   "outputs": [
    {
     "name": "stdout",
     "output_type": "stream",
     "text": [
      "Popular Movies \n"
     ]
    }
   ],
   "source": [
    "web_content = soup.get_text().strip()\n",
    "# using .strip() right now gets rid of trailing whitespaces but not leading??? wtf? will figure out\n",
    "print(web_content[:15])"
   ]
  },
  {
   "cell_type": "markdown",
   "metadata": {},
   "source": [
    "### Extracting the title of the web page using various methods:"
   ]
  },
  {
   "cell_type": "code",
   "execution_count": 8,
   "metadata": {},
   "outputs": [
    {
     "data": {
      "text/plain": [
       "<title>Popular Movies — The Movie Database (TMDB)</title>"
      ]
     },
     "execution_count": 8,
     "metadata": {},
     "output_type": "execute_result"
    }
   ],
   "source": [
    "# Extracting title\n",
    "soup.title"
   ]
  },
  {
   "cell_type": "code",
   "execution_count": 9,
   "metadata": {},
   "outputs": [
    {
     "data": {
      "text/plain": [
       "'Popular Movies — The Movie Database (TMDB)'"
      ]
     },
     "execution_count": 9,
     "metadata": {},
     "output_type": "execute_result"
    }
   ],
   "source": [
    "# Another method of fetching the title\n",
    "soup.select(\"title\")[0].getText()"
   ]
  },
  {
   "cell_type": "markdown",
   "metadata": {},
   "source": [
    "### Using functions to help ease our workflow:"
   ]
  },
  {
   "cell_type": "code",
   "execution_count": null,
   "metadata": {},
   "outputs": [],
   "source": [
    "def vaccum(url: str) -> BeautifulSoup:\n",
    "    try:\n",
    "        # I am not a robot lmao\n",
    "        needed_headers = {'User-Agent': 'Mozilla/5.0 (Windows NT 10.0; Win64; x64) AppleWebKit/537.36 (KHTML, like Gecko) Chrome/91.0.4472.124 Safari/537.36'}\n",
    "        res_func = requests.get(url,headers=needed_headers)\n",
    "\n",
    "        # Raise exc if status code is 5xx or 4xx\n",
    "        res_func.raise_for_status()\n",
    "\n",
    "        return BeautifulSoup(res_func.text, \"lxml\")\n",
    "    \n",
    "    except requests.exceptions.RequestException as e:\n",
    "        # Catch all request-related errors \n",
    "        print(f\"An Error occured!: {e}\")\n",
    "        return None\n",
    "    \n",
    "    finally:\n",
    "        print(\"Excecution FIN\")"
   ]
  },
  {
   "cell_type": "code",
   "execution_count": 10,
   "metadata": {},
   "outputs": [
    {
     "name": "stdout",
     "output_type": "stream",
     "text": [
      "Excecution FIN\n"
     ]
    }
   ],
   "source": [
    "# test case 1: a working url\n",
    "vaccumed = vaccum(\"https://www.themoviedb.org/movie\")\n",
    "# This works, won't call it for obvious reasons "
   ]
  },
  {
   "cell_type": "code",
   "execution_count": 12,
   "metadata": {},
   "outputs": [
    {
     "name": "stdout",
     "output_type": "stream",
     "text": [
      "An Error occured!: HTTPSConnectionPool(host='www.themovipepepe.org', port=443): Max retries exceeded with url: /what (Caused by NameResolutionError(\"<urllib3.connection.HTTPSConnection object at 0x0000025E58059CA0>: Failed to resolve 'www.themovipepepe.org' ([Errno 11001] getaddrinfo failed)\"))\n",
      "Excecution FIN\n"
     ]
    }
   ],
   "source": [
    "# test case 2: malformed/incorrect URLs\n",
    "vaccum(\"https://www.themovipepepe.org/what\")"
   ]
  },
  {
   "cell_type": "code",
   "execution_count": 6,
   "metadata": {},
   "outputs": [
    {
     "data": {
      "text/plain": [
       "'Lilo & Stitch'"
      ]
     },
     "execution_count": 6,
     "metadata": {},
     "output_type": "execute_result"
    }
   ],
   "source": [
    "# Displaying the name of the first movie\n",
    "first_movie = soup.select(\".content h2\")[3].getText()\n",
    "first_movie"
   ]
  },
  {
   "cell_type": "code",
   "execution_count": 7,
   "metadata": {},
   "outputs": [
    {
     "name": "stdout",
     "output_type": "stream",
     "text": [
      "User score of the movie: Lilo & Stitch is 71%\n"
     ]
    }
   ],
   "source": [
    "# Extracting User rating of the first movie\n",
    "span_class = soup.select_one(\".user_score_chart .icon\")['class'][1]\n",
    "span_class\n",
    "perc1 = span_class.split(\"icon-r\")[1]\n",
    "print(f\"User score of the movie: {first_movie} is {perc1}%\")"
   ]
  },
  {
   "cell_type": "code",
   "execution_count": 8,
   "metadata": {},
   "outputs": [
    {
     "data": {
      "text/plain": [
       "'movie/552524'"
      ]
     },
     "execution_count": 8,
     "metadata": {},
     "output_type": "execute_result"
    }
   ],
   "source": [
    "# gonna use regex for extracting the part of the url following the string “https://www.themoviedb.org/” \n",
    "text = str(soup.select(\".content h2\"))\n",
    "match = re.search(r'movie/\\d\\d\\d\\d\\d\\d',text)\n",
    "match.group()\n",
    "# This is going to help us later (i think)"
   ]
  },
  {
   "cell_type": "markdown",
   "metadata": {},
   "source": [
    "### Grabbing the title of all the movies"
   ]
  },
  {
   "cell_type": "code",
   "execution_count": 11,
   "metadata": {},
   "outputs": [
    {
     "data": {
      "text/plain": [
       "['Lilo & Stitch',\n",
       " 'Sinners',\n",
       " 'Sikandar',\n",
       " 'A Minecraft Movie',\n",
       " 'Shadow Force',\n",
       " 'A Working Man',\n",
       " 'Final Destination Bloodlines',\n",
       " 'Mission: Impossible - The Final Reckoning',\n",
       " 'The Last Stand of Ellen Cole',\n",
       " 'Until Dawn',\n",
       " 'The Suicide Squad',\n",
       " 'Warfare',\n",
       " 'The Ugly Stepsister',\n",
       " 'Captain America: Brave New World',\n",
       " 'Lilo & Stitch',\n",
       " 'The Containment',\n",
       " 'Snow White',\n",
       " \"A Widow's Game\",\n",
       " 'Tin Soldier',\n",
       " 'Thunderbolts*']"
      ]
     },
     "execution_count": 11,
     "metadata": {},
     "output_type": "execute_result"
    }
   ],
   "source": [
    "def title_grabber(soup: BeautifulSoup) -> list:\n",
    "    titles = []\n",
    "    movies = soup.select(\".content h2\")[3:]\n",
    "    for movie in movies:\n",
    "        a_tag = movie.find(\"a\", title = True)\n",
    "        if a_tag:\n",
    "            titles.append(a_tag[\"title\"])\n",
    "    return titles\n",
    "    \n",
    "        \n",
    "title_grabber(vaccumed)"
   ]
  },
  {
   "cell_type": "markdown",
   "metadata": {},
   "source": [
    "### Grabbing the user ratings of all the movies in a page"
   ]
  },
  {
   "cell_type": "code",
   "execution_count": 12,
   "metadata": {},
   "outputs": [
    {
     "data": {
      "text/plain": [
       "['71',\n",
       " '75',\n",
       " '52',\n",
       " '65',\n",
       " '62',\n",
       " '67',\n",
       " '70',\n",
       " '71',\n",
       " '82',\n",
       " '65',\n",
       " '75',\n",
       " '73',\n",
       " '70',\n",
       " '61',\n",
       " '76',\n",
       " '77',\n",
       " '43',\n",
       " '64',\n",
       " '50',\n",
       " '74']"
      ]
     },
     "execution_count": 12,
     "metadata": {},
     "output_type": "execute_result"
    }
   ],
   "source": [
    "def rating_grabber(soup: BeautifulSoup) -> list:\n",
    "    user_score = []\n",
    "    scores = soup.select(\".content .user_score_chart\")\n",
    "\n",
    "    for score in scores:\n",
    "        # edge case\n",
    "        if score is None:\n",
    "            user_score.append(\"No rating\")\n",
    "        else:\n",
    "            percent = score[\"data-percent\"]\n",
    "            user_score.append(percent)\n",
    "        \n",
    "        \n",
    "\n",
    "    return user_score\n",
    "rating_grabber(vaccumed)"
   ]
  },
  {
   "cell_type": "code",
   "execution_count": 13,
   "metadata": {},
   "outputs": [
    {
     "data": {
      "text/plain": [
       "[<h2>Sort</h2>,\n",
       " <h2>Where To Watch <span>279</span></h2>,\n",
       " <h2>Filters</h2>,\n",
       " <h2><a href=\"/movie/552524-lilo-stitch\" title=\"Lilo &amp; Stitch\">Lilo &amp; Stitch</a></h2>,\n",
       " <h2><a href=\"/movie/1233413-sinners\" title=\"Sinners\">Sinners</a></h2>,\n",
       " <h2><a href=\"/movie/1257960\" title=\"Sikandar\">Sikandar</a></h2>,\n",
       " <h2><a href=\"/movie/950387-a-minecraft-movie\" title=\"A Minecraft Movie\">A Minecraft Movie</a></h2>,\n",
       " <h2><a href=\"/movie/757725-shadow-force\" title=\"Shadow Force\">Shadow Force</a></h2>,\n",
       " <h2><a href=\"/movie/1197306-a-working-man\" title=\"A Working Man\">A Working Man</a></h2>,\n",
       " <h2><a href=\"/movie/574475-final-destination-bloodlines\" title=\"Final Destination Bloodlines\">Final Destination Bloodlines</a></h2>,\n",
       " <h2><a href=\"/movie/575265-mission-impossible-the-final-reckoning\" title=\"Mission: Impossible - The Final Reckoning\">Mission: Impossible - The Final Reckoning</a></h2>,\n",
       " <h2><a href=\"/movie/1411773-the-last-stand-of-ellen-cole\" title=\"The Last Stand of Ellen Cole\">The Last Stand of Ellen Cole</a></h2>,\n",
       " <h2><a href=\"/movie/1232546-until-dawn\" title=\"Until Dawn\">Until Dawn</a></h2>,\n",
       " <h2><a href=\"/movie/436969-the-suicide-squad\" title=\"The Suicide Squad\">The Suicide Squad</a></h2>,\n",
       " <h2><a href=\"/movie/1241436-warfare\" title=\"Warfare\">Warfare</a></h2>,\n",
       " <h2><a href=\"/movie/1284120-den-stygge-stesosteren\" title=\"The Ugly Stepsister\">The Ugly Stepsister</a></h2>,\n",
       " <h2><a href=\"/movie/822119-captain-america-brave-new-world\" title=\"Captain America: Brave New World\">Captain America: Brave New World</a></h2>,\n",
       " <h2><a href=\"/movie/11544-lilo-stitch\" title=\"Lilo &amp; Stitch\">Lilo &amp; Stitch</a></h2>,\n",
       " <h2><a href=\"/movie/568770-poseida\" title=\"The Containment\">The Containment</a></h2>,\n",
       " <h2><a href=\"/movie/447273-snow-white\" title=\"Snow White\">Snow White</a></h2>,\n",
       " <h2><a href=\"/movie/1397832-la-viuda-negra\" title=\"A Widow's Game\">A Widow's Game</a></h2>,\n",
       " <h2><a href=\"/movie/977294-tin-soldier\" title=\"Tin Soldier\">Tin Soldier</a></h2>,\n",
       " <h2><a href=\"/movie/986056-thunderbolts\" title=\"Thunderbolts*\">Thunderbolts*</a></h2>]"
      ]
     },
     "execution_count": 13,
     "metadata": {},
     "output_type": "execute_result"
    }
   ],
   "source": [
    "soup.select(\".content h2\")"
   ]
  },
  {
   "cell_type": "markdown",
   "metadata": {},
   "source": [
    "### Extracting the HTML gold of all the individual pages of movies"
   ]
  },
  {
   "cell_type": "code",
   "execution_count": 14,
   "metadata": {},
   "outputs": [
    {
     "data": {
      "text/plain": [
       "['movie/552524',\n",
       " 'movie/123341',\n",
       " 'movie/125796',\n",
       " 'movie/950387',\n",
       " 'movie/757725',\n",
       " 'movie/119730',\n",
       " 'movie/574475',\n",
       " 'movie/575265',\n",
       " 'movie/141177',\n",
       " 'movie/123254',\n",
       " 'movie/436969',\n",
       " 'movie/124143',\n",
       " 'movie/128412',\n",
       " 'movie/822119',\n",
       " 'movie/568770',\n",
       " 'movie/447273',\n",
       " 'movie/139783',\n",
       " 'movie/977294',\n",
       " 'movie/986056']"
      ]
     },
     "execution_count": 14,
     "metadata": {},
     "output_type": "execute_result"
    }
   ],
   "source": [
    "def html_content(soup: BeautifulSoup) -> list:\n",
    "    my_content = str(soup.select(\".content h2\"))\n",
    "    my_list_of_contents = []\n",
    "\n",
    "    stuff = re.findall(r\"movie/\\d\\d\\d\\d\\d\\d\", my_content)\n",
    "    my_list_of_contents.extend(stuff)\n",
    "\n",
    "    return my_list_of_contents\n",
    "   \n",
    "html_content(vaccumed)\n",
    "    "
   ]
  },
  {
   "cell_type": "code",
   "execution_count": 15,
   "metadata": {},
   "outputs": [
    {
     "data": {
      "text/plain": [
       "<ul class=\"multi_select text\" id=\"with_genres\" name=\"with_genres[]\">\n",
       "<li data-value=\"28\"><a class=\"no_click\" href=\"/discover/movie?with_genres=28\">Action</a></li>\n",
       "<li data-value=\"12\"><a class=\"no_click\" href=\"/discover/movie?with_genres=12\">Adventure</a></li>\n",
       "<li data-value=\"16\"><a class=\"no_click\" href=\"/discover/movie?with_genres=16\">Animation</a></li>\n",
       "<li data-value=\"35\"><a class=\"no_click\" href=\"/discover/movie?with_genres=35\">Comedy</a></li>\n",
       "<li data-value=\"80\"><a class=\"no_click\" href=\"/discover/movie?with_genres=80\">Crime</a></li>\n",
       "<li data-value=\"99\"><a class=\"no_click\" href=\"/discover/movie?with_genres=99\">Documentary</a></li>\n",
       "<li data-value=\"18\"><a class=\"no_click\" href=\"/discover/movie?with_genres=18\">Drama</a></li>\n",
       "<li data-value=\"10751\"><a class=\"no_click\" href=\"/discover/movie?with_genres=10751\">Family</a></li>\n",
       "<li data-value=\"14\"><a class=\"no_click\" href=\"/discover/movie?with_genres=14\">Fantasy</a></li>\n",
       "<li data-value=\"36\"><a class=\"no_click\" href=\"/discover/movie?with_genres=36\">History</a></li>\n",
       "<li data-value=\"27\"><a class=\"no_click\" href=\"/discover/movie?with_genres=27\">Horror</a></li>\n",
       "<li data-value=\"10402\"><a class=\"no_click\" href=\"/discover/movie?with_genres=10402\">Music</a></li>\n",
       "<li data-value=\"9648\"><a class=\"no_click\" href=\"/discover/movie?with_genres=9648\">Mystery</a></li>\n",
       "<li data-value=\"10749\"><a class=\"no_click\" href=\"/discover/movie?with_genres=10749\">Romance</a></li>\n",
       "<li data-value=\"878\"><a class=\"no_click\" href=\"/discover/movie?with_genres=878\">Science Fiction</a></li>\n",
       "<li data-value=\"10770\"><a class=\"no_click\" href=\"/discover/movie?with_genres=10770\">TV Movie</a></li>\n",
       "<li data-value=\"53\"><a class=\"no_click\" href=\"/discover/movie?with_genres=53\">Thriller</a></li>\n",
       "<li data-value=\"10752\"><a class=\"no_click\" href=\"/discover/movie?with_genres=10752\">War</a></li>\n",
       "<li data-value=\"37\"><a class=\"no_click\" href=\"/discover/movie?with_genres=37\">Western</a></li>\n",
       "</ul>"
      ]
     },
     "execution_count": 15,
     "metadata": {},
     "output_type": "execute_result"
    }
   ],
   "source": [
    "soup.select(\".multi_select\")[-2]"
   ]
  },
  {
   "cell_type": "markdown",
   "metadata": {},
   "source": [
    "### Grabbing the genres of the movies"
   ]
  },
  {
   "cell_type": "code",
   "execution_count": 16,
   "metadata": {},
   "outputs": [
    {
     "data": {
      "text/plain": [
       "['Action',\n",
       " 'Adventure',\n",
       " 'Animation',\n",
       " 'Comedy',\n",
       " 'Crime',\n",
       " 'Documentary',\n",
       " 'Drama',\n",
       " 'Family',\n",
       " 'Fantasy',\n",
       " 'History',\n",
       " 'Horror',\n",
       " 'Music',\n",
       " 'Mystery',\n",
       " 'Romance',\n",
       " 'Science Fiction',\n",
       " 'TV Movie',\n",
       " 'Thriller',\n",
       " 'War',\n",
       " 'Western']"
      ]
     },
     "execution_count": 16,
     "metadata": {},
     "output_type": "execute_result"
    }
   ],
   "source": [
    "def genre_grabber(soup: BeautifulSoup) -> list:\n",
    "    genres = soup.select(\".multi_select\")[-2]\n",
    "    my_genres = []\n",
    "    for gen in genres.find_all(\"li\"): # found them in list item (li) using inspect\n",
    "        a_tag = gen.find(\"a\") # because its in a hyerplink?\n",
    "        if a_tag:\n",
    "            my_genres.append(a_tag.text.strip())\n",
    "    return my_genres\n",
    "genre_grabber(vaccumed)\n",
    "    "
   ]
  },
  {
   "cell_type": "code",
   "execution_count": 18,
   "metadata": {},
   "outputs": [
    {
     "data": {
      "text/plain": [
       "['https://www.themoviedb.org/movie/552524',\n",
       " 'https://www.themoviedb.org/movie/123341',\n",
       " 'https://www.themoviedb.org/movie/125796',\n",
       " 'https://www.themoviedb.org/movie/950387',\n",
       " 'https://www.themoviedb.org/movie/757725',\n",
       " 'https://www.themoviedb.org/movie/119730',\n",
       " 'https://www.themoviedb.org/movie/574475',\n",
       " 'https://www.themoviedb.org/movie/575265',\n",
       " 'https://www.themoviedb.org/movie/141177',\n",
       " 'https://www.themoviedb.org/movie/123254',\n",
       " 'https://www.themoviedb.org/movie/436969',\n",
       " 'https://www.themoviedb.org/movie/124143',\n",
       " 'https://www.themoviedb.org/movie/128412',\n",
       " 'https://www.themoviedb.org/movie/822119',\n",
       " 'https://www.themoviedb.org/movie/568770',\n",
       " 'https://www.themoviedb.org/movie/447273',\n",
       " 'https://www.themoviedb.org/movie/139783',\n",
       " 'https://www.themoviedb.org/movie/977294',\n",
       " 'https://www.themoviedb.org/movie/986056']"
      ]
     },
     "execution_count": 18,
     "metadata": {},
     "output_type": "execute_result"
    }
   ],
   "source": [
    "# ok so what I plan to do is that\n",
    "# I already have a list of all the movie content IDs\n",
    "# gonna iterate through them to create a new list object which will be my inputs for my cast func\n",
    "html_content(vaccumed)\n",
    "load = []\n",
    "for info in html_content(vaccumed):\n",
    "    load.append('https://www.themoviedb.org/' + info)\n",
    "load"
   ]
  },
  {
   "cell_type": "markdown",
   "metadata": {},
   "source": [
    "### Grabbing the casts of alll the movies"
   ]
  },
  {
   "cell_type": "code",
   "execution_count": 33,
   "metadata": {},
   "outputs": [
    {
     "name": "stdout",
     "output_type": "stream",
     "text": [
      "Maia Kealoha\n",
      "Sydney Agudong\n",
      "Chris Sanders\n",
      "Zach Galifianakis\n",
      "Billy Magnussen\n",
      "Courtney B. Vance\n",
      "Amy Hill\n",
      "Tia Carrere\n",
      "Kaipo Dudoit\n",
      "Rie Nakagawa\n",
      "Yuri Yamashina\n",
      "Kiyoshi Abe\n",
      "Chizuyu Azami\n",
      "Moeko Ezawa\n",
      "Toshihiko Oda\n",
      "Hiroshi Chō\n",
      "Akira Takahashi\n",
      "Ikunosuke Koizumi\n",
      "Pascal Obispo\n",
      "Jason Momoa\n",
      "Jack Black\n",
      "Sebastian Eugene Hansen\n",
      "Emma Myers\n",
      "Danielle Brooks\n",
      "Jennifer Coolidge\n",
      "Rachel House\n",
      "Allan Henry\n",
      "Bram Scott-Breheny\n",
      "Kerry Washington\n",
      "Omar Sy\n",
      "Jahleel Kamara\n",
      "Mark Strong\n",
      "Da'Vine Joy Randolph\n",
      "Method Man\n",
      "Ed Quinn\n",
      "Natalia Reyes\n",
      "Marvin Jones III\n",
      "Kaitlyn Santa Juana\n",
      "Teo Briones\n",
      "Rya Kihlstedt\n",
      "Richard Harmon\n",
      "Owen Patrick Joyner\n",
      "Anna Lore\n",
      "Brec Bassinger\n",
      "Tony Todd\n",
      "Andrew Tinpo Lee\n",
      "Tom Cruise\n",
      "Hayley Atwell\n",
      "Ving Rhames\n",
      "Simon Pegg\n",
      "Esai Morales\n",
      "Pom Klementieff\n",
      "Henry Czerny\n",
      "Holt McCallany\n",
      "Janet McTeer\n",
      "Sergio Ramos\n",
      "Carmen Salinas\n",
      "Rosalinda Risso\n",
      "Lorena Herrera\n",
      "María Montaño\n",
      "Pilar Delgado\n",
      "Vitorino\n",
      "Marco Antonio Sánchez\n",
      "Paco Sañudo\n",
      "Margot Robbie\n",
      "Idris Elba\n",
      "John Cena\n",
      "Joel Kinnaman\n",
      "Sylvester Stallone\n",
      "Viola Davis\n",
      "David Dastmalchian\n",
      "Daniela Melchior\n",
      "Michael Rooker\n",
      "Ramaz Giorgobiani\n",
      "Gogi Kharabadze\n",
      "Marina Kartsivadze\n",
      "Aleqsandre Omiadze\n",
      "Baadur Tsuladze\n",
      "Tengiz Daushvili\n",
      "Otar Zautashvili\n",
      "Akaki Kvantaliani\n",
      "Ioseb Gogichaishvili\n",
      "Anthony Mackie\n",
      "Harrison Ford\n",
      "Danny Ramirez\n",
      "Shira Haas\n",
      "Tim Blake Nelson\n",
      "Carl Lumbly\n",
      "Giancarlo Esposito\n",
      "Liv Tyler\n",
      "Xosha Roquemore\n",
      "Gia Hunter\n",
      "Jack Gouldbourne\n",
      "Fernanda Romero\n",
      "Alice Coulthard\n",
      "Roger Cudney\n",
      "Edmund Dehn\n",
      "Rachel Zegler\n",
      "Gal Gadot\n",
      "Andrew Burnap\n",
      "Jeremy Swift\n",
      "Jason Kravits\n",
      "Martin Klebba\n",
      "George Salazar\n",
      "Tituss Burgess\n",
      "Andy Grotelueschen\n",
      "Scott Eastwood\n",
      "Robert De Niro\n",
      "Jamie Foxx\n",
      "John Leguizamo\n",
      "Nora Arnezeder\n",
      "Shamier Anderson\n",
      "Yul Vazquez\n",
      "Rita Ora\n",
      "Saïd Taghmaoui\n",
      "Florence Pugh\n",
      "Sebastian Stan\n",
      "Julia Louis-Dreyfus\n",
      "Lewis Pullman\n",
      "David Harbour\n",
      "Wyatt Russell\n",
      "Hannah John-Kamen\n",
      "Olga Kurylenko\n",
      "Geraldine Viswanathan\n"
     ]
    }
   ],
   "source": [
    "def cast_grabber(soup: BeautifulSoup) -> list: \n",
    "\n",
    "    cast_list = []\n",
    "\n",
    "    def castisize():\n",
    "        cards = soup.select(\"li.card\")\n",
    "\n",
    "        # this loop creates a beautifulsoup instance of every link request\n",
    "        for card in cards:\n",
    "              name = card.find(\"p\").get_text(strip=True)\n",
    "              print(name)\n",
    "              cast_list.append(name)\n",
    "        \n",
    "    castisize()\n",
    "    return cast_list  \n",
    "\n",
    "# my epic use of hashmap \n",
    "all_casts = {}\n",
    "for link in load:\n",
    "     res = requests.get(link,headers=needed_headers)\n",
    "     soup = BeautifulSoup(res.text,\"lxml\")\n",
    "     all_casts[link] = cast_grabber(soup)\n",
    "\n"
   ]
  },
  {
   "cell_type": "code",
   "execution_count": 24,
   "metadata": {},
   "outputs": [
    {
     "name": "stdout",
     "output_type": "stream",
     "text": [
      "Cast for https://www.themoviedb.org/movie/950387 -> ['Jason Momoa', 'Jack Black', 'Sebastian Eugene Hansen', 'Emma Myers', 'Danielle Brooks', 'Jennifer Coolidge', 'Rachel House', 'Allan Henry', 'Bram Scott-Breheny']\n",
      "Cast for https://www.themoviedb.org/movie/574475 -> ['Kaitlyn Santa Juana', 'Teo Briones', 'Rya Kihlstedt', 'Richard Harmon', 'Owen Patrick Joyner', 'Anna Lore', 'Brec Bassinger', 'Tony Todd', 'Andrew Tinpo Lee']\n",
      "Cast for https://www.themoviedb.org/movie/447273 -> ['Rachel Zegler', 'Gal Gadot', 'Andrew Burnap', 'Jeremy Swift', 'Jason Kravits', 'Martin Klebba', 'George Salazar', 'Tituss Burgess', 'Andy Grotelueschen']\n",
      "Cast for https://www.themoviedb.org/movie/119730 -> []\n",
      "Cast for https://www.themoviedb.org/movie/124143 -> []\n",
      "Cast for https://www.themoviedb.org/movie/148079 -> []\n",
      "Cast for https://www.themoviedb.org/movie/977294 -> ['Scott Eastwood', 'Robert De Niro', 'Jamie Foxx', 'John Leguizamo', 'Nora Arnezeder', 'Shamier Anderson', 'Yul Vazquez', 'Rita Ora', 'Saïd Taghmaoui']\n",
      "Cast for https://www.themoviedb.org/movie/109447 -> []\n",
      "Cast for https://www.themoviedb.org/movie/986056 -> ['Florence Pugh', 'Sebastian Stan', 'Julia Louis-Dreyfus', 'Lewis Pullman', 'David Harbour', 'Wyatt Russell', 'Hannah John-Kamen', 'Olga Kurylenko', 'Geraldine Viswanathan']\n",
      "Cast for https://www.themoviedb.org/movie/114443 -> []\n",
      "Cast for https://www.themoviedb.org/movie/135997 -> []\n",
      "Cast for https://www.themoviedb.org/movie/897160 -> ['Shin Hye-sun', 'Lee Jun-young', 'Park Jung-woo', 'Park Hyuk-kwon', 'Cha Chung-hwa', 'Lee Chan-hyeong', 'Bae Hyeon-jun', 'Cha Woo-min', 'Kim Sang-woo']\n",
      "Cast for https://www.themoviedb.org/movie/123306 -> []\n",
      "Cast for https://www.themoviedb.org/movie/575265 -> ['Tom Cruise', 'Hayley Atwell', 'Ving Rhames', 'Simon Pegg', 'Esai Morales', 'Pom Klementieff', 'Henry Czerny', 'Holt McCallany', 'Janet McTeer']\n",
      "Cast for https://www.themoviedb.org/movie/109207 -> []\n",
      "Cast for https://www.themoviedb.org/movie/822119 -> ['Anthony Mackie', 'Harrison Ford', 'Danny Ramirez', 'Shira Haas', 'Tim Blake Nelson', 'Carl Lumbly', 'Giancarlo Esposito', 'Liv Tyler', 'Xosha Roquemore']\n",
      "Cast for https://www.themoviedb.org/movie/324544 -> ['Milla Jovovich', 'Dave Bautista', 'Arly Jover', 'Amara Okereke', 'Fraser James', 'Deirdre Mullins', 'Sebastian Stankiewicz', 'Tue Lunding', 'Jacek Dzisiewicz']\n",
      "Cast for https://www.themoviedb.org/movie/710258 -> ['Alec Baldwin', 'Josh Hopkins', 'Patrick Scott McDermott', 'Travis Fimmel', 'Frances Fisher', 'Rhys Coiro', 'Devon Werkheiser', 'Xander Berkeley', 'Jake Busey']\n",
      "Cast for https://www.themoviedb.org/movie/118076 -> ['Mireya Mayor']\n",
      "Cast for https://www.themoviedb.org/movie/123341 -> ['Rie Nakagawa', 'Yuri Yamashina', 'Kiyoshi Abe', 'Chizuyu Azami', 'Moeko Ezawa', 'Toshihiko Oda', 'Hiroshi Chō', 'Akira Takahashi', 'Ikunosuke Koizumi']\n"
     ]
    }
   ],
   "source": [
    "# iteratin through the items of the dict to get clean result\n",
    "for url, cast in all_casts.items():\n",
    "     print(f\"Cast for {url} -> {cast}\")"
   ]
  },
  {
   "cell_type": "code",
   "execution_count": null,
   "metadata": {},
   "outputs": [
    {
     "ename": "NameError",
     "evalue": "name 'cast_list' is not defined",
     "output_type": "error",
     "traceback": [
      "\u001b[1;31m---------------------------------------------------------------------------\u001b[0m",
      "\u001b[1;31mNameError\u001b[0m                                 Traceback (most recent call last)",
      "Cell \u001b[1;32mIn[34], line 1\u001b[0m\n\u001b[1;32m----> 1\u001b[0m cast_list\n",
      "\u001b[1;31mNameError\u001b[0m: name 'cast_list' is not defined"
     ]
    }
   ],
   "source": []
  },
  {
   "cell_type": "code",
   "execution_count": null,
   "metadata": {},
   "outputs": [],
   "source": [
    "# next need a user defined function that returns a pandas data frame with the above data\n",
    "def bamboo():\n",
    "    mydata = {\"Title\" : title_grabber(vaccumed), \"User ratings\" : rating_grabber(vaccumed), \"Genre\" : genre_grabber(vaccumed)}\n",
    "    df = pd.DataFrame(data=mydata)\n",
    "    return df\n",
    "\n",
    "bamboo()\n",
    "    \n",
    "    \n",
    "    "
   ]
  },
  {
   "cell_type": "code",
   "execution_count": 47,
   "metadata": {},
   "outputs": [
    {
     "data": {
      "text/plain": [
       "20"
      ]
     },
     "execution_count": 47,
     "metadata": {},
     "output_type": "execute_result"
    }
   ],
   "source": [
    "len(title_grabber(vaccumed))\n"
   ]
  },
  {
   "cell_type": "code",
   "execution_count": 44,
   "metadata": {},
   "outputs": [
    {
     "data": {
      "text/plain": [
       "20"
      ]
     },
     "execution_count": 44,
     "metadata": {},
     "output_type": "execute_result"
    }
   ],
   "source": [
    "len(rating_grabber(vaccumed))"
   ]
  },
  {
   "cell_type": "code",
   "execution_count": 48,
   "metadata": {},
   "outputs": [
    {
     "data": {
      "text/plain": [
       "19"
      ]
     },
     "execution_count": 48,
     "metadata": {},
     "output_type": "execute_result"
    }
   ],
   "source": [
    "len(genre_grabber(vaccumed))"
   ]
  },
  {
   "cell_type": "code",
   "execution_count": null,
   "metadata": {},
   "outputs": [
    {
     "data": {
      "text/plain": [
       "0"
      ]
     },
     "execution_count": 50,
     "metadata": {},
     "output_type": "execute_result"
    }
   ],
   "source": []
  }
 ],
 "metadata": {
  "kernelspec": {
   "display_name": "base",
   "language": "python",
   "name": "python3"
  },
  "language_info": {
   "codemirror_mode": {
    "name": "ipython",
    "version": 3
   },
   "file_extension": ".py",
   "mimetype": "text/x-python",
   "name": "python",
   "nbconvert_exporter": "python",
   "pygments_lexer": "ipython3",
   "version": "3.12.7"
  }
 },
 "nbformat": 4,
 "nbformat_minor": 2
}
