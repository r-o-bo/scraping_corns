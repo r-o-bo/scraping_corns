{
 "cells": [
  {
   "cell_type": "markdown",
   "metadata": {},
   "source": [
    "## This project's goal is to extract data \n",
    "\n"
   ]
  },
  {
   "cell_type": "code",
   "execution_count": 2,
   "metadata": {},
   "outputs": [],
   "source": [
    "# Importing libraries needed to scrape\n",
    "import requests\n",
    "from bs4 import BeautifulSoup\n",
    "import pandas as pd\n",
    "import re\n",
    "# This will be heavily commented as you can imagine it's easy to forget a python library lol"
   ]
  },
  {
   "cell_type": "code",
   "execution_count": 3,
   "metadata": {},
   "outputs": [
    {
     "data": {
      "text/plain": [
       "200"
      ]
     },
     "execution_count": 3,
     "metadata": {},
     "output_type": "execute_result"
    }
   ],
   "source": [
    "needed_headers = {'User-Agent': 'Mozilla/5.0 (Windows NT 10.0; Win64; x64) AppleWebKit/537.36 (KHTML, like Gecko) Chrome/91.0.4472.124 Safari/537.36'}\n",
    "\n",
    "res = requests.get(\"https://www.themoviedb.org/movie\", headers=needed_headers)\n",
    "res.status_code\n",
    "# An exit status of 200 means OK :)\n"
   ]
  },
  {
   "cell_type": "code",
   "execution_count": 4,
   "metadata": {},
   "outputs": [],
   "source": [
    "# Creating an instance of the BeautifulSoup class\n",
    "# also im using lxml instead html.parser lets see how that goes\n",
    "soup = BeautifulSoup(res.text, \"lxml\")\n",
    "\n",
    "# We won't call soup for our own sanity"
   ]
  },
  {
   "cell_type": "code",
   "execution_count": 10,
   "metadata": {},
   "outputs": [
    {
     "name": "stdout",
     "output_type": "stream",
     "text": [
      "Popular Movies \n"
     ]
    }
   ],
   "source": [
    "web_content = soup.get_text().strip()\n",
    "# using .strip() right now gets rid of trailing whitespaces but not leading??? wtf? will figure out\n",
    "print(web_content[:15])"
   ]
  },
  {
   "cell_type": "code",
   "execution_count": 6,
   "metadata": {},
   "outputs": [
    {
     "data": {
      "text/plain": [
       "<title>Popular Movies — The Movie Database (TMDB)</title>"
      ]
     },
     "execution_count": 6,
     "metadata": {},
     "output_type": "execute_result"
    }
   ],
   "source": [
    "# Extracting the title of the parsed web page \n",
    "soup.title"
   ]
  },
  {
   "cell_type": "code",
   "execution_count": 7,
   "metadata": {},
   "outputs": [
    {
     "data": {
      "text/plain": [
       "'Popular Movies — The Movie Database (TMDB)'"
      ]
     },
     "execution_count": 7,
     "metadata": {},
     "output_type": "execute_result"
    }
   ],
   "source": [
    "# Another method of fetching the title\n",
    "soup.select(\"title\")[0].getText()"
   ]
  },
  {
   "cell_type": "code",
   "execution_count": 15,
   "metadata": {},
   "outputs": [],
   "source": [
    "# Generalizing initial task with the help of functions..\n",
    "def vaccum(url: str) -> BeautifulSoup:\n",
    "    try:\n",
    "        # I am not a robot\n",
    "        needed_headers = {'User-Agent': 'Mozilla/5.0 (Windows NT 10.0; Win64; x64) AppleWebKit/537.36 (KHTML, like Gecko) Chrome/91.0.4472.124 Safari/537.36'}\n",
    "        res_func = requests.get(url,headers=needed_headers)\n",
    "\n",
    "        # Raise exception if status code is 5xx or 4xx\n",
    "        res_func.raise_for_status()\n",
    "\n",
    "        return BeautifulSoup(res_func.text, \"lxml\")\n",
    "    \n",
    "    except requests.exceptions.RequestException as e:\n",
    "        # Catch all request-related errors \n",
    "        print(f\"An Error occured!: {e}\")\n",
    "        return None\n",
    "    \n",
    "    finally:\n",
    "        print(\"Excecution FIN\")"
   ]
  },
  {
   "cell_type": "code",
   "execution_count": 16,
   "metadata": {},
   "outputs": [
    {
     "name": "stdout",
     "output_type": "stream",
     "text": [
      "Excecution FIN\n"
     ]
    }
   ],
   "source": [
    "# test case 1: a working url\n",
    "vaccumed = vaccum(\"https://www.themoviedb.org/movie\")\n",
    "# This works, won't call it for obvious reasons"
   ]
  },
  {
   "cell_type": "code",
   "execution_count": null,
   "metadata": {},
   "outputs": [
    {
     "name": "stdout",
     "output_type": "stream",
     "text": [
      "An Error occured!: HTTPSConnectionPool(host='www.themovipepepe.org', port=443): Max retries exceeded with url: /what (Caused by NewConnectionError('<urllib3.connection.HTTPSConnection object at 0x000002F7067E4C10>: Failed to establish a new connection: [Errno 11001] getaddrinfo failed'))\n",
      "Excecution FIN\n"
     ]
    }
   ],
   "source": [
    "# test case 2: malformed/incorrect URLS\n",
    "vaccum(\"https://www.themovipepepe.org/what\")"
   ]
  },
  {
   "cell_type": "code",
   "execution_count": 8,
   "metadata": {},
   "outputs": [
    {
     "data": {
      "text/plain": [
       "'Red One'"
      ]
     },
     "execution_count": 8,
     "metadata": {},
     "output_type": "execute_result"
    }
   ],
   "source": [
    "# Displaying the name of the first movie\n",
    "first_movie = soup.select(\".content h2\")[3].getText()\n",
    "first_movie"
   ]
  },
  {
   "cell_type": "code",
   "execution_count": 9,
   "metadata": {},
   "outputs": [
    {
     "name": "stdout",
     "output_type": "stream",
     "text": [
      "User score of the movie: Red One is 70%\n"
     ]
    }
   ],
   "source": [
    "#  Extracting User rating of the first movie\n",
    "span_class = soup.select_one(\".user_score_chart .icon\")['class'][1]\n",
    "span_class\n",
    "perc1 = span_class.split(\"icon-r\")[1]\n",
    "print(f\"User score of the movie: {first_movie} is {perc1}%\")\n",
    "\n",
    "\n"
   ]
  },
  {
   "cell_type": "code",
   "execution_count": 10,
   "metadata": {},
   "outputs": [
    {
     "data": {
      "text/plain": [
       "'movie/845781'"
      ]
     },
     "execution_count": 10,
     "metadata": {},
     "output_type": "execute_result"
    }
   ],
   "source": [
    "# we're gonna use regex for extracting the part of the url following the string “https://www.themoviedb.org/” \n",
    "text = str(soup.select(\".content h2\"))\n",
    "match = re.search(r'movie/\\d\\d\\d\\d\\d\\d',text)\n",
    "match.group()\n",
    "\n"
   ]
  },
  {
   "cell_type": "code",
   "execution_count": 30,
   "metadata": {},
   "outputs": [
    {
     "data": {
      "text/plain": [
       "[<h2><a href=\"/movie/845781-red-one\" title=\"Red One\">Red One</a></h2>,\n",
       " <h2><a href=\"/movie/912649-venom-the-last-dance\" title=\"Venom: The Last Dance\">Venom: The Last Dance</a></h2>,\n",
       " <h2><a href=\"/movie/1241982-moana-2\" title=\"Moana 2\">Moana 2</a></h2>,\n",
       " <h2><a href=\"/movie/762509-mufasa-the-lion-king\" title=\"Mufasa: The Lion King\">Mufasa: The Lion King</a></h2>,\n",
       " <h2><a href=\"/movie/939243-sonic-the-hedgehog-3\" title=\"Sonic the Hedgehog 3\">Sonic the Hedgehog 3</a></h2>,\n",
       " <h2><a href=\"/movie/1035048-elevation\" title=\"Elevation\">Elevation</a></h2>,\n",
       " <h2><a href=\"/movie/1000075-largo-winch-le-prix-de-l-argent\" title=\"The Price of Money: A Largo Winch Adventure\">The Price of Money: A Largo Winch Adventure</a></h2>,\n",
       " <h2><a href=\"/movie/1005331-carry-on\" title=\"कैरी-ऑन\">कैरी-ऑन</a></h2>,\n",
       " <h2><a href=\"/movie/539972-kraven-the-hunter\" title=\"Kraven the Hunter\">Kraven the Hunter</a></h2>,\n",
       " <h2><a href=\"/movie/974453-absolution\" title=\"Absolution\">Absolution</a></h2>,\n",
       " <h2><a href=\"/movie/558449-gladiator-ii\" title=\"Gladiator II\">Gladiator II</a></h2>,\n",
       " <h2><a href=\"/movie/1184918-the-wild-robot\" title=\"The Wild Robot\">The Wild Robot</a></h2>,\n",
       " <h2><a href=\"/movie/1138194-heretic\" title=\"Heretic\">Heretic</a></h2>,\n",
       " <h2><a href=\"/movie/645757-that-christmas\" title=\"वह यादगार क्रिसमस\">वह यादगार क्रिसमस</a></h2>,\n",
       " <h2><a href=\"/movie/1182387-armor\" title=\"Armor\">Armor</a></h2>,\n",
       " <h2><a href=\"/movie/933260-the-substance\" title=\"The Substance\">The Substance</a></h2>,\n",
       " <h2><a href=\"/movie/1034541-terrifier-3\" title=\"Terrifier 3\">Terrifier 3</a></h2>,\n",
       " <h2><a href=\"/movie/1010581-culpa-mia\" title=\"My Fault\">My Fault</a></h2>,\n",
       " <h2><a href=\"/movie/1147416-miraculous-world-londres-la-course-contre-le-temps\" title=\"Miraculous World, London: At the Edge of Time\">Miraculous World, London: At the Edge of Time</a></h2>,\n",
       " <h2><a href=\"/movie/1167271-weekend-in-taipei\" title=\"Weekend in Taipei\">Weekend in Taipei</a></h2>]"
      ]
     },
     "execution_count": 30,
     "metadata": {},
     "output_type": "execute_result"
    }
   ],
   "source": [
    "movies = soup.select(\".content h2\")[3:]\n",
    "movies"
   ]
  },
  {
   "cell_type": "code",
   "execution_count": 26,
   "metadata": {},
   "outputs": [
    {
     "data": {
      "text/plain": [
       "['Red One',\n",
       " 'Venom: The Last Dance',\n",
       " 'Moana 2',\n",
       " 'Mufasa: The Lion King',\n",
       " 'Sonic the Hedgehog 3',\n",
       " 'Elevation',\n",
       " 'The Price of Money: A Largo Winch Adventure',\n",
       " 'कैरी-ऑन',\n",
       " 'Kraven the Hunter',\n",
       " 'Absolution',\n",
       " 'Gladiator II',\n",
       " 'The Wild Robot',\n",
       " 'Heretic',\n",
       " 'वह यादगार क्रिसमस',\n",
       " 'Armor',\n",
       " 'The Substance',\n",
       " 'Terrifier 3',\n",
       " 'My Fault',\n",
       " 'Miraculous World, London: At the Edge of Time',\n",
       " 'Weekend in Taipei']"
      ]
     },
     "execution_count": 26,
     "metadata": {},
     "output_type": "execute_result"
    }
   ],
   "source": [
    "# Titles of all the movies on the page as a Python list\n",
    "def title_grabber(soup: BeautifulSoup) -> list:\n",
    "    titles = []\n",
    "    movies = soup.select(\".content h2\")[3:]\n",
    "    for movie in movies:\n",
    "        a_tag = movie.find(\"a\", title = True)\n",
    "        if a_tag:\n",
    "            titles.append(a_tag[\"title\"])\n",
    "    return titles\n",
    "    \n",
    "        \n",
    "title_grabber(vaccumed)"
   ]
  },
  {
   "cell_type": "code",
   "execution_count": 12,
   "metadata": {},
   "outputs": [
    {
     "data": {
      "text/plain": [
       "[<div class=\"user_score_chart 60da7a05b33903005e231f75\" data-bar-color=\"#21d07a\" data-percent=\"70\" data-track-color=\"#204529\">\n",
       " <div class=\"percent\">\n",
       " <span class=\"icon icon-r70\"></span>\n",
       " </div>\n",
       " </div>,\n",
       " <div class=\"user_score_chart 61aecf2233ad8f0040958e37\" data-bar-color=\"#d2d531\" data-percent=\"68\" data-track-color=\"#423d0f\">\n",
       " <div class=\"percent\">\n",
       " <span class=\"icon icon-r68\"></span>\n",
       " </div>\n",
       " </div>,\n",
       " <div class=\"user_score_chart 5fa9c3759ac5350041b9b405\" data-bar-color=\"#21d07a\" data-percent=\"71\" data-track-color=\"#204529\">\n",
       " <div class=\"percent\">\n",
       " <span class=\"icon icon-r71\"></span>\n",
       " </div>\n",
       " </div>,\n",
       " <div class=\"user_score_chart 65c3f3538c0a48018486a7d6\" data-bar-color=\"#21d07a\" data-percent=\"70\" data-track-color=\"#204529\">\n",
       " <div class=\"percent\">\n",
       " <span class=\"icon icon-r70\"></span>\n",
       " </div>\n",
       " </div>,\n",
       " <div class=\"user_score_chart 62e179f747c9fb016b0be09b\" data-bar-color=\"#21d07a\" data-percent=\"70\" data-track-color=\"#204529\">\n",
       " <div class=\"percent\">\n",
       " <span class=\"icon icon-r70\"></span>\n",
       " </div>\n",
       " </div>,\n",
       " <div class=\"user_score_chart 620c3fd1b458b8006d475b10\" data-bar-color=\"#21d07a\" data-percent=\"79\" data-track-color=\"#204529\">\n",
       " <div class=\"percent\">\n",
       " <span class=\"icon icon-r79\"></span>\n",
       " </div>\n",
       " </div>,\n",
       " <div class=\"user_score_chart 6363ece0858678007a1caf87\" data-bar-color=\"#d2d531\" data-percent=\"61\" data-track-color=\"#423d0f\">\n",
       " <div class=\"percent\">\n",
       " <span class=\"icon icon-r61\"></span>\n",
       " </div>\n",
       " </div>,\n",
       " <div class=\"user_score_chart 62d171e483ee67007195f9ad\" data-bar-color=\"#d2d531\" data-percent=\"57\" data-track-color=\"#423d0f\">\n",
       " <div class=\"percent\">\n",
       " <span class=\"icon icon-r57\"></span>\n",
       " </div>\n",
       " </div>,\n",
       " <div class=\"user_score_chart 63484d190e29a200792f647c\" data-bar-color=\"#d2d531\" data-percent=\"63\" data-track-color=\"#423d0f\">\n",
       " <div class=\"percent\">\n",
       " <span class=\"icon icon-r63\"></span>\n",
       " </div>\n",
       " </div>,\n",
       " <div class=\"user_score_chart 5b632872c3a3681897032208\" data-bar-color=\"#d2d531\" data-percent=\"58\" data-track-color=\"#423d0f\">\n",
       " <div class=\"percent\">\n",
       " <span class=\"icon icon-r58\"></span>\n",
       " </div>\n",
       " </div>,\n",
       " <div class=\"user_score_chart 627b85746636270ce46a5a34\" data-bar-color=\"#d2d531\" data-percent=\"61\" data-track-color=\"#423d0f\">\n",
       " <div class=\"percent\">\n",
       " <span class=\"icon icon-r61\"></span>\n",
       " </div>\n",
       " </div>,\n",
       " <div class=\"user_score_chart 5bdc0faf0e0a26334500897a\" data-bar-color=\"#d2d531\" data-percent=\"67\" data-track-color=\"#423d0f\">\n",
       " <div class=\"percent\">\n",
       " <span class=\"icon icon-r67\"></span>\n",
       " </div>\n",
       " </div>,\n",
       " <div class=\"user_score_chart 6515fcb9c50ad200ad7f4027\" data-bar-color=\"#21d07a\" data-percent=\"84\" data-track-color=\"#204529\">\n",
       " <div class=\"percent\">\n",
       " <span class=\"icon icon-r84\"></span>\n",
       " </div>\n",
       " </div>,\n",
       " <div class=\"user_score_chart 650eb9ea6f53e10aa673e80f\" data-bar-color=\"#d2d531\" data-percent=\"55\" data-track-color=\"#423d0f\">\n",
       " <div class=\"percent\">\n",
       " <span class=\"icon icon-r55\"></span>\n",
       " </div>\n",
       " </div>,\n",
       " <div class=\"user_score_chart 5dc2e7767d2bc100173bf5ed\" data-bar-color=\"#21d07a\" data-percent=\"73\" data-track-color=\"#204529\">\n",
       " <div class=\"percent\">\n",
       " <span class=\"icon icon-r73\"></span>\n",
       " </div>\n",
       " </div>,\n",
       " <div class=\"user_score_chart 61f85ce8b6abc400c1e45884\" data-bar-color=\"#21d07a\" data-percent=\"72\" data-track-color=\"#204529\">\n",
       " <div class=\"percent\">\n",
       " <span class=\"icon icon-r72\"></span>\n",
       " </div>\n",
       " </div>,\n",
       " <div class=\"user_score_chart 5b3b6b8ec3a3684b8900d8fd\" data-bar-color=\"#21d07a\" data-percent=\"77\" data-track-color=\"#204529\">\n",
       " <div class=\"percent\">\n",
       " <span class=\"icon icon-r77\"></span>\n",
       " </div>\n",
       " </div>,\n",
       " <div class=\"user_score_chart 665e4f94309ff30b5a219fdb\" data-bar-color=\"#21d07a\" data-percent=\"75\" data-track-color=\"#204529\">\n",
       " <div class=\"percent\">\n",
       " <span class=\"icon icon-r75\"></span>\n",
       " </div>\n",
       " </div>,\n",
       " <div class=\"user_score_chart 62f2a773e72fe800822db547\" data-bar-color=\"#21d07a\" data-percent=\"79\" data-track-color=\"#204529\">\n",
       " <div class=\"percent\">\n",
       " <span class=\"icon icon-r79\"></span>\n",
       " </div>\n",
       " </div>,\n",
       " <div class=\"user_score_chart 64835fdce375c000e24eb54b\" data-bar-color=\"#21d07a\" data-percent=\"72\" data-track-color=\"#204529\">\n",
       " <div class=\"percent\">\n",
       " <span class=\"icon icon-r72\"></span>\n",
       " </div>\n",
       " </div>]"
      ]
     },
     "execution_count": 12,
     "metadata": {},
     "output_type": "execute_result"
    }
   ],
   "source": [
    "soup.select(\".content .user_score_chart\")"
   ]
  },
  {
   "cell_type": "code",
   "execution_count": 17,
   "metadata": {},
   "outputs": [
    {
     "data": {
      "text/plain": [
       "['70',\n",
       " '68',\n",
       " '71',\n",
       " '70',\n",
       " '70',\n",
       " '79',\n",
       " '61',\n",
       " '57',\n",
       " '63',\n",
       " '58',\n",
       " '61',\n",
       " '67',\n",
       " '84',\n",
       " '55',\n",
       " '73',\n",
       " '72',\n",
       " '77',\n",
       " '75',\n",
       " '79',\n",
       " '72']"
      ]
     },
     "execution_count": 17,
     "metadata": {},
     "output_type": "execute_result"
    }
   ],
   "source": [
    "# User ratings of all the movies on the page as a Python list \n",
    "def rating_grabber(soup: BeautifulSoup) -> list:\n",
    "    user_score = []\n",
    "    scores = soup.select(\".content .user_score_chart\")\n",
    "\n",
    "    for score in scores:\n",
    "        percent = score[\"data-percent\"]\n",
    "        user_score.append(percent)\n",
    "\n",
    "    return user_score\n",
    "rating_grabber(vaccumed)"
   ]
  },
  {
   "cell_type": "code",
   "execution_count": null,
   "metadata": {},
   "outputs": [],
   "source": []
  }
 ],
 "metadata": {
  "kernelspec": {
   "display_name": "base",
   "language": "python",
   "name": "python3"
  },
  "language_info": {
   "codemirror_mode": {
    "name": "ipython",
    "version": 3
   },
   "file_extension": ".py",
   "mimetype": "text/x-python",
   "name": "python",
   "nbconvert_exporter": "python",
   "pygments_lexer": "ipython3",
   "version": "3.12.7"
  }
 },
 "nbformat": 4,
 "nbformat_minor": 2
}
